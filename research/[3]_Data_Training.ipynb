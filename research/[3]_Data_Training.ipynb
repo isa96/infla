{
  "cells": [
    {
      "cell_type": "code",
      "execution_count": 1,
      "id": "nnyG44leqACQ",
      "metadata": {
        "colab": {
          "base_uri": "https://localhost:8080/"
        },
        "id": "nnyG44leqACQ",
        "outputId": "fafdbd7d-c4df-4015-cdc1-c32699be539c"
      },
      "outputs": [
        {
          "name": "stdout",
          "output_type": "stream",
          "text": [
            "Mounted at /content/drive\n"
          ]
        }
      ],
      "source": [
        "from google.colab import drive\n",
        "drive.mount('/content/drive')"
      ]
    },
    {
      "cell_type": "code",
      "execution_count": 2,
      "id": "VDNhsvPnp8ob",
      "metadata": {
        "colab": {
          "base_uri": "https://localhost:8080/"
        },
        "id": "VDNhsvPnp8ob",
        "outputId": "940a45c8-a7ba-4ea8-a8e2-5f3126a6cff3"
      },
      "outputs": [
        {
          "name": "stdout",
          "output_type": "stream",
          "text": [
            "/content/drive/MyDrive/Data Mining/aspect_based\n"
          ]
        }
      ],
      "source": [
        "%cd /content/drive/MyDrive/Data Mining/aspect_based"
      ]
    },
    {
      "cell_type": "code",
      "execution_count": 3,
      "id": "1e09e3f8",
      "metadata": {
        "id": "1e09e3f8"
      },
      "outputs": [],
      "source": [
        "import os\n",
        "import re\n",
        "import requests\n",
        "import unicodedata\n",
        "import numpy as np\n",
        "import pandas as pd\n",
        "import seaborn as sns\n",
        "from tqdm import tqdm\n",
        "import matplotlib as mpl\n",
        "import matplotlib.pyplot as plt\n",
        "from nltk.corpus import stopwords\n",
        "from warnings import filterwarnings\n",
        "from sklearn.preprocessing import LabelEncoder"
      ]
    },
    {
      "cell_type": "code",
      "execution_count": 4,
      "id": "31d002ee",
      "metadata": {
        "id": "31d002ee"
      },
      "outputs": [],
      "source": [
        "mpl.rcParams['axes.spines.left'] = False\n",
        "mpl.rcParams['axes.spines.right'] = False\n",
        "mpl.rcParams['axes.spines.top'] = False\n",
        "mpl.rcParams['axes.spines.bottom'] = False"
      ]
    },
    {
      "cell_type": "code",
      "execution_count": 5,
      "id": "b4ab2dd1",
      "metadata": {
        "id": "b4ab2dd1"
      },
      "outputs": [],
      "source": [
        "tqdm.pandas()"
      ]
    },
    {
      "cell_type": "code",
      "execution_count": null,
      "id": "42fac7bf",
      "metadata": {
        "id": "42fac7bf"
      },
      "outputs": [],
      "source": [
        "STOPWORDS_BAHASA = stopwords.words(\"indonesian\") + [',', 'di', \":\"]"
      ]
    },
    {
      "cell_type": "code",
      "execution_count": null,
      "id": "b71cf99f",
      "metadata": {
        "id": "b71cf99f",
        "outputId": "59362103-b871-4952-d61f-4430e53a065b"
      },
      "outputs": [
        {
          "data": {
            "text/plain": [
              "['ABSA_data_bank_label.xlsx',\n",
              " 'ABSA_data_pangan_label.xlsx',\n",
              " 'ABSA_data_pemerintah_label.xlsx']"
            ]
          },
          "execution_count": 12,
          "metadata": {},
          "output_type": "execute_result"
        }
      ],
      "source": [
        "[i for i in os.listdir() if \"label\" in i]"
      ]
    },
    {
      "cell_type": "markdown",
      "id": "4da20fde",
      "metadata": {
        "id": "4da20fde"
      },
      "source": [
        "# 1. Feature Engineering"
      ]
    },
    {
      "cell_type": "code",
      "execution_count": 6,
      "id": "56dlZvCqqS_p",
      "metadata": {
        "id": "56dlZvCqqS_p"
      },
      "outputs": [],
      "source": [
        "# read preprocessed dataset\n",
        "data_bank_final   = pd.read_excel(\"final_data_bank.xlsx\")\n",
        "data_pangan_final = pd.read_excel(\"final_data_pangan.xlsx\") \n",
        "data_gove_final   = pd.read_excel(\"final_data_pemerintah.xlsx\")"
      ]
    },
    {
      "cell_type": "markdown",
      "id": "7a2bd356",
      "metadata": {
        "id": "7a2bd356"
      },
      "source": [
        "## 1.1 Label Encoder of Sentiment and Aspect on Bank Dataset"
      ]
    },
    {
      "cell_type": "code",
      "execution_count": null,
      "id": "0f1cf22f",
      "metadata": {
        "id": "0f1cf22f"
      },
      "outputs": [],
      "source": [
        "# define label encoder\n",
        "encoder_sentiment = LabelEncoder()\n",
        "encoder_aspect    = LabelEncoder()"
      ]
    },
    {
      "cell_type": "code",
      "execution_count": null,
      "id": "0d87e132",
      "metadata": {
        "id": "0d87e132"
      },
      "outputs": [],
      "source": [
        "# transform label data into numerical\n",
        "data_bank_final['aspect_numerical'] = encoder_aspect.fit_transform(data_bank_final['aspect'])\n",
        "data_bank_final['label_numerical']  = encoder_sentiment.fit_transform(data_bank_final['label'])"
      ]
    },
    {
      "cell_type": "code",
      "execution_count": null,
      "id": "e54a83c0",
      "metadata": {
        "colab": {
          "base_uri": "https://localhost:8080/",
          "height": 206
        },
        "id": "e54a83c0",
        "outputId": "30de0b74-aa21-44b8-dce8-8fb59477f85c"
      },
      "outputs": [
        {
          "data": {
            "text/html": [
              "\n",
              "  <div id=\"df-b0c8c0b4-3fca-4376-a9f6-b335ed157216\">\n",
              "    <div class=\"colab-df-container\">\n",
              "      <div>\n",
              "<style scoped>\n",
              "    .dataframe tbody tr th:only-of-type {\n",
              "        vertical-align: middle;\n",
              "    }\n",
              "\n",
              "    .dataframe tbody tr th {\n",
              "        vertical-align: top;\n",
              "    }\n",
              "\n",
              "    .dataframe thead th {\n",
              "        text-align: right;\n",
              "    }\n",
              "</style>\n",
              "<table border=\"1\" class=\"dataframe\">\n",
              "  <thead>\n",
              "    <tr style=\"text-align: right;\">\n",
              "      <th></th>\n",
              "      <th>sentence</th>\n",
              "      <th>aspect</th>\n",
              "      <th>label</th>\n",
              "      <th>aspect_numerical</th>\n",
              "      <th>label_numerical</th>\n",
              "    </tr>\n",
              "  </thead>\n",
              "  <tbody>\n",
              "    <tr>\n",
              "      <th>0</th>\n",
              "      <td>Jakarta ANTARA  Sejumlah informasi penting men...</td>\n",
              "      <td>Economy</td>\n",
              "      <td>neutral</td>\n",
              "      <td>2</td>\n",
              "      <td>1</td>\n",
              "    </tr>\n",
              "    <tr>\n",
              "      <th>1</th>\n",
              "      <td>mulai dari turunnya cadangan devisa Indonesia ...</td>\n",
              "      <td>Economy</td>\n",
              "      <td>neutral</td>\n",
              "      <td>2</td>\n",
              "      <td>1</td>\n",
              "    </tr>\n",
              "    <tr>\n",
              "      <th>2</th>\n",
              "      <td>Presiden ingatkan BPJS Ketenagakerjaan kelola ...</td>\n",
              "      <td>Economy</td>\n",
              "      <td>neutral</td>\n",
              "      <td>2</td>\n",
              "      <td>1</td>\n",
              "    </tr>\n",
              "    <tr>\n",
              "      <th>3</th>\n",
              "      <td>Ketua IMF soroti perubahan mendasar dalam ekon...</td>\n",
              "      <td>Economy</td>\n",
              "      <td>neutral</td>\n",
              "      <td>2</td>\n",
              "      <td>1</td>\n",
              "    </tr>\n",
              "    <tr>\n",
              "      <th>4</th>\n",
              "      <td>Ketua IMF soroti perubahan mendasar dalam ekon...</td>\n",
              "      <td>Economy</td>\n",
              "      <td>neutral</td>\n",
              "      <td>2</td>\n",
              "      <td>1</td>\n",
              "    </tr>\n",
              "  </tbody>\n",
              "</table>\n",
              "</div>\n",
              "      <button class=\"colab-df-convert\" onclick=\"convertToInteractive('df-b0c8c0b4-3fca-4376-a9f6-b335ed157216')\"\n",
              "              title=\"Convert this dataframe to an interactive table.\"\n",
              "              style=\"display:none;\">\n",
              "        \n",
              "  <svg xmlns=\"http://www.w3.org/2000/svg\" height=\"24px\"viewBox=\"0 0 24 24\"\n",
              "       width=\"24px\">\n",
              "    <path d=\"M0 0h24v24H0V0z\" fill=\"none\"/>\n",
              "    <path d=\"M18.56 5.44l.94 2.06.94-2.06 2.06-.94-2.06-.94-.94-2.06-.94 2.06-2.06.94zm-11 1L8.5 8.5l.94-2.06 2.06-.94-2.06-.94L8.5 2.5l-.94 2.06-2.06.94zm10 10l.94 2.06.94-2.06 2.06-.94-2.06-.94-.94-2.06-.94 2.06-2.06.94z\"/><path d=\"M17.41 7.96l-1.37-1.37c-.4-.4-.92-.59-1.43-.59-.52 0-1.04.2-1.43.59L10.3 9.45l-7.72 7.72c-.78.78-.78 2.05 0 2.83L4 21.41c.39.39.9.59 1.41.59.51 0 1.02-.2 1.41-.59l7.78-7.78 2.81-2.81c.8-.78.8-2.07 0-2.86zM5.41 20L4 18.59l7.72-7.72 1.47 1.35L5.41 20z\"/>\n",
              "  </svg>\n",
              "      </button>\n",
              "      \n",
              "  <style>\n",
              "    .colab-df-container {\n",
              "      display:flex;\n",
              "      flex-wrap:wrap;\n",
              "      gap: 12px;\n",
              "    }\n",
              "\n",
              "    .colab-df-convert {\n",
              "      background-color: #E8F0FE;\n",
              "      border: none;\n",
              "      border-radius: 50%;\n",
              "      cursor: pointer;\n",
              "      display: none;\n",
              "      fill: #1967D2;\n",
              "      height: 32px;\n",
              "      padding: 0 0 0 0;\n",
              "      width: 32px;\n",
              "    }\n",
              "\n",
              "    .colab-df-convert:hover {\n",
              "      background-color: #E2EBFA;\n",
              "      box-shadow: 0px 1px 2px rgba(60, 64, 67, 0.3), 0px 1px 3px 1px rgba(60, 64, 67, 0.15);\n",
              "      fill: #174EA6;\n",
              "    }\n",
              "\n",
              "    [theme=dark] .colab-df-convert {\n",
              "      background-color: #3B4455;\n",
              "      fill: #D2E3FC;\n",
              "    }\n",
              "\n",
              "    [theme=dark] .colab-df-convert:hover {\n",
              "      background-color: #434B5C;\n",
              "      box-shadow: 0px 1px 3px 1px rgba(0, 0, 0, 0.15);\n",
              "      filter: drop-shadow(0px 1px 2px rgba(0, 0, 0, 0.3));\n",
              "      fill: #FFFFFF;\n",
              "    }\n",
              "  </style>\n",
              "\n",
              "      <script>\n",
              "        const buttonEl =\n",
              "          document.querySelector('#df-b0c8c0b4-3fca-4376-a9f6-b335ed157216 button.colab-df-convert');\n",
              "        buttonEl.style.display =\n",
              "          google.colab.kernel.accessAllowed ? 'block' : 'none';\n",
              "\n",
              "        async function convertToInteractive(key) {\n",
              "          const element = document.querySelector('#df-b0c8c0b4-3fca-4376-a9f6-b335ed157216');\n",
              "          const dataTable =\n",
              "            await google.colab.kernel.invokeFunction('convertToInteractive',\n",
              "                                                     [key], {});\n",
              "          if (!dataTable) return;\n",
              "\n",
              "          const docLinkHtml = 'Like what you see? Visit the ' +\n",
              "            '<a target=\"_blank\" href=https://colab.research.google.com/notebooks/data_table.ipynb>data table notebook</a>'\n",
              "            + ' to learn more about interactive tables.';\n",
              "          element.innerHTML = '';\n",
              "          dataTable['output_type'] = 'display_data';\n",
              "          await google.colab.output.renderOutput(dataTable, element);\n",
              "          const docLink = document.createElement('div');\n",
              "          docLink.innerHTML = docLinkHtml;\n",
              "          element.appendChild(docLink);\n",
              "        }\n",
              "      </script>\n",
              "    </div>\n",
              "  </div>\n",
              "  "
            ],
            "text/plain": [
              "                                            sentence   aspect    label  \\\n",
              "0  Jakarta ANTARA  Sejumlah informasi penting men...  Economy  neutral   \n",
              "1  mulai dari turunnya cadangan devisa Indonesia ...  Economy  neutral   \n",
              "2  Presiden ingatkan BPJS Ketenagakerjaan kelola ...  Economy  neutral   \n",
              "3  Ketua IMF soroti perubahan mendasar dalam ekon...  Economy  neutral   \n",
              "4  Ketua IMF soroti perubahan mendasar dalam ekon...  Economy  neutral   \n",
              "\n",
              "   aspect_numerical  label_numerical  \n",
              "0                 2                1  \n",
              "1                 2                1  \n",
              "2                 2                1  \n",
              "3                 2                1  \n",
              "4                 2                1  "
            ]
          },
          "execution_count": 11,
          "metadata": {},
          "output_type": "execute_result"
        }
      ],
      "source": [
        "# overview dataset\n",
        "data_bank_final.head()"
      ]
    },
    {
      "cell_type": "markdown",
      "id": "bcdf6da0",
      "metadata": {
        "id": "bcdf6da0"
      },
      "source": [
        "## 1.2 Label Encoder of Sentiment and Aspect on Food Dataset"
      ]
    },
    {
      "cell_type": "code",
      "execution_count": null,
      "id": "33ec39f1",
      "metadata": {
        "id": "33ec39f1"
      },
      "outputs": [],
      "source": [
        "# define label encoder\n",
        "encoder_sentiment = LabelEncoder()\n",
        "encoder_aspect    = LabelEncoder()"
      ]
    },
    {
      "cell_type": "code",
      "execution_count": null,
      "id": "fe39e2bb",
      "metadata": {
        "id": "fe39e2bb"
      },
      "outputs": [],
      "source": [
        "# transform label data into numerical\n",
        "data_pangan_final['aspect_numerical'] = encoder_aspect.fit_transform(data_pangan_final['aspect'])\n",
        "data_pangan_final['label_numerical']  = encoder_sentiment.fit_transform(data_pangan_final['label'])"
      ]
    },
    {
      "cell_type": "code",
      "execution_count": null,
      "id": "eedf534f",
      "metadata": {
        "colab": {
          "base_uri": "https://localhost:8080/",
          "height": 206
        },
        "id": "eedf534f",
        "outputId": "989f626f-0de3-478b-e088-dddf8bd48bc9"
      },
      "outputs": [
        {
          "data": {
            "text/html": [
              "\n",
              "  <div id=\"df-d6ed6061-85a5-47c8-becd-49c92a4671ad\">\n",
              "    <div class=\"colab-df-container\">\n",
              "      <div>\n",
              "<style scoped>\n",
              "    .dataframe tbody tr th:only-of-type {\n",
              "        vertical-align: middle;\n",
              "    }\n",
              "\n",
              "    .dataframe tbody tr th {\n",
              "        vertical-align: top;\n",
              "    }\n",
              "\n",
              "    .dataframe thead th {\n",
              "        text-align: right;\n",
              "    }\n",
              "</style>\n",
              "<table border=\"1\" class=\"dataframe\">\n",
              "  <thead>\n",
              "    <tr style=\"text-align: right;\">\n",
              "      <th></th>\n",
              "      <th>sentence</th>\n",
              "      <th>aspect</th>\n",
              "      <th>label</th>\n",
              "      <th>aspect_numerical</th>\n",
              "      <th>label_numerical</th>\n",
              "    </tr>\n",
              "  </thead>\n",
              "  <tbody>\n",
              "    <tr>\n",
              "      <th>0</th>\n",
              "      <td>Jakarta ANTARA  Sejumlah informasi penting men...</td>\n",
              "      <td>Economy</td>\n",
              "      <td>neutral</td>\n",
              "      <td>0</td>\n",
              "      <td>1</td>\n",
              "    </tr>\n",
              "    <tr>\n",
              "      <th>1</th>\n",
              "      <td>mulai dari turunnya cadangan devisa Indonesia ...</td>\n",
              "      <td>Economy</td>\n",
              "      <td>neutral</td>\n",
              "      <td>0</td>\n",
              "      <td>1</td>\n",
              "    </tr>\n",
              "    <tr>\n",
              "      <th>2</th>\n",
              "      <td>Presiden ingatkan BPJS Ketenagakerjaan kelola ...</td>\n",
              "      <td>Economy</td>\n",
              "      <td>neutral</td>\n",
              "      <td>0</td>\n",
              "      <td>1</td>\n",
              "    </tr>\n",
              "    <tr>\n",
              "      <th>3</th>\n",
              "      <td>Ketua IMF soroti perubahan mendasar dalam ekon...</td>\n",
              "      <td>Economy</td>\n",
              "      <td>neutral</td>\n",
              "      <td>0</td>\n",
              "      <td>1</td>\n",
              "    </tr>\n",
              "    <tr>\n",
              "      <th>4</th>\n",
              "      <td>Ketua IMF soroti perubahan mendasar dalam ekon...</td>\n",
              "      <td>Economy</td>\n",
              "      <td>neutral</td>\n",
              "      <td>0</td>\n",
              "      <td>1</td>\n",
              "    </tr>\n",
              "  </tbody>\n",
              "</table>\n",
              "</div>\n",
              "      <button class=\"colab-df-convert\" onclick=\"convertToInteractive('df-d6ed6061-85a5-47c8-becd-49c92a4671ad')\"\n",
              "              title=\"Convert this dataframe to an interactive table.\"\n",
              "              style=\"display:none;\">\n",
              "        \n",
              "  <svg xmlns=\"http://www.w3.org/2000/svg\" height=\"24px\"viewBox=\"0 0 24 24\"\n",
              "       width=\"24px\">\n",
              "    <path d=\"M0 0h24v24H0V0z\" fill=\"none\"/>\n",
              "    <path d=\"M18.56 5.44l.94 2.06.94-2.06 2.06-.94-2.06-.94-.94-2.06-.94 2.06-2.06.94zm-11 1L8.5 8.5l.94-2.06 2.06-.94-2.06-.94L8.5 2.5l-.94 2.06-2.06.94zm10 10l.94 2.06.94-2.06 2.06-.94-2.06-.94-.94-2.06-.94 2.06-2.06.94z\"/><path d=\"M17.41 7.96l-1.37-1.37c-.4-.4-.92-.59-1.43-.59-.52 0-1.04.2-1.43.59L10.3 9.45l-7.72 7.72c-.78.78-.78 2.05 0 2.83L4 21.41c.39.39.9.59 1.41.59.51 0 1.02-.2 1.41-.59l7.78-7.78 2.81-2.81c.8-.78.8-2.07 0-2.86zM5.41 20L4 18.59l7.72-7.72 1.47 1.35L5.41 20z\"/>\n",
              "  </svg>\n",
              "      </button>\n",
              "      \n",
              "  <style>\n",
              "    .colab-df-container {\n",
              "      display:flex;\n",
              "      flex-wrap:wrap;\n",
              "      gap: 12px;\n",
              "    }\n",
              "\n",
              "    .colab-df-convert {\n",
              "      background-color: #E8F0FE;\n",
              "      border: none;\n",
              "      border-radius: 50%;\n",
              "      cursor: pointer;\n",
              "      display: none;\n",
              "      fill: #1967D2;\n",
              "      height: 32px;\n",
              "      padding: 0 0 0 0;\n",
              "      width: 32px;\n",
              "    }\n",
              "\n",
              "    .colab-df-convert:hover {\n",
              "      background-color: #E2EBFA;\n",
              "      box-shadow: 0px 1px 2px rgba(60, 64, 67, 0.3), 0px 1px 3px 1px rgba(60, 64, 67, 0.15);\n",
              "      fill: #174EA6;\n",
              "    }\n",
              "\n",
              "    [theme=dark] .colab-df-convert {\n",
              "      background-color: #3B4455;\n",
              "      fill: #D2E3FC;\n",
              "    }\n",
              "\n",
              "    [theme=dark] .colab-df-convert:hover {\n",
              "      background-color: #434B5C;\n",
              "      box-shadow: 0px 1px 3px 1px rgba(0, 0, 0, 0.15);\n",
              "      filter: drop-shadow(0px 1px 2px rgba(0, 0, 0, 0.3));\n",
              "      fill: #FFFFFF;\n",
              "    }\n",
              "  </style>\n",
              "\n",
              "      <script>\n",
              "        const buttonEl =\n",
              "          document.querySelector('#df-d6ed6061-85a5-47c8-becd-49c92a4671ad button.colab-df-convert');\n",
              "        buttonEl.style.display =\n",
              "          google.colab.kernel.accessAllowed ? 'block' : 'none';\n",
              "\n",
              "        async function convertToInteractive(key) {\n",
              "          const element = document.querySelector('#df-d6ed6061-85a5-47c8-becd-49c92a4671ad');\n",
              "          const dataTable =\n",
              "            await google.colab.kernel.invokeFunction('convertToInteractive',\n",
              "                                                     [key], {});\n",
              "          if (!dataTable) return;\n",
              "\n",
              "          const docLinkHtml = 'Like what you see? Visit the ' +\n",
              "            '<a target=\"_blank\" href=https://colab.research.google.com/notebooks/data_table.ipynb>data table notebook</a>'\n",
              "            + ' to learn more about interactive tables.';\n",
              "          element.innerHTML = '';\n",
              "          dataTable['output_type'] = 'display_data';\n",
              "          await google.colab.output.renderOutput(dataTable, element);\n",
              "          const docLink = document.createElement('div');\n",
              "          docLink.innerHTML = docLinkHtml;\n",
              "          element.appendChild(docLink);\n",
              "        }\n",
              "      </script>\n",
              "    </div>\n",
              "  </div>\n",
              "  "
            ],
            "text/plain": [
              "                                            sentence   aspect    label  \\\n",
              "0  Jakarta ANTARA  Sejumlah informasi penting men...  Economy  neutral   \n",
              "1  mulai dari turunnya cadangan devisa Indonesia ...  Economy  neutral   \n",
              "2  Presiden ingatkan BPJS Ketenagakerjaan kelola ...  Economy  neutral   \n",
              "3  Ketua IMF soroti perubahan mendasar dalam ekon...  Economy  neutral   \n",
              "4  Ketua IMF soroti perubahan mendasar dalam ekon...  Economy  neutral   \n",
              "\n",
              "   aspect_numerical  label_numerical  \n",
              "0                 0                1  \n",
              "1                 0                1  \n",
              "2                 0                1  \n",
              "3                 0                1  \n",
              "4                 0                1  "
            ]
          },
          "execution_count": 14,
          "metadata": {},
          "output_type": "execute_result"
        }
      ],
      "source": [
        "# overview dataset\n",
        "data_pangan_final.head()"
      ]
    },
    {
      "cell_type": "markdown",
      "id": "41bda3a7",
      "metadata": {
        "id": "41bda3a7"
      },
      "source": [
        "## 1.3 Label Encoder of Sentiment and Aspect on Goverment Dataset"
      ]
    },
    {
      "cell_type": "code",
      "execution_count": 7,
      "id": "6d6f5358",
      "metadata": {
        "id": "6d6f5358"
      },
      "outputs": [],
      "source": [
        "# define label encoder\n",
        "encoder_sentiment = LabelEncoder()\n",
        "encoder_aspect    = LabelEncoder()"
      ]
    },
    {
      "cell_type": "code",
      "execution_count": 8,
      "id": "65299b97",
      "metadata": {
        "id": "65299b97"
      },
      "outputs": [],
      "source": [
        "# transform label data into numerical\n",
        "data_gove_final['aspect_numerical'] = encoder_aspect.fit_transform(data_gove_final['aspect'])\n",
        "data_gove_final['label_numerical']  = encoder_sentiment.fit_transform(data_gove_final['label'])"
      ]
    },
    {
      "cell_type": "code",
      "execution_count": 9,
      "id": "1a3b0c55",
      "metadata": {
        "colab": {
          "base_uri": "https://localhost:8080/",
          "height": 206
        },
        "id": "1a3b0c55",
        "outputId": "ffed47a0-84c9-4682-9846-058514c7f16b"
      },
      "outputs": [
        {
          "data": {
            "text/html": [
              "\n",
              "  <div id=\"df-2a17da18-1e15-469a-8ada-a0932257896d\">\n",
              "    <div class=\"colab-df-container\">\n",
              "      <div>\n",
              "<style scoped>\n",
              "    .dataframe tbody tr th:only-of-type {\n",
              "        vertical-align: middle;\n",
              "    }\n",
              "\n",
              "    .dataframe tbody tr th {\n",
              "        vertical-align: top;\n",
              "    }\n",
              "\n",
              "    .dataframe thead th {\n",
              "        text-align: right;\n",
              "    }\n",
              "</style>\n",
              "<table border=\"1\" class=\"dataframe\">\n",
              "  <thead>\n",
              "    <tr style=\"text-align: right;\">\n",
              "      <th></th>\n",
              "      <th>sentence</th>\n",
              "      <th>aspect</th>\n",
              "      <th>label</th>\n",
              "      <th>aspect_numerical</th>\n",
              "      <th>label_numerical</th>\n",
              "    </tr>\n",
              "  </thead>\n",
              "  <tbody>\n",
              "    <tr>\n",
              "      <th>0</th>\n",
              "      <td>8 miliar dolar ASBank Indonesia BI mencatat po...</td>\n",
              "      <td>Banking</td>\n",
              "      <td>neutral</td>\n",
              "      <td>0</td>\n",
              "      <td>1</td>\n",
              "    </tr>\n",
              "    <tr>\n",
              "      <th>1</th>\n",
              "      <td>setelah laporan pekerjaan yang kuat untuk Sept...</td>\n",
              "      <td>Banking</td>\n",
              "      <td>neutral</td>\n",
              "      <td>0</td>\n",
              "      <td>1</td>\n",
              "    </tr>\n",
              "    <tr>\n",
              "      <th>2</th>\n",
              "      <td>Pasar uang meningkatkan peluang menjadi 92 per...</td>\n",
              "      <td>Banking</td>\n",
              "      <td>neutral</td>\n",
              "      <td>0</td>\n",
              "      <td>1</td>\n",
              "    </tr>\n",
              "    <tr>\n",
              "      <th>3</th>\n",
              "      <td>Presiden The Fed New York John Williams mengat...</td>\n",
              "      <td>Banking</td>\n",
              "      <td>neutral</td>\n",
              "      <td>0</td>\n",
              "      <td>1</td>\n",
              "    </tr>\n",
              "    <tr>\n",
              "      <th>4</th>\n",
              "      <td>Data tersebut memperkuat kenaikan suku bunga s...</td>\n",
              "      <td>Banking</td>\n",
              "      <td>neutral</td>\n",
              "      <td>0</td>\n",
              "      <td>1</td>\n",
              "    </tr>\n",
              "  </tbody>\n",
              "</table>\n",
              "</div>\n",
              "      <button class=\"colab-df-convert\" onclick=\"convertToInteractive('df-2a17da18-1e15-469a-8ada-a0932257896d')\"\n",
              "              title=\"Convert this dataframe to an interactive table.\"\n",
              "              style=\"display:none;\">\n",
              "        \n",
              "  <svg xmlns=\"http://www.w3.org/2000/svg\" height=\"24px\"viewBox=\"0 0 24 24\"\n",
              "       width=\"24px\">\n",
              "    <path d=\"M0 0h24v24H0V0z\" fill=\"none\"/>\n",
              "    <path d=\"M18.56 5.44l.94 2.06.94-2.06 2.06-.94-2.06-.94-.94-2.06-.94 2.06-2.06.94zm-11 1L8.5 8.5l.94-2.06 2.06-.94-2.06-.94L8.5 2.5l-.94 2.06-2.06.94zm10 10l.94 2.06.94-2.06 2.06-.94-2.06-.94-.94-2.06-.94 2.06-2.06.94z\"/><path d=\"M17.41 7.96l-1.37-1.37c-.4-.4-.92-.59-1.43-.59-.52 0-1.04.2-1.43.59L10.3 9.45l-7.72 7.72c-.78.78-.78 2.05 0 2.83L4 21.41c.39.39.9.59 1.41.59.51 0 1.02-.2 1.41-.59l7.78-7.78 2.81-2.81c.8-.78.8-2.07 0-2.86zM5.41 20L4 18.59l7.72-7.72 1.47 1.35L5.41 20z\"/>\n",
              "  </svg>\n",
              "      </button>\n",
              "      \n",
              "  <style>\n",
              "    .colab-df-container {\n",
              "      display:flex;\n",
              "      flex-wrap:wrap;\n",
              "      gap: 12px;\n",
              "    }\n",
              "\n",
              "    .colab-df-convert {\n",
              "      background-color: #E8F0FE;\n",
              "      border: none;\n",
              "      border-radius: 50%;\n",
              "      cursor: pointer;\n",
              "      display: none;\n",
              "      fill: #1967D2;\n",
              "      height: 32px;\n",
              "      padding: 0 0 0 0;\n",
              "      width: 32px;\n",
              "    }\n",
              "\n",
              "    .colab-df-convert:hover {\n",
              "      background-color: #E2EBFA;\n",
              "      box-shadow: 0px 1px 2px rgba(60, 64, 67, 0.3), 0px 1px 3px 1px rgba(60, 64, 67, 0.15);\n",
              "      fill: #174EA6;\n",
              "    }\n",
              "\n",
              "    [theme=dark] .colab-df-convert {\n",
              "      background-color: #3B4455;\n",
              "      fill: #D2E3FC;\n",
              "    }\n",
              "\n",
              "    [theme=dark] .colab-df-convert:hover {\n",
              "      background-color: #434B5C;\n",
              "      box-shadow: 0px 1px 3px 1px rgba(0, 0, 0, 0.15);\n",
              "      filter: drop-shadow(0px 1px 2px rgba(0, 0, 0, 0.3));\n",
              "      fill: #FFFFFF;\n",
              "    }\n",
              "  </style>\n",
              "\n",
              "      <script>\n",
              "        const buttonEl =\n",
              "          document.querySelector('#df-2a17da18-1e15-469a-8ada-a0932257896d button.colab-df-convert');\n",
              "        buttonEl.style.display =\n",
              "          google.colab.kernel.accessAllowed ? 'block' : 'none';\n",
              "\n",
              "        async function convertToInteractive(key) {\n",
              "          const element = document.querySelector('#df-2a17da18-1e15-469a-8ada-a0932257896d');\n",
              "          const dataTable =\n",
              "            await google.colab.kernel.invokeFunction('convertToInteractive',\n",
              "                                                     [key], {});\n",
              "          if (!dataTable) return;\n",
              "\n",
              "          const docLinkHtml = 'Like what you see? Visit the ' +\n",
              "            '<a target=\"_blank\" href=https://colab.research.google.com/notebooks/data_table.ipynb>data table notebook</a>'\n",
              "            + ' to learn more about interactive tables.';\n",
              "          element.innerHTML = '';\n",
              "          dataTable['output_type'] = 'display_data';\n",
              "          await google.colab.output.renderOutput(dataTable, element);\n",
              "          const docLink = document.createElement('div');\n",
              "          docLink.innerHTML = docLinkHtml;\n",
              "          element.appendChild(docLink);\n",
              "        }\n",
              "      </script>\n",
              "    </div>\n",
              "  </div>\n",
              "  "
            ],
            "text/plain": [
              "                                            sentence   aspect    label  \\\n",
              "0  8 miliar dolar ASBank Indonesia BI mencatat po...  Banking  neutral   \n",
              "1  setelah laporan pekerjaan yang kuat untuk Sept...  Banking  neutral   \n",
              "2  Pasar uang meningkatkan peluang menjadi 92 per...  Banking  neutral   \n",
              "3  Presiden The Fed New York John Williams mengat...  Banking  neutral   \n",
              "4  Data tersebut memperkuat kenaikan suku bunga s...  Banking  neutral   \n",
              "\n",
              "   aspect_numerical  label_numerical  \n",
              "0                 0                1  \n",
              "1                 0                1  \n",
              "2                 0                1  \n",
              "3                 0                1  \n",
              "4                 0                1  "
            ]
          },
          "execution_count": 9,
          "metadata": {},
          "output_type": "execute_result"
        }
      ],
      "source": [
        "# overview dataset\n",
        "data_gove_final.head()"
      ]
    },
    {
      "cell_type": "markdown",
      "id": "90e6b469",
      "metadata": {
        "id": "90e6b469"
      },
      "source": [
        "# 2. Data Modeling"
      ]
    },
    {
      "cell_type": "code",
      "execution_count": 10,
      "id": "N7RQRHMLqzfS",
      "metadata": {
        "colab": {
          "base_uri": "https://localhost:8080/"
        },
        "id": "N7RQRHMLqzfS",
        "outputId": "67227bae-a095-4ca1-a130-5a9018fac4e7"
      },
      "outputs": [
        {
          "name": "stdout",
          "output_type": "stream",
          "text": [
            "Looking in indexes: https://pypi.org/simple, https://us-python.pkg.dev/colab-wheels/public/simple/\n",
            "Collecting transformers\n",
            "  Downloading transformers-4.22.2-py3-none-any.whl (4.9 MB)\n",
            "\u001b[K     |████████████████████████████████| 4.9 MB 7.7 MB/s \n",
            "\u001b[?25hRequirement already satisfied: packaging>=20.0 in /usr/local/lib/python3.7/dist-packages (from transformers) (21.3)\n",
            "Collecting huggingface-hub<1.0,>=0.9.0\n",
            "  Downloading huggingface_hub-0.10.0-py3-none-any.whl (163 kB)\n",
            "\u001b[K     |████████████████████████████████| 163 kB 60.0 MB/s \n",
            "\u001b[?25hRequirement already satisfied: regex!=2019.12.17 in /usr/local/lib/python3.7/dist-packages (from transformers) (2022.6.2)\n",
            "Collecting tokenizers!=0.11.3,<0.13,>=0.11.1\n",
            "  Downloading tokenizers-0.12.1-cp37-cp37m-manylinux_2_12_x86_64.manylinux2010_x86_64.whl (6.6 MB)\n",
            "\u001b[K     |████████████████████████████████| 6.6 MB 49.9 MB/s \n",
            "\u001b[?25hRequirement already satisfied: pyyaml>=5.1 in /usr/local/lib/python3.7/dist-packages (from transformers) (6.0)\n",
            "Requirement already satisfied: filelock in /usr/local/lib/python3.7/dist-packages (from transformers) (3.8.0)\n",
            "Requirement already satisfied: numpy>=1.17 in /usr/local/lib/python3.7/dist-packages (from transformers) (1.21.6)\n",
            "Requirement already satisfied: tqdm>=4.27 in /usr/local/lib/python3.7/dist-packages (from transformers) (4.64.1)\n",
            "Requirement already satisfied: requests in /usr/local/lib/python3.7/dist-packages (from transformers) (2.23.0)\n",
            "Requirement already satisfied: importlib-metadata in /usr/local/lib/python3.7/dist-packages (from transformers) (5.0.0)\n",
            "Requirement already satisfied: typing-extensions>=3.7.4.3 in /usr/local/lib/python3.7/dist-packages (from huggingface-hub<1.0,>=0.9.0->transformers) (4.1.1)\n",
            "Requirement already satisfied: pyparsing!=3.0.5,>=2.0.2 in /usr/local/lib/python3.7/dist-packages (from packaging>=20.0->transformers) (3.0.9)\n",
            "Requirement already satisfied: zipp>=0.5 in /usr/local/lib/python3.7/dist-packages (from importlib-metadata->transformers) (3.8.1)\n",
            "Requirement already satisfied: certifi>=2017.4.17 in /usr/local/lib/python3.7/dist-packages (from requests->transformers) (2022.9.24)\n",
            "Requirement already satisfied: urllib3!=1.25.0,!=1.25.1,<1.26,>=1.21.1 in /usr/local/lib/python3.7/dist-packages (from requests->transformers) (1.24.3)\n",
            "Requirement already satisfied: idna<3,>=2.5 in /usr/local/lib/python3.7/dist-packages (from requests->transformers) (2.10)\n",
            "Requirement already satisfied: chardet<4,>=3.0.2 in /usr/local/lib/python3.7/dist-packages (from requests->transformers) (3.0.4)\n",
            "Installing collected packages: tokenizers, huggingface-hub, transformers\n",
            "Successfully installed huggingface-hub-0.10.0 tokenizers-0.12.1 transformers-4.22.2\n"
          ]
        }
      ],
      "source": [
        "# !pip install transformers"
      ]
    },
    {
      "cell_type": "code",
      "execution_count": 11,
      "id": "0349463a",
      "metadata": {
        "id": "0349463a"
      },
      "outputs": [],
      "source": [
        "import gc\n",
        "import tensorflow as tf\n",
        "from tensorflow.keras.models import Model\n",
        "from tensorflow.keras.optimizers import Adam\n",
        "from tensorflow.keras.callbacks import Callback\n",
        "from tensorflow.keras.utils import to_categorical\n",
        "from sklearn.model_selection import train_test_split\n",
        "from tensorflow.keras.callbacks import EarlyStopping\n",
        "from tensorflow.keras.metrics import CategoricalAccuracy\n",
        "from tensorflow.keras.layers import Input, Dropout, Dense \n",
        "from tensorflow.keras.initializers import TruncatedNormal\n",
        "from tensorflow.keras.losses import CategoricalCrossentropy\n",
        "from transformers import TFBertModel, BertConfig, BertTokenizerFast"
      ]
    },
    {
      "cell_type": "code",
      "execution_count": 12,
      "id": "f12580f9",
      "metadata": {
        "id": "f12580f9"
      },
      "outputs": [],
      "source": [
        "tf.config.run_functions_eagerly(True)"
      ]
    },
    {
      "cell_type": "code",
      "execution_count": 13,
      "id": "c9c51d45",
      "metadata": {
        "colab": {
          "base_uri": "https://localhost:8080/",
          "height": 49,
          "referenced_widgets": [
            "28afaa631a3f4b9fad014e458bb0f783",
            "049b4183821445c9a2f37668fb50b738",
            "e135d5cb489d459bbb122a650d3fe55d",
            "36a011888e7a4dbeb9b9d2b1760dfad8",
            "1fff7c0a34f94f94aee66d8032b3834e",
            "b0da77a682a14496b0a0264ae071f895",
            "47f6e473db364b58b8541322b1d3a8ca",
            "376cb3d45a6b4ec58009efa562d19930",
            "acac975cb503420f9abaab070d4c8eaa",
            "bd31d294670b4dc1aaa7068c07d1adcc",
            "c94e36a6beb54c0b8c72cea988828dce"
          ]
        },
        "id": "c9c51d45",
        "outputId": "27cfa463-0d67-47e4-bde4-35e267b75f08"
      },
      "outputs": [
        {
          "data": {
            "application/vnd.jupyter.widget-view+json": {
              "model_id": "28afaa631a3f4b9fad014e458bb0f783",
              "version_major": 2,
              "version_minor": 0
            },
            "text/plain": [
              "Downloading:   0%|          | 0.00/468 [00:00<?, ?B/s]"
            ]
          },
          "metadata": {},
          "output_type": "display_data"
        }
      ],
      "source": [
        "# Setup BERT\n",
        "MODEL_NAME = \"cahya/bert-base-indonesian-522M\"\n",
        "ACC_TOKEN  = \"<YOUR_TOKEN>\"\n",
        "MAX_LENGTH = 64\n",
        "config = BertConfig.from_pretrained(MODEL_NAME, use_auth_token = ACC_TOKEN)\n",
        "config.output_hidden_states = False"
      ]
    },
    {
      "cell_type": "code",
      "execution_count": 14,
      "id": "8dd5cf30",
      "metadata": {
        "id": "8dd5cf30"
      },
      "outputs": [],
      "source": [
        "# define build general model BERT\n",
        "def build_model(bert, data, target_1, target_2):\n",
        "    \n",
        "    BERT_MODEL = bert.layers[0]\n",
        "    \n",
        "    input_ids = Input(shape = (MAX_LENGTH, ), name = \"input_ids\", dtype = \"int32\")\n",
        "    attn_mask = Input(shape = (MAX_LENGTH, ), name = \"attention_mask\", dtype = \"int32\")\n",
        "    inputs    = {'input_ids' : input_ids, \"attention_mask\" : attn_mask}\n",
        "    \n",
        "    pretrained_model = BERT_MODEL(inputs)[1]\n",
        "    dropout   = Dropout(config.hidden_dropout_prob, name = \"pool_out\")\n",
        "    pooled    = dropout(pretrained_model, training = False)\n",
        "    \n",
        "    sentiment = Dense(\n",
        "        units = len(data[target_1].value_counts()), \n",
        "        kernel_initializer = TruncatedNormal(stddev = config.initializer_range),\n",
        "        name = \"Sentiment\"\n",
        "    )(pooled)\n",
        "    aspect  = Dense(\n",
        "        units = len(data[target_2].value_counts()), \n",
        "        kernel_initializer = TruncatedNormal(stddev = config.initializer_range),\n",
        "        name = \"Aspect\"\n",
        "    )(pooled)\n",
        "    outputs = {\"sentiment\" : sentiment, \"aspect\" : aspect}\n",
        "    \n",
        "    model = Model(inputs = inputs, outputs = outputs, name = \"BERT_Bank_Multiclass\")\n",
        "    \n",
        "    return model"
      ]
    },
    {
      "cell_type": "code",
      "execution_count": 15,
      "id": "39a66c18",
      "metadata": {
        "id": "39a66c18"
      },
      "outputs": [],
      "source": [
        "# define hyperparams\n",
        "optimizer = Adam(learning_rate = 5e-05, epsilon = 1e-08, decay = 0.01, clipnorm = 1.0)\n",
        "loss = {\"sentiment\" : CategoricalCrossentropy(from_logits = True), \"aspect\" : CategoricalCrossentropy(from_logits = True)}\n",
        "metrics = {\"sentiment\" : CategoricalAccuracy('accuracy'), \"aspect\" : CategoricalAccuracy('accuracy')}"
      ]
    },
    {
      "cell_type": "code",
      "execution_count": 16,
      "id": "f02f6aa0",
      "metadata": {
        "id": "f02f6aa0"
      },
      "outputs": [],
      "source": [
        "# define callbacks\n",
        "class OwnCallbacks(Callback):\n",
        "    def on_epoch_end(self, epoch, logs = {}):\n",
        "        if logs.get(\"Aspect_accuracy\") > 0.8:\n",
        "            gc.collect()\n",
        "            self.model.stop_training = True"
      ]
    },
    {
      "cell_type": "markdown",
      "id": "ee8794db",
      "metadata": {
        "id": "ee8794db"
      },
      "source": [
        "## 2.1. Bank Dataset"
      ]
    },
    {
      "cell_type": "code",
      "execution_count": null,
      "id": "23e15f77",
      "metadata": {
        "colab": {
          "base_uri": "https://localhost:8080/"
        },
        "id": "23e15f77",
        "outputId": "5b08ef4c-71c4-4bc2-e062-5d0b3b100148"
      },
      "outputs": [
        {
          "name": "stdout",
          "output_type": "stream",
          "text": [
            "(27200, 5) (6800, 5)\n"
          ]
        }
      ],
      "source": [
        "# split data into train and test\n",
        "data_bank_final, data_bank_final_test = train_test_split(data_bank_final, test_size = 0.2, stratify = data_bank_final[\"aspect_numerical\"])\n",
        "\n",
        "# check dimension of data after splitted\n",
        "print(data_bank_final.shape, data_bank_final_test.shape)"
      ]
    },
    {
      "cell_type": "code",
      "execution_count": null,
      "id": "7de833a7",
      "metadata": {
        "colab": {
          "base_uri": "https://localhost:8080/",
          "height": 252,
          "referenced_widgets": [
            "1acd8a0e150d46c893fbb30e44478b4a",
            "017547ac46ee44bd80b6638d98781cbb",
            "386cfb5eee5b4547a880916b4973f00c",
            "08b7b3145c83475ea596f77901896a30",
            "fa7e1b34087e4b1f944e8145ec9e7b3d",
            "9985b367124b4c7594c76453c1c79b44",
            "0747364092974048b900ccf595c35bb6",
            "4c040ae71c1c48698f2186cd42c2c998",
            "abfbc726b3cd41eebfa183bc044525c5",
            "7cd51e51cdf24fd0ade7425bce867a19",
            "20c238aed80d4e98b175e6d8d443e560",
            "4705ab37d3d246ada7a09cafe72fc049",
            "75df27c9982e4678944ab352f09a274c",
            "e0f63cbd1be34c0a8441b206dfee1385",
            "7c8a291c102349b4bfbe03bd8b072e05",
            "e715acca90da47e281c6d05442c617b6",
            "9c6e71cf18614d7b93d340661950c4ca",
            "03be5ea145c9497daea0d37c21fe5b73",
            "a16824588bf5465686cbd230a675fa2b",
            "92c3dae328f5463695494a08698bce0d",
            "c0a4680b3c714d6791c6766a72bd1d53",
            "e5806b88320b45ef9b6d0ebdee6f6fb7",
            "9701a62f944249968dd2a3b92d40470a",
            "02d6e18b89a545e28815bf5f79bcd1c8",
            "5db053663c4b409bbd7d819452f3f8d3",
            "a6a79497dc094e4d93c41b0f7911dfc4",
            "c1cf4cf540f543918f6841b92f8db729",
            "644dc9f36ac547ef88b766779f13e61c",
            "54781b1dc6694e2494e2d56bb3d9b133",
            "d85917510dc14c5083a7f96d72f9059d",
            "3823e1ac09f948709086bf7f36abd9b0",
            "ae40ce69e20a4049bb674a7c9f153952",
            "e52368304f4b4f509887618930b8d658",
            "2fcaf37dce6d497c95a2d4400feae96c",
            "71e32405355e48a1a1fae56c81bb1a27",
            "f10ca26d5ad342468e672cdcc7e5f78d",
            "b2a739d2788e4be7bc3bf35baf947b47",
            "a25792ae060042d18b212ad98151031a",
            "092527fb0e16403386e583958ca83f0b",
            "7facf67adce54691bfe7bad35164fc5a",
            "2148dfaecacb4328ab3e59fdb524ea04",
            "d3b089c555e74be7806c822e0dab7da9",
            "5e037bcb906543348876054cb0ebfe0e",
            "c1092af7a9204cc39d1b708ea1c1e4df"
          ]
        },
        "id": "7de833a7",
        "outputId": "c24b198a-e5c5-42af-c46c-4a5731e0ef2b"
      },
      "outputs": [
        {
          "data": {
            "application/vnd.jupyter.widget-view+json": {
              "model_id": "1acd8a0e150d46c893fbb30e44478b4a",
              "version_major": 2,
              "version_minor": 0
            },
            "text/plain": [
              "Downloading:   0%|          | 0.00/62.0 [00:00<?, ?B/s]"
            ]
          },
          "metadata": {},
          "output_type": "display_data"
        },
        {
          "data": {
            "application/vnd.jupyter.widget-view+json": {
              "model_id": "4705ab37d3d246ada7a09cafe72fc049",
              "version_major": 2,
              "version_minor": 0
            },
            "text/plain": [
              "Downloading:   0%|          | 0.00/230k [00:00<?, ?B/s]"
            ]
          },
          "metadata": {},
          "output_type": "display_data"
        },
        {
          "data": {
            "application/vnd.jupyter.widget-view+json": {
              "model_id": "9701a62f944249968dd2a3b92d40470a",
              "version_major": 2,
              "version_minor": 0
            },
            "text/plain": [
              "Downloading:   0%|          | 0.00/112 [00:00<?, ?B/s]"
            ]
          },
          "metadata": {},
          "output_type": "display_data"
        },
        {
          "data": {
            "application/vnd.jupyter.widget-view+json": {
              "model_id": "2fcaf37dce6d497c95a2d4400feae96c",
              "version_major": 2,
              "version_minor": 0
            },
            "text/plain": [
              "Downloading:   0%|          | 0.00/545M [00:00<?, ?B/s]"
            ]
          },
          "metadata": {},
          "output_type": "display_data"
        },
        {
          "name": "stderr",
          "output_type": "stream",
          "text": [
            "Some layers from the model checkpoint at cahya/bert-base-indonesian-522M were not used when initializing TFBertModel: ['mlm___cls']\n",
            "- This IS expected if you are initializing TFBertModel from the checkpoint of a model trained on another task or with another architecture (e.g. initializing a BertForSequenceClassification model from a BertForPreTraining model).\n",
            "- This IS NOT expected if you are initializing TFBertModel from the checkpoint of a model that you expect to be exactly identical (initializing a BertForSequenceClassification model from a BertForSequenceClassification model).\n",
            "All the layers of TFBertModel were initialized from the model checkpoint at cahya/bert-base-indonesian-522M.\n",
            "If your task is similar to the task the model of the checkpoint was trained on, you can already use TFBertModel for predictions without further training.\n"
          ]
        }
      ],
      "source": [
        "tokenizer = BertTokenizerFast.from_pretrained(pretrained_model_name_or_path = MODEL_NAME, config = config)\n",
        "model = TFBertModel.from_pretrained(MODEL_NAME, config)"
      ]
    },
    {
      "cell_type": "code",
      "execution_count": null,
      "id": "f3905027",
      "metadata": {
        "id": "f3905027"
      },
      "outputs": [],
      "source": [
        "# inherit model\n",
        "model_bert_bank = build_model(model, data_bank_final, \"label_numerical\", \"aspect_numerical\")"
      ]
    },
    {
      "cell_type": "code",
      "execution_count": null,
      "id": "f2f4921d",
      "metadata": {
        "colab": {
          "base_uri": "https://localhost:8080/"
        },
        "id": "f2f4921d",
        "outputId": "d7d2f79d-56d1-4268-8663-a3f4954b341d"
      },
      "outputs": [
        {
          "name": "stdout",
          "output_type": "stream",
          "text": [
            "Model: \"BERT_Bank_Multiclass\"\n",
            "__________________________________________________________________________________________________\n",
            " Layer (type)                   Output Shape         Param #     Connected to                     \n",
            "==================================================================================================\n",
            " attention_mask (InputLayer)    [(None, 64)]         0           []                               \n",
            "                                                                                                  \n",
            " input_ids (InputLayer)         [(None, 64)]         0           []                               \n",
            "                                                                                                  \n",
            " bert (TFBertMainLayer)         TFBaseModelOutputWi  110617344   ['attention_mask[0][0]',         \n",
            "                                thPoolingAndCrossAt               'input_ids[0][0]']              \n",
            "                                tentions(last_hidde                                               \n",
            "                                n_state=(None, 64,                                                \n",
            "                                768),                                                             \n",
            "                                 pooler_output=(Non                                               \n",
            "                                e, 768),                                                          \n",
            "                                 past_key_values=No                                               \n",
            "                                ne, hidden_states=N                                               \n",
            "                                one, attentions=Non                                               \n",
            "                                e, cross_attentions                                               \n",
            "                                =None)                                                            \n",
            "                                                                                                  \n",
            " pool_out (Dropout)             (None, 768)          0           ['bert[0][1]']                   \n",
            "                                                                                                  \n",
            " Aspect (Dense)                 (None, 10)           7690        ['pool_out[0][0]']               \n",
            "                                                                                                  \n",
            " Sentiment (Dense)              (None, 3)            2307        ['pool_out[0][0]']               \n",
            "                                                                                                  \n",
            "==================================================================================================\n",
            "Total params: 110,627,341\n",
            "Trainable params: 110,627,341\n",
            "Non-trainable params: 0\n",
            "__________________________________________________________________________________________________\n"
          ]
        }
      ],
      "source": [
        "# overview model architecture\n",
        "model_bert_bank.summary()"
      ]
    },
    {
      "cell_type": "code",
      "execution_count": null,
      "id": "c35e28d5",
      "metadata": {
        "id": "c35e28d5"
      },
      "outputs": [],
      "source": [
        "# compile model\n",
        "model_bert_bank.compile(optimizer = optimizer, loss = loss, metrics = metrics)"
      ]
    },
    {
      "cell_type": "code",
      "execution_count": null,
      "id": "57eaf040",
      "metadata": {
        "id": "57eaf040"
      },
      "outputs": [],
      "source": [
        "# convert numerical data into categorical data\n",
        "y_sentiment = to_categorical(data_bank_final['label_numerical'])\n",
        "y_aspect    = to_categorical(data_bank_final['aspect_numerical'])"
      ]
    },
    {
      "cell_type": "code",
      "execution_count": null,
      "id": "405bf091",
      "metadata": {
        "id": "405bf091"
      },
      "outputs": [],
      "source": [
        "# tokenize sentence \n",
        "x = tokenizer(\n",
        "    text = data_bank_final['sentence'].to_list(),\n",
        "    add_special_tokens = True,\n",
        "    max_length = MAX_LENGTH,\n",
        "    truncation = True,\n",
        "    padding = True, \n",
        "    return_tensors = 'tf',\n",
        "    return_token_type_ids = False,\n",
        "    return_attention_mask = True,\n",
        "    verbose = True\n",
        ")"
      ]
    },
    {
      "cell_type": "code",
      "execution_count": null,
      "id": "48788092",
      "metadata": {
        "colab": {
          "base_uri": "https://localhost:8080/"
        },
        "id": "48788092",
        "outputId": "4c5ef37a-c65d-4a86-b25f-240575085753"
      },
      "outputs": [
        {
          "name": "stdout",
          "output_type": "stream",
          "text": [
            "Epoch 1/10\n",
            "2720/2720 [==============================] - 1527s 561ms/step - loss: 0.7851 - Aspect_loss: 0.5925 - Sentiment_loss: 0.1927 - Aspect_accuracy: 0.7715 - Sentiment_accuracy: 0.9412 - val_loss: 0.5900 - val_Aspect_loss: 0.4420 - val_Sentiment_loss: 0.1480 - val_Aspect_accuracy: 0.8039 - val_Sentiment_accuracy: 0.9520\n",
            "Epoch 2/10\n",
            "2720/2720 [==============================] - 1484s 546ms/step - loss: 0.5847 - Aspect_loss: 0.4346 - Sentiment_loss: 0.1502 - Aspect_accuracy: 0.8143 - Sentiment_accuracy: 0.9489 - val_loss: 0.5747 - val_Aspect_loss: 0.4350 - val_Sentiment_loss: 0.1397 - val_Aspect_accuracy: 0.7994 - val_Sentiment_accuracy: 0.9564\n"
          ]
        }
      ],
      "source": [
        "history_bank = model_bert_bank.fit(\n",
        "    x = {'input_ids': x['input_ids'], 'attention_mask' : x['attention_mask']},\n",
        "    y = {\"sentiment\" : y_sentiment, \"aspect\" : y_aspect},\n",
        "    validation_split = 0.2,\n",
        "    batch_size = 8,\n",
        "    epochs = 10,\n",
        "    callbacks = [OwnCallbacks()]\n",
        ")"
      ]
    },
    {
      "cell_type": "code",
      "execution_count": null,
      "id": "fe23f829",
      "metadata": {
        "id": "fe23f829"
      },
      "outputs": [],
      "source": [
        "model_bert_bank.save(\"model_bert_bank.h5\")"
      ]
    },
    {
      "cell_type": "code",
      "execution_count": null,
      "id": "gOmo71Su3c0B",
      "metadata": {
        "colab": {
          "base_uri": "https://localhost:8080/",
          "height": 156
        },
        "id": "gOmo71Su3c0B",
        "outputId": "fef0267a-b9ec-4ad7-f5e2-fcd8105c5111"
      },
      "outputs": [
        {
          "data": {
            "text/html": [
              "\n",
              "  <div id=\"df-73942e30-56b2-412d-95b8-2ff3f6641dd1\">\n",
              "    <div class=\"colab-df-container\">\n",
              "      <div>\n",
              "<style scoped>\n",
              "    .dataframe tbody tr th:only-of-type {\n",
              "        vertical-align: middle;\n",
              "    }\n",
              "\n",
              "    .dataframe tbody tr th {\n",
              "        vertical-align: top;\n",
              "    }\n",
              "\n",
              "    .dataframe thead th {\n",
              "        text-align: right;\n",
              "    }\n",
              "</style>\n",
              "<table border=\"1\" class=\"dataframe\">\n",
              "  <thead>\n",
              "    <tr style=\"text-align: right;\">\n",
              "      <th></th>\n",
              "      <th>loss</th>\n",
              "      <th>Aspect_loss</th>\n",
              "      <th>Sentiment_loss</th>\n",
              "      <th>Aspect_accuracy</th>\n",
              "      <th>Sentiment_accuracy</th>\n",
              "      <th>val_loss</th>\n",
              "      <th>val_Aspect_loss</th>\n",
              "      <th>val_Sentiment_loss</th>\n",
              "      <th>val_Aspect_accuracy</th>\n",
              "      <th>val_Sentiment_accuracy</th>\n",
              "    </tr>\n",
              "  </thead>\n",
              "  <tbody>\n",
              "    <tr>\n",
              "      <th>0</th>\n",
              "      <td>0.785136</td>\n",
              "      <td>0.592467</td>\n",
              "      <td>0.192669</td>\n",
              "      <td>0.771507</td>\n",
              "      <td>0.941222</td>\n",
              "      <td>0.590002</td>\n",
              "      <td>0.441968</td>\n",
              "      <td>0.148035</td>\n",
              "      <td>0.803860</td>\n",
              "      <td>0.952022</td>\n",
              "    </tr>\n",
              "    <tr>\n",
              "      <th>1</th>\n",
              "      <td>0.584720</td>\n",
              "      <td>0.434560</td>\n",
              "      <td>0.150160</td>\n",
              "      <td>0.814292</td>\n",
              "      <td>0.948897</td>\n",
              "      <td>0.574667</td>\n",
              "      <td>0.434996</td>\n",
              "      <td>0.139671</td>\n",
              "      <td>0.799449</td>\n",
              "      <td>0.956434</td>\n",
              "    </tr>\n",
              "  </tbody>\n",
              "</table>\n",
              "</div>\n",
              "      <button class=\"colab-df-convert\" onclick=\"convertToInteractive('df-73942e30-56b2-412d-95b8-2ff3f6641dd1')\"\n",
              "              title=\"Convert this dataframe to an interactive table.\"\n",
              "              style=\"display:none;\">\n",
              "        \n",
              "  <svg xmlns=\"http://www.w3.org/2000/svg\" height=\"24px\"viewBox=\"0 0 24 24\"\n",
              "       width=\"24px\">\n",
              "    <path d=\"M0 0h24v24H0V0z\" fill=\"none\"/>\n",
              "    <path d=\"M18.56 5.44l.94 2.06.94-2.06 2.06-.94-2.06-.94-.94-2.06-.94 2.06-2.06.94zm-11 1L8.5 8.5l.94-2.06 2.06-.94-2.06-.94L8.5 2.5l-.94 2.06-2.06.94zm10 10l.94 2.06.94-2.06 2.06-.94-2.06-.94-.94-2.06-.94 2.06-2.06.94z\"/><path d=\"M17.41 7.96l-1.37-1.37c-.4-.4-.92-.59-1.43-.59-.52 0-1.04.2-1.43.59L10.3 9.45l-7.72 7.72c-.78.78-.78 2.05 0 2.83L4 21.41c.39.39.9.59 1.41.59.51 0 1.02-.2 1.41-.59l7.78-7.78 2.81-2.81c.8-.78.8-2.07 0-2.86zM5.41 20L4 18.59l7.72-7.72 1.47 1.35L5.41 20z\"/>\n",
              "  </svg>\n",
              "      </button>\n",
              "      \n",
              "  <style>\n",
              "    .colab-df-container {\n",
              "      display:flex;\n",
              "      flex-wrap:wrap;\n",
              "      gap: 12px;\n",
              "    }\n",
              "\n",
              "    .colab-df-convert {\n",
              "      background-color: #E8F0FE;\n",
              "      border: none;\n",
              "      border-radius: 50%;\n",
              "      cursor: pointer;\n",
              "      display: none;\n",
              "      fill: #1967D2;\n",
              "      height: 32px;\n",
              "      padding: 0 0 0 0;\n",
              "      width: 32px;\n",
              "    }\n",
              "\n",
              "    .colab-df-convert:hover {\n",
              "      background-color: #E2EBFA;\n",
              "      box-shadow: 0px 1px 2px rgba(60, 64, 67, 0.3), 0px 1px 3px 1px rgba(60, 64, 67, 0.15);\n",
              "      fill: #174EA6;\n",
              "    }\n",
              "\n",
              "    [theme=dark] .colab-df-convert {\n",
              "      background-color: #3B4455;\n",
              "      fill: #D2E3FC;\n",
              "    }\n",
              "\n",
              "    [theme=dark] .colab-df-convert:hover {\n",
              "      background-color: #434B5C;\n",
              "      box-shadow: 0px 1px 3px 1px rgba(0, 0, 0, 0.15);\n",
              "      filter: drop-shadow(0px 1px 2px rgba(0, 0, 0, 0.3));\n",
              "      fill: #FFFFFF;\n",
              "    }\n",
              "  </style>\n",
              "\n",
              "      <script>\n",
              "        const buttonEl =\n",
              "          document.querySelector('#df-73942e30-56b2-412d-95b8-2ff3f6641dd1 button.colab-df-convert');\n",
              "        buttonEl.style.display =\n",
              "          google.colab.kernel.accessAllowed ? 'block' : 'none';\n",
              "\n",
              "        async function convertToInteractive(key) {\n",
              "          const element = document.querySelector('#df-73942e30-56b2-412d-95b8-2ff3f6641dd1');\n",
              "          const dataTable =\n",
              "            await google.colab.kernel.invokeFunction('convertToInteractive',\n",
              "                                                     [key], {});\n",
              "          if (!dataTable) return;\n",
              "\n",
              "          const docLinkHtml = 'Like what you see? Visit the ' +\n",
              "            '<a target=\"_blank\" href=https://colab.research.google.com/notebooks/data_table.ipynb>data table notebook</a>'\n",
              "            + ' to learn more about interactive tables.';\n",
              "          element.innerHTML = '';\n",
              "          dataTable['output_type'] = 'display_data';\n",
              "          await google.colab.output.renderOutput(dataTable, element);\n",
              "          const docLink = document.createElement('div');\n",
              "          docLink.innerHTML = docLinkHtml;\n",
              "          element.appendChild(docLink);\n",
              "        }\n",
              "      </script>\n",
              "    </div>\n",
              "  </div>\n",
              "  "
            ],
            "text/plain": [
              "       loss  Aspect_loss  Sentiment_loss  Aspect_accuracy  Sentiment_accuracy  \\\n",
              "0  0.785136     0.592467        0.192669         0.771507            0.941222   \n",
              "1  0.584720     0.434560        0.150160         0.814292            0.948897   \n",
              "\n",
              "   val_loss  val_Aspect_loss  val_Sentiment_loss  val_Aspect_accuracy  \\\n",
              "0  0.590002         0.441968            0.148035             0.803860   \n",
              "1  0.574667         0.434996            0.139671             0.799449   \n",
              "\n",
              "   val_Sentiment_accuracy  \n",
              "0                0.952022  \n",
              "1                0.956434  "
            ]
          },
          "execution_count": 43,
          "metadata": {},
          "output_type": "execute_result"
        }
      ],
      "source": [
        "metrics_training_bank = pd.DataFrame(history_bank.history)\n",
        "metrics_training_bank"
      ]
    },
    {
      "cell_type": "code",
      "execution_count": null,
      "id": "YlK1uaWX3lto",
      "metadata": {
        "id": "YlK1uaWX3lto"
      },
      "outputs": [],
      "source": [
        "from sklearn.metrics import classification_report"
      ]
    },
    {
      "cell_type": "code",
      "execution_count": null,
      "id": "wLA7NguT3wGe",
      "metadata": {
        "id": "wLA7NguT3wGe"
      },
      "outputs": [],
      "source": [
        "# convert numerical data into categorical data\n",
        "y_sentiment_test = to_categorical(data_bank_final_test['label_numerical'])\n",
        "y_aspect_test    = to_categorical(data_bank_final_test['aspect_numerical'])"
      ]
    },
    {
      "cell_type": "code",
      "execution_count": null,
      "id": "9yChYuFo30WX",
      "metadata": {
        "id": "9yChYuFo30WX"
      },
      "outputs": [],
      "source": [
        "# tokenize sentence \n",
        "x_test = tokenizer(\n",
        "    text = data_bank_final_test['sentence'].to_list(),\n",
        "    add_special_tokens = True,\n",
        "    max_length = MAX_LENGTH,\n",
        "    truncation = True,\n",
        "    padding = True, \n",
        "    return_tensors = 'tf',\n",
        "    return_token_type_ids = False,\n",
        "    return_attention_mask = True,\n",
        "    verbose = True\n",
        ")"
      ]
    },
    {
      "cell_type": "code",
      "execution_count": null,
      "id": "7-N8OuuU37RN",
      "metadata": {
        "colab": {
          "base_uri": "https://localhost:8080/"
        },
        "id": "7-N8OuuU37RN",
        "outputId": "06b265c4-bc17-42a9-f9a0-63cf398bd781"
      },
      "outputs": [
        {
          "name": "stderr",
          "output_type": "stream",
          "text": [
            "/usr/local/lib/python3.7/dist-packages/tensorflow/python/data/ops/structured_function.py:265: UserWarning: Even though the `tf.config.experimental_run_functions_eagerly` option is set, this option does not apply to tf.data functions. To force eager execution of tf.data functions, please use `tf.data.experimental.enable_debug_mode()`.\n",
            "  \"Even though the `tf.config.experimental_run_functions_eagerly` \"\n"
          ]
        },
        {
          "name": "stdout",
          "output_type": "stream",
          "text": [
            "213/213 [==============================] - 57s 267ms/step - loss: 0.5908 - Aspect_loss: 0.4430 - Sentiment_loss: 0.1478 - Aspect_accuracy: 0.7932 - Sentiment_accuracy: 0.9526\n"
          ]
        },
        {
          "data": {
            "text/plain": [
              "[0.5908228754997253,\n",
              " 0.44303932785987854,\n",
              " 0.1477832794189453,\n",
              " 0.7932353019714355,\n",
              " 0.9526470303535461]"
            ]
          },
          "execution_count": 48,
          "metadata": {},
          "output_type": "execute_result"
        }
      ],
      "source": [
        "model_bert_bank.evaluate( \n",
        "    x = {'input_ids' : x_test['input_ids'], 'attention_mask' : x_test['attention_mask']},\n",
        "    y = {'sentiment': y_sentiment_test, 'aspect': y_aspect_test},\n",
        ")"
      ]
    },
    {
      "cell_type": "code",
      "execution_count": null,
      "id": "J_5wDcUn3-ob",
      "metadata": {
        "colab": {
          "base_uri": "https://localhost:8080/"
        },
        "id": "J_5wDcUn3-ob",
        "outputId": "0ce09711-dd7d-4e30-f2d1-44354c5528c9"
      },
      "outputs": [
        {
          "name": "stderr",
          "output_type": "stream",
          "text": [
            "/usr/local/lib/python3.7/dist-packages/tensorflow/python/data/ops/structured_function.py:265: UserWarning: Even though the `tf.config.experimental_run_functions_eagerly` option is set, this option does not apply to tf.data functions. To force eager execution of tf.data functions, please use `tf.data.experimental.enable_debug_mode()`.\n",
            "  \"Even though the `tf.config.experimental_run_functions_eagerly` \"\n"
          ]
        }
      ],
      "source": [
        "predicted = model_bert_bank.predict(x = {'input_ids' : x_test['input_ids'], 'attention_mask' : x_test['attention_mask']})"
      ]
    },
    {
      "cell_type": "code",
      "execution_count": null,
      "id": "xM8NfWeq4HUJ",
      "metadata": {
        "colab": {
          "base_uri": "https://localhost:8080/"
        },
        "id": "xM8NfWeq4HUJ",
        "outputId": "da377660-d696-4152-bf34-bc5a643d82a3"
      },
      "outputs": [
        {
          "name": "stdout",
          "output_type": "stream",
          "text": [
            "              precision    recall  f1-score   support\n",
            "\n",
            "           0       0.67      0.13      0.22       138\n",
            "           1       0.96      1.00      0.98      6394\n",
            "           2       0.67      0.36      0.47       268\n",
            "\n",
            "    accuracy                           0.95      6800\n",
            "   macro avg       0.76      0.49      0.55      6800\n",
            "weighted avg       0.94      0.95      0.94      6800\n",
            "\n"
          ]
        }
      ],
      "source": [
        "# sentiment\n",
        "print(classification_report( \n",
        "    y_sentiment_test.argmax(axis =  1),\n",
        "    predicted['sentiment'].argmax(axis = 1)\n",
        "))"
      ]
    },
    {
      "cell_type": "code",
      "execution_count": null,
      "id": "EbF-vY5J4I3D",
      "metadata": {
        "colab": {
          "base_uri": "https://localhost:8080/"
        },
        "id": "EbF-vY5J4I3D",
        "outputId": "d0331234-19cf-4d99-aa0d-17f31c1d6cb9"
      },
      "outputs": [
        {
          "name": "stdout",
          "output_type": "stream",
          "text": [
            "              precision    recall  f1-score   support\n",
            "\n",
            "           0       0.80      0.89      0.84       680\n",
            "           1       0.87      0.72      0.79       680\n",
            "           2       0.82      0.68      0.74       680\n",
            "           3       0.86      0.91      0.88       680\n",
            "           4       0.65      0.70      0.67       680\n",
            "           5       0.86      0.72      0.78       680\n",
            "           6       0.74      0.76      0.75       680\n",
            "           7       0.77      0.76      0.76       680\n",
            "           8       0.72      0.84      0.78       680\n",
            "           9       0.88      0.96      0.92       680\n",
            "\n",
            "    accuracy                           0.79      6800\n",
            "   macro avg       0.80      0.79      0.79      6800\n",
            "weighted avg       0.80      0.79      0.79      6800\n",
            "\n"
          ]
        }
      ],
      "source": [
        "# aspect\n",
        "print(classification_report( \n",
        "    y_aspect_test.argmax(axis =  1),\n",
        "    predicted['aspect'].argmax(axis = 1)\n",
        "))"
      ]
    },
    {
      "cell_type": "markdown",
      "id": "3RH1GdE94q4V",
      "metadata": {
        "id": "3RH1GdE94q4V"
      },
      "source": [
        "## 2.2 Food Dataset"
      ]
    },
    {
      "cell_type": "code",
      "execution_count": null,
      "id": "ilZAWsN-4vFG",
      "metadata": {
        "colab": {
          "base_uri": "https://localhost:8080/"
        },
        "id": "ilZAWsN-4vFG",
        "outputId": "d4174da4-2844-46bb-aa1d-5969bbe716f4"
      },
      "outputs": [
        {
          "name": "stdout",
          "output_type": "stream",
          "text": [
            "(28160, 5) (7040, 5)\n"
          ]
        }
      ],
      "source": [
        "# split data into train and test\n",
        "data_pangan_final, data_pangan_final_test = train_test_split(data_pangan_final, test_size = 0.2, stratify = data_pangan_final[\"aspect_numerical\"])\n",
        "\n",
        "# check dimension of data after splitted\n",
        "print(data_pangan_final.shape, data_pangan_final_test.shape)"
      ]
    },
    {
      "cell_type": "code",
      "execution_count": null,
      "id": "aIApXGCP4vFH",
      "metadata": {
        "colab": {
          "base_uri": "https://localhost:8080/"
        },
        "id": "aIApXGCP4vFH",
        "outputId": "2ef6a2cd-030a-4e5c-fe41-d8691a4a5689"
      },
      "outputs": [
        {
          "name": "stderr",
          "output_type": "stream",
          "text": [
            "Some layers from the model checkpoint at cahya/bert-base-indonesian-522M were not used when initializing TFBertModel: ['mlm___cls']\n",
            "- This IS expected if you are initializing TFBertModel from the checkpoint of a model trained on another task or with another architecture (e.g. initializing a BertForSequenceClassification model from a BertForPreTraining model).\n",
            "- This IS NOT expected if you are initializing TFBertModel from the checkpoint of a model that you expect to be exactly identical (initializing a BertForSequenceClassification model from a BertForSequenceClassification model).\n",
            "All the layers of TFBertModel were initialized from the model checkpoint at cahya/bert-base-indonesian-522M.\n",
            "If your task is similar to the task the model of the checkpoint was trained on, you can already use TFBertModel for predictions without further training.\n"
          ]
        }
      ],
      "source": [
        "tokenizer = BertTokenizerFast.from_pretrained(pretrained_model_name_or_path = MODEL_NAME, config = config)\n",
        "model = TFBertModel.from_pretrained(MODEL_NAME, config)"
      ]
    },
    {
      "cell_type": "code",
      "execution_count": null,
      "id": "CDyDL89_4vFH",
      "metadata": {
        "id": "CDyDL89_4vFH"
      },
      "outputs": [],
      "source": [
        "# inherit model\n",
        "model_bert_pangan = build_model(model, data_pangan_final, \"label_numerical\", \"aspect_numerical\")"
      ]
    },
    {
      "cell_type": "code",
      "execution_count": null,
      "id": "LeveC4qR4vFH",
      "metadata": {
        "colab": {
          "base_uri": "https://localhost:8080/"
        },
        "id": "LeveC4qR4vFH",
        "outputId": "73ecaff3-b36a-40c7-ae51-b82c4a5ab764"
      },
      "outputs": [
        {
          "name": "stdout",
          "output_type": "stream",
          "text": [
            "Model: \"BERT_Bank_Multiclass\"\n",
            "__________________________________________________________________________________________________\n",
            " Layer (type)                   Output Shape         Param #     Connected to                     \n",
            "==================================================================================================\n",
            " attention_mask (InputLayer)    [(None, 64)]         0           []                               \n",
            "                                                                                                  \n",
            " input_ids (InputLayer)         [(None, 64)]         0           []                               \n",
            "                                                                                                  \n",
            " bert (TFBertMainLayer)         TFBaseModelOutputWi  110617344   ['attention_mask[0][0]',         \n",
            "                                thPoolingAndCrossAt               'input_ids[0][0]']              \n",
            "                                tentions(last_hidde                                               \n",
            "                                n_state=(None, 64,                                                \n",
            "                                768),                                                             \n",
            "                                 pooler_output=(Non                                               \n",
            "                                e, 768),                                                          \n",
            "                                 past_key_values=No                                               \n",
            "                                ne, hidden_states=N                                               \n",
            "                                one, attentions=Non                                               \n",
            "                                e, cross_attentions                                               \n",
            "                                =None)                                                            \n",
            "                                                                                                  \n",
            " pool_out (Dropout)             (None, 768)          0           ['bert[0][1]']                   \n",
            "                                                                                                  \n",
            " Aspect (Dense)                 (None, 10)           7690        ['pool_out[0][0]']               \n",
            "                                                                                                  \n",
            " Sentiment (Dense)              (None, 3)            2307        ['pool_out[0][0]']               \n",
            "                                                                                                  \n",
            "==================================================================================================\n",
            "Total params: 110,627,341\n",
            "Trainable params: 110,627,341\n",
            "Non-trainable params: 0\n",
            "__________________________________________________________________________________________________\n"
          ]
        }
      ],
      "source": [
        "# overview model architecture\n",
        "model_bert_pangan.summary()"
      ]
    },
    {
      "cell_type": "code",
      "execution_count": null,
      "id": "NRtKd_hI4vFI",
      "metadata": {
        "id": "NRtKd_hI4vFI"
      },
      "outputs": [],
      "source": [
        "# compile model\n",
        "model_bert_pangan.compile(optimizer = optimizer, loss = loss, metrics = metrics)"
      ]
    },
    {
      "cell_type": "code",
      "execution_count": null,
      "id": "d6GUhpBA4vFI",
      "metadata": {
        "id": "d6GUhpBA4vFI"
      },
      "outputs": [],
      "source": [
        "# convert numerical data into categorical data\n",
        "y_sentiment = to_categorical(data_pangan_final['label_numerical'])\n",
        "y_aspect    = to_categorical(data_pangan_final['aspect_numerical'])"
      ]
    },
    {
      "cell_type": "code",
      "execution_count": null,
      "id": "W88X4AEz4vFI",
      "metadata": {
        "id": "W88X4AEz4vFI"
      },
      "outputs": [],
      "source": [
        "# tokenize sentence \n",
        "x = tokenizer(\n",
        "    text = data_pangan_final['sentence'].to_list(),\n",
        "    add_special_tokens = True,\n",
        "    max_length = MAX_LENGTH,\n",
        "    truncation = True,\n",
        "    padding = True, \n",
        "    return_tensors = 'tf',\n",
        "    return_token_type_ids = False,\n",
        "    return_attention_mask = True,\n",
        "    verbose = True\n",
        ")"
      ]
    },
    {
      "cell_type": "code",
      "execution_count": null,
      "id": "lqNRZ5vh4vFI",
      "metadata": {
        "colab": {
          "base_uri": "https://localhost:8080/"
        },
        "id": "lqNRZ5vh4vFI",
        "outputId": "bde0ed83-91ba-4658-87f8-7cbc6ee4df47"
      },
      "outputs": [
        {
          "name": "stdout",
          "output_type": "stream",
          "text": [
            "Epoch 1/10\n"
          ]
        },
        {
          "name": "stderr",
          "output_type": "stream",
          "text": [
            "/usr/local/lib/python3.7/dist-packages/tensorflow/python/data/ops/structured_function.py:265: UserWarning: Even though the `tf.config.experimental_run_functions_eagerly` option is set, this option does not apply to tf.data functions. To force eager execution of tf.data functions, please use `tf.data.experimental.enable_debug_mode()`.\n",
            "  \"Even though the `tf.config.experimental_run_functions_eagerly` \"\n"
          ]
        },
        {
          "name": "stdout",
          "output_type": "stream",
          "text": [
            "2816/2816 [==============================] - 1606s 570ms/step - loss: 0.8914 - Aspect_loss: 0.6897 - Sentiment_loss: 0.2017 - Aspect_accuracy: 0.7402 - Sentiment_accuracy: 0.9393 - val_loss: 0.6974 - val_Aspect_loss: 0.5334 - val_Sentiment_loss: 0.1640 - val_Aspect_accuracy: 0.7683 - val_Sentiment_accuracy: 0.9466\n",
            "Epoch 2/10\n",
            "2816/2816 [==============================] - 1587s 564ms/step - loss: 0.6574 - Aspect_loss: 0.4990 - Sentiment_loss: 0.1585 - Aspect_accuracy: 0.7886 - Sentiment_accuracy: 0.9479 - val_loss: 0.6635 - val_Aspect_loss: 0.5086 - val_Sentiment_loss: 0.1548 - val_Aspect_accuracy: 0.7715 - val_Sentiment_accuracy: 0.9492\n",
            "Epoch 3/10\n",
            "2816/2816 [==============================] - 1591s 565ms/step - loss: 0.6194 - Aspect_loss: 0.4733 - Sentiment_loss: 0.1460 - Aspect_accuracy: 0.7930 - Sentiment_accuracy: 0.9515 - val_loss: 0.6548 - val_Aspect_loss: 0.5038 - val_Sentiment_loss: 0.1510 - val_Aspect_accuracy: 0.7701 - val_Sentiment_accuracy: 0.9510\n",
            "Epoch 4/10\n",
            "2816/2816 [==============================] - 1564s 555ms/step - loss: 0.5979 - Aspect_loss: 0.4589 - Sentiment_loss: 0.1390 - Aspect_accuracy: 0.7982 - Sentiment_accuracy: 0.9538 - val_loss: 0.6547 - val_Aspect_loss: 0.5052 - val_Sentiment_loss: 0.1496 - val_Aspect_accuracy: 0.7686 - val_Sentiment_accuracy: 0.9512\n",
            "Epoch 5/10\n",
            "2816/2816 [==============================] - 1574s 559ms/step - loss: 0.5850 - Aspect_loss: 0.4505 - Sentiment_loss: 0.1346 - Aspect_accuracy: 0.8013 - Sentiment_accuracy: 0.9559 - val_loss: 0.6504 - val_Aspect_loss: 0.5035 - val_Sentiment_loss: 0.1468 - val_Aspect_accuracy: 0.7658 - val_Sentiment_accuracy: 0.9512\n",
            "2816/2816 [==============================] - 1574s 559ms/step - loss: 0.5850 - Aspect_loss: 0.4505 - Sentiment_loss: 0.1346 - Aspect_accuracy: 0.8013 - Sentiment_accuracy: 0.9559 - val_loss: 0.6504 - val_Aspect_loss: 0.5035 - val_Sentiment_loss: 0.1468 - val_Aspect_accuracy: 0.7658 - val_Sentiment_accuracy: 0.9512\n"
          ]
        }
      ],
      "source": [
        "history_pangan = model_bert_pangan.fit(\n",
        "    x = {'input_ids': x['input_ids'], 'attention_mask' : x['attention_mask']},\n",
        "    y = {\"sentiment\" : y_sentiment, \"aspect\" : y_aspect},\n",
        "    validation_split = 0.2,\n",
        "    batch_size = 8,\n",
        "    epochs = 10,\n",
        "    callbacks = [OwnCallbacks()]\n",
        ")"
      ]
    },
    {
      "cell_type": "code",
      "execution_count": null,
      "id": "LLrOW_1y4vFI",
      "metadata": {
        "id": "LLrOW_1y4vFI"
      },
      "outputs": [],
      "source": [
        "model_bert_pangan.save(\"model_bert_pangan.h5\")"
      ]
    },
    {
      "cell_type": "code",
      "execution_count": null,
      "id": "iW03m74r4vFI",
      "metadata": {
        "colab": {
          "base_uri": "https://localhost:8080/",
          "height": 250
        },
        "id": "iW03m74r4vFI",
        "outputId": "b32840e9-500b-48b1-e741-b1112bcfe55c"
      },
      "outputs": [
        {
          "data": {
            "text/html": [
              "\n",
              "  <div id=\"df-1be7da45-4ce5-443e-9624-08eecda2a975\">\n",
              "    <div class=\"colab-df-container\">\n",
              "      <div>\n",
              "<style scoped>\n",
              "    .dataframe tbody tr th:only-of-type {\n",
              "        vertical-align: middle;\n",
              "    }\n",
              "\n",
              "    .dataframe tbody tr th {\n",
              "        vertical-align: top;\n",
              "    }\n",
              "\n",
              "    .dataframe thead th {\n",
              "        text-align: right;\n",
              "    }\n",
              "</style>\n",
              "<table border=\"1\" class=\"dataframe\">\n",
              "  <thead>\n",
              "    <tr style=\"text-align: right;\">\n",
              "      <th></th>\n",
              "      <th>loss</th>\n",
              "      <th>Aspect_loss</th>\n",
              "      <th>Sentiment_loss</th>\n",
              "      <th>Aspect_accuracy</th>\n",
              "      <th>Sentiment_accuracy</th>\n",
              "      <th>val_loss</th>\n",
              "      <th>val_Aspect_loss</th>\n",
              "      <th>val_Sentiment_loss</th>\n",
              "      <th>val_Aspect_accuracy</th>\n",
              "      <th>val_Sentiment_accuracy</th>\n",
              "    </tr>\n",
              "  </thead>\n",
              "  <tbody>\n",
              "    <tr>\n",
              "      <th>0</th>\n",
              "      <td>0.891395</td>\n",
              "      <td>0.689695</td>\n",
              "      <td>0.201700</td>\n",
              "      <td>0.740234</td>\n",
              "      <td>0.939320</td>\n",
              "      <td>0.697365</td>\n",
              "      <td>0.533381</td>\n",
              "      <td>0.163983</td>\n",
              "      <td>0.768288</td>\n",
              "      <td>0.946555</td>\n",
              "    </tr>\n",
              "    <tr>\n",
              "      <th>1</th>\n",
              "      <td>0.657441</td>\n",
              "      <td>0.498964</td>\n",
              "      <td>0.158478</td>\n",
              "      <td>0.788574</td>\n",
              "      <td>0.947931</td>\n",
              "      <td>0.663479</td>\n",
              "      <td>0.508649</td>\n",
              "      <td>0.154830</td>\n",
              "      <td>0.771484</td>\n",
              "      <td>0.949219</td>\n",
              "    </tr>\n",
              "    <tr>\n",
              "      <th>2</th>\n",
              "      <td>0.619362</td>\n",
              "      <td>0.473329</td>\n",
              "      <td>0.146034</td>\n",
              "      <td>0.792969</td>\n",
              "      <td>0.951527</td>\n",
              "      <td>0.654789</td>\n",
              "      <td>0.503762</td>\n",
              "      <td>0.151027</td>\n",
              "      <td>0.770064</td>\n",
              "      <td>0.950994</td>\n",
              "    </tr>\n",
              "    <tr>\n",
              "      <th>3</th>\n",
              "      <td>0.597868</td>\n",
              "      <td>0.458887</td>\n",
              "      <td>0.138982</td>\n",
              "      <td>0.798162</td>\n",
              "      <td>0.953835</td>\n",
              "      <td>0.654738</td>\n",
              "      <td>0.505162</td>\n",
              "      <td>0.149576</td>\n",
              "      <td>0.768643</td>\n",
              "      <td>0.951172</td>\n",
              "    </tr>\n",
              "    <tr>\n",
              "      <th>4</th>\n",
              "      <td>0.585031</td>\n",
              "      <td>0.450460</td>\n",
              "      <td>0.134571</td>\n",
              "      <td>0.801314</td>\n",
              "      <td>0.955922</td>\n",
              "      <td>0.650381</td>\n",
              "      <td>0.503539</td>\n",
              "      <td>0.146843</td>\n",
              "      <td>0.765803</td>\n",
              "      <td>0.951172</td>\n",
              "    </tr>\n",
              "  </tbody>\n",
              "</table>\n",
              "</div>\n",
              "      <button class=\"colab-df-convert\" onclick=\"convertToInteractive('df-1be7da45-4ce5-443e-9624-08eecda2a975')\"\n",
              "              title=\"Convert this dataframe to an interactive table.\"\n",
              "              style=\"display:none;\">\n",
              "        \n",
              "  <svg xmlns=\"http://www.w3.org/2000/svg\" height=\"24px\"viewBox=\"0 0 24 24\"\n",
              "       width=\"24px\">\n",
              "    <path d=\"M0 0h24v24H0V0z\" fill=\"none\"/>\n",
              "    <path d=\"M18.56 5.44l.94 2.06.94-2.06 2.06-.94-2.06-.94-.94-2.06-.94 2.06-2.06.94zm-11 1L8.5 8.5l.94-2.06 2.06-.94-2.06-.94L8.5 2.5l-.94 2.06-2.06.94zm10 10l.94 2.06.94-2.06 2.06-.94-2.06-.94-.94-2.06-.94 2.06-2.06.94z\"/><path d=\"M17.41 7.96l-1.37-1.37c-.4-.4-.92-.59-1.43-.59-.52 0-1.04.2-1.43.59L10.3 9.45l-7.72 7.72c-.78.78-.78 2.05 0 2.83L4 21.41c.39.39.9.59 1.41.59.51 0 1.02-.2 1.41-.59l7.78-7.78 2.81-2.81c.8-.78.8-2.07 0-2.86zM5.41 20L4 18.59l7.72-7.72 1.47 1.35L5.41 20z\"/>\n",
              "  </svg>\n",
              "      </button>\n",
              "      \n",
              "  <style>\n",
              "    .colab-df-container {\n",
              "      display:flex;\n",
              "      flex-wrap:wrap;\n",
              "      gap: 12px;\n",
              "    }\n",
              "\n",
              "    .colab-df-convert {\n",
              "      background-color: #E8F0FE;\n",
              "      border: none;\n",
              "      border-radius: 50%;\n",
              "      cursor: pointer;\n",
              "      display: none;\n",
              "      fill: #1967D2;\n",
              "      height: 32px;\n",
              "      padding: 0 0 0 0;\n",
              "      width: 32px;\n",
              "    }\n",
              "\n",
              "    .colab-df-convert:hover {\n",
              "      background-color: #E2EBFA;\n",
              "      box-shadow: 0px 1px 2px rgba(60, 64, 67, 0.3), 0px 1px 3px 1px rgba(60, 64, 67, 0.15);\n",
              "      fill: #174EA6;\n",
              "    }\n",
              "\n",
              "    [theme=dark] .colab-df-convert {\n",
              "      background-color: #3B4455;\n",
              "      fill: #D2E3FC;\n",
              "    }\n",
              "\n",
              "    [theme=dark] .colab-df-convert:hover {\n",
              "      background-color: #434B5C;\n",
              "      box-shadow: 0px 1px 3px 1px rgba(0, 0, 0, 0.15);\n",
              "      filter: drop-shadow(0px 1px 2px rgba(0, 0, 0, 0.3));\n",
              "      fill: #FFFFFF;\n",
              "    }\n",
              "  </style>\n",
              "\n",
              "      <script>\n",
              "        const buttonEl =\n",
              "          document.querySelector('#df-1be7da45-4ce5-443e-9624-08eecda2a975 button.colab-df-convert');\n",
              "        buttonEl.style.display =\n",
              "          google.colab.kernel.accessAllowed ? 'block' : 'none';\n",
              "\n",
              "        async function convertToInteractive(key) {\n",
              "          const element = document.querySelector('#df-1be7da45-4ce5-443e-9624-08eecda2a975');\n",
              "          const dataTable =\n",
              "            await google.colab.kernel.invokeFunction('convertToInteractive',\n",
              "                                                     [key], {});\n",
              "          if (!dataTable) return;\n",
              "\n",
              "          const docLinkHtml = 'Like what you see? Visit the ' +\n",
              "            '<a target=\"_blank\" href=https://colab.research.google.com/notebooks/data_table.ipynb>data table notebook</a>'\n",
              "            + ' to learn more about interactive tables.';\n",
              "          element.innerHTML = '';\n",
              "          dataTable['output_type'] = 'display_data';\n",
              "          await google.colab.output.renderOutput(dataTable, element);\n",
              "          const docLink = document.createElement('div');\n",
              "          docLink.innerHTML = docLinkHtml;\n",
              "          element.appendChild(docLink);\n",
              "        }\n",
              "      </script>\n",
              "    </div>\n",
              "  </div>\n",
              "  "
            ],
            "text/plain": [
              "       loss  Aspect_loss  Sentiment_loss  Aspect_accuracy  Sentiment_accuracy  \\\n",
              "0  0.891395     0.689695        0.201700         0.740234            0.939320   \n",
              "1  0.657441     0.498964        0.158478         0.788574            0.947931   \n",
              "2  0.619362     0.473329        0.146034         0.792969            0.951527   \n",
              "3  0.597868     0.458887        0.138982         0.798162            0.953835   \n",
              "4  0.585031     0.450460        0.134571         0.801314            0.955922   \n",
              "\n",
              "   val_loss  val_Aspect_loss  val_Sentiment_loss  val_Aspect_accuracy  \\\n",
              "0  0.697365         0.533381            0.163983             0.768288   \n",
              "1  0.663479         0.508649            0.154830             0.771484   \n",
              "2  0.654789         0.503762            0.151027             0.770064   \n",
              "3  0.654738         0.505162            0.149576             0.768643   \n",
              "4  0.650381         0.503539            0.146843             0.765803   \n",
              "\n",
              "   val_Sentiment_accuracy  \n",
              "0                0.946555  \n",
              "1                0.949219  \n",
              "2                0.950994  \n",
              "3                0.951172  \n",
              "4                0.951172  "
            ]
          },
          "execution_count": 76,
          "metadata": {},
          "output_type": "execute_result"
        }
      ],
      "source": [
        "metrics_training_pangan = pd.DataFrame(history_pangan.history)\n",
        "metrics_training_pangan"
      ]
    },
    {
      "cell_type": "code",
      "execution_count": null,
      "id": "LmXJXUZ44vFI",
      "metadata": {
        "id": "LmXJXUZ44vFI"
      },
      "outputs": [],
      "source": [
        "from sklearn.metrics import classification_report"
      ]
    },
    {
      "cell_type": "code",
      "execution_count": null,
      "id": "AJaeSrHL4vFI",
      "metadata": {
        "id": "AJaeSrHL4vFI"
      },
      "outputs": [],
      "source": [
        "# convert numerical data into categorical data\n",
        "y_sentiment_test = to_categorical(data_pangan_final_test['label_numerical'])\n",
        "y_aspect_test    = to_categorical(data_pangan_final_test['aspect_numerical'])"
      ]
    },
    {
      "cell_type": "code",
      "execution_count": null,
      "id": "CIZWzKuz4vFJ",
      "metadata": {
        "id": "CIZWzKuz4vFJ"
      },
      "outputs": [],
      "source": [
        "# tokenize sentence \n",
        "x_test = tokenizer(\n",
        "    text = data_pangan_final_test['sentence'].to_list(),\n",
        "    add_special_tokens = True,\n",
        "    max_length = MAX_LENGTH,\n",
        "    truncation = True,\n",
        "    padding = True, \n",
        "    return_tensors = 'tf',\n",
        "    return_token_type_ids = False,\n",
        "    return_attention_mask = True,\n",
        "    verbose = True\n",
        ")"
      ]
    },
    {
      "cell_type": "code",
      "execution_count": null,
      "id": "5850yHFV4vFJ",
      "metadata": {
        "colab": {
          "base_uri": "https://localhost:8080/"
        },
        "id": "5850yHFV4vFJ",
        "outputId": "81c2623a-3283-4a11-b2cd-0c9731183cb8"
      },
      "outputs": [
        {
          "name": "stderr",
          "output_type": "stream",
          "text": [
            "/usr/local/lib/python3.7/dist-packages/tensorflow/python/data/ops/structured_function.py:265: UserWarning: Even though the `tf.config.experimental_run_functions_eagerly` option is set, this option does not apply to tf.data functions. To force eager execution of tf.data functions, please use `tf.data.experimental.enable_debug_mode()`.\n",
            "  \"Even though the `tf.config.experimental_run_functions_eagerly` \"\n"
          ]
        },
        {
          "name": "stdout",
          "output_type": "stream",
          "text": [
            "220/220 [==============================] - 45s 202ms/step - loss: 0.6709 - Aspect_loss: 0.5046 - Sentiment_loss: 0.1663 - Aspect_accuracy: 0.7626 - Sentiment_accuracy: 0.9453\n"
          ]
        },
        {
          "data": {
            "text/plain": [
              "[0.6708971261978149,\n",
              " 0.5045595765113831,\n",
              " 0.16633795201778412,\n",
              " 0.7626420259475708,\n",
              " 0.9453125]"
            ]
          },
          "execution_count": 80,
          "metadata": {},
          "output_type": "execute_result"
        }
      ],
      "source": [
        "model_bert_pangan.evaluate( \n",
        "    x = {'input_ids' : x_test['input_ids'], 'attention_mask' : x_test['attention_mask']},\n",
        "    y = {'sentiment': y_sentiment_test, 'aspect': y_aspect_test},\n",
        ")"
      ]
    },
    {
      "cell_type": "code",
      "execution_count": null,
      "id": "5MuADthy4vFJ",
      "metadata": {
        "id": "5MuADthy4vFJ"
      },
      "outputs": [],
      "source": [
        "predicted = model_bert_pangan.predict(x = {'input_ids' : x_test['input_ids'], 'attention_mask' : x_test['attention_mask']})"
      ]
    },
    {
      "cell_type": "code",
      "execution_count": null,
      "id": "Katqfqcv4vFJ",
      "metadata": {
        "colab": {
          "base_uri": "https://localhost:8080/"
        },
        "id": "Katqfqcv4vFJ",
        "outputId": "ae1185a4-aff3-4359-cd90-6a274c39b668"
      },
      "outputs": [
        {
          "name": "stdout",
          "output_type": "stream",
          "text": [
            "              precision    recall  f1-score   support\n",
            "\n",
            "           0       0.33      0.03      0.06       126\n",
            "           1       0.96      0.99      0.97      6579\n",
            "           2       0.59      0.43      0.50       335\n",
            "\n",
            "    accuracy                           0.95      7040\n",
            "   macro avg       0.63      0.48      0.51      7040\n",
            "weighted avg       0.93      0.95      0.93      7040\n",
            "\n"
          ]
        }
      ],
      "source": [
        "# sentiment\n",
        "print(classification_report( \n",
        "    y_sentiment_test.argmax(axis =  1),\n",
        "    predicted['sentiment'].argmax(axis = 1)\n",
        "))"
      ]
    },
    {
      "cell_type": "code",
      "execution_count": null,
      "id": "2qSEeiX-4vFJ",
      "metadata": {
        "colab": {
          "base_uri": "https://localhost:8080/"
        },
        "id": "2qSEeiX-4vFJ",
        "outputId": "75f8c14f-7377-4457-8a7d-340b01afade4"
      },
      "outputs": [
        {
          "name": "stdout",
          "output_type": "stream",
          "text": [
            "              precision    recall  f1-score   support\n",
            "\n",
            "           0       0.86      0.59      0.70       704\n",
            "           1       0.65      0.69      0.67       704\n",
            "           2       0.73      0.85      0.79       704\n",
            "           3       0.82      0.81      0.81       704\n",
            "           4       0.78      0.73      0.75       704\n",
            "           5       0.83      0.75      0.79       704\n",
            "           6       0.78      0.85      0.81       704\n",
            "           7       0.77      0.88      0.82       704\n",
            "           8       0.72      0.71      0.71       704\n",
            "           9       0.75      0.76      0.76       704\n",
            "\n",
            "    accuracy                           0.76      7040\n",
            "   macro avg       0.77      0.76      0.76      7040\n",
            "weighted avg       0.77      0.76      0.76      7040\n",
            "\n"
          ]
        }
      ],
      "source": [
        "# aspect\n",
        "print(classification_report( \n",
        "    y_aspect_test.argmax(axis =  1),\n",
        "    predicted['aspect'].argmax(axis = 1)\n",
        "))"
      ]
    },
    {
      "cell_type": "markdown",
      "id": "7XLh32OxenHj",
      "metadata": {
        "id": "7XLh32OxenHj"
      },
      "source": [
        "## 2.3 Goverment Dataset"
      ]
    },
    {
      "cell_type": "code",
      "execution_count": 17,
      "id": "vwQdKhq1eq0M",
      "metadata": {
        "colab": {
          "base_uri": "https://localhost:8080/"
        },
        "id": "vwQdKhq1eq0M",
        "outputId": "310c1450-e666-4877-b091-7382aebf52a4"
      },
      "outputs": [
        {
          "name": "stdout",
          "output_type": "stream",
          "text": [
            "(19200, 5) (4800, 5)\n"
          ]
        }
      ],
      "source": [
        "# split data into train and test\n",
        "data_gove_final, data_gove_final_test = train_test_split(data_gove_final, test_size = 0.2, stratify = data_gove_final[\"aspect_numerical\"])\n",
        "\n",
        "# check dimension of data after splitted\n",
        "print(data_gove_final.shape, data_gove_final_test.shape)"
      ]
    },
    {
      "cell_type": "code",
      "execution_count": 18,
      "id": "lkiMHBIoeq0M",
      "metadata": {
        "colab": {
          "base_uri": "https://localhost:8080/",
          "height": 280,
          "referenced_widgets": [
            "d205c68b937144358edb2d217fed21cf",
            "4fca74b4b9c04d0f8c904c5f7aad4f1b",
            "37b7ece809e947f39dec58d7ea35b31a",
            "fd0f44a5d86c47f98efdb736f0d98766",
            "e827da9249724ae5b28ba7a66cee8eca",
            "3495845fe4bd4e91953375256b80d8ee",
            "15e9d0ec65e449c98aeb01fe1db0e477",
            "59fa1b8c35694d638a53b7ea249b0df7",
            "defa8b013be1493790a2646afcddd535",
            "2e84fed53fc64135ad126622794eed56",
            "899fba0210cc42e5a39367d985c9af93",
            "ad3651c8685646abb1f9c3dc128495d2",
            "59819e672efd4f22a62625247e372609",
            "8607518b2f3b4b2e8ea0b06613b1c9e1",
            "99a32b1d15484bf7a5fa5b0d33ef780b",
            "af3a85aaff8648e5bfa7a16158b11a77",
            "a35b4a6fe52b465689352cd97539c20a",
            "fc2276ada14044059f75283b9012a1f4",
            "97b81283e8b04985b621342821a80642",
            "0fa09580851f49178796d3e16b2d5e30",
            "ff290d97b613401d8ad12a810ec891f5",
            "4161dbfb4538405a9b4e2a615eef21d9",
            "8e4168441ff64ce79cf542a3e8f27f5c",
            "3e09ba50ccd1462e894089a0fed6db74",
            "eff0b5e2a647473faccc410eef87039e",
            "faf67fab6f7744dcb9318c78dce38a53",
            "f1790d0f55964848891eef74caccf443",
            "f0fb20f4be2049258cabd3a77b3f017d",
            "b4a14a175a414d6ca739950e8fb92d24",
            "dd9cb8f5017d4122b50eac34944dce56",
            "479d74be7e794fe0afc070d706c0eaf6",
            "530a7753753741e2b75a6092154a9df8",
            "cbfbd9c8967846fc827e9d8bc007cccd",
            "2bd48213287b48c3ae91c07f487cd259",
            "6864dd6501b54cb5b250dcc8529ce2ca",
            "5227363cd447437f96d897f00dd55a9b",
            "0e8f977fe3b6449cb5d284e61741f6c6",
            "41167558304447409839583942863a35",
            "72adcf553c284a3e9ce8d4d3bf3bd2a2",
            "52751e2cc4b64a75a0bc9972cd288b67",
            "3bb92690d36748059b17f22e03598c98",
            "3a69110cce6c4e91a049c4f5086a2f01",
            "7c40410ca8854d2999e59c4ea5c596ea",
            "01c9c19e8d0248608a55e5f4ec89d891"
          ]
        },
        "id": "lkiMHBIoeq0M",
        "outputId": "1a1c10ed-b1e7-4b8c-eb5d-aa5cb49e80e9"
      },
      "outputs": [
        {
          "data": {
            "application/vnd.jupyter.widget-view+json": {
              "model_id": "d205c68b937144358edb2d217fed21cf",
              "version_major": 2,
              "version_minor": 0
            },
            "text/plain": [
              "Downloading:   0%|          | 0.00/62.0 [00:00<?, ?B/s]"
            ]
          },
          "metadata": {},
          "output_type": "display_data"
        },
        {
          "data": {
            "application/vnd.jupyter.widget-view+json": {
              "model_id": "ad3651c8685646abb1f9c3dc128495d2",
              "version_major": 2,
              "version_minor": 0
            },
            "text/plain": [
              "Downloading:   0%|          | 0.00/230k [00:00<?, ?B/s]"
            ]
          },
          "metadata": {},
          "output_type": "display_data"
        },
        {
          "data": {
            "application/vnd.jupyter.widget-view+json": {
              "model_id": "8e4168441ff64ce79cf542a3e8f27f5c",
              "version_major": 2,
              "version_minor": 0
            },
            "text/plain": [
              "Downloading:   0%|          | 0.00/112 [00:00<?, ?B/s]"
            ]
          },
          "metadata": {},
          "output_type": "display_data"
        },
        {
          "data": {
            "application/vnd.jupyter.widget-view+json": {
              "model_id": "2bd48213287b48c3ae91c07f487cd259",
              "version_major": 2,
              "version_minor": 0
            },
            "text/plain": [
              "Downloading:   0%|          | 0.00/545M [00:00<?, ?B/s]"
            ]
          },
          "metadata": {},
          "output_type": "display_data"
        },
        {
          "name": "stderr",
          "output_type": "stream",
          "text": [
            "Some layers from the model checkpoint at cahya/bert-base-indonesian-522M were not used when initializing TFBertModel: ['mlm___cls']\n",
            "- This IS expected if you are initializing TFBertModel from the checkpoint of a model trained on another task or with another architecture (e.g. initializing a BertForSequenceClassification model from a BertForPreTraining model).\n",
            "- This IS NOT expected if you are initializing TFBertModel from the checkpoint of a model that you expect to be exactly identical (initializing a BertForSequenceClassification model from a BertForSequenceClassification model).\n",
            "All the layers of TFBertModel were initialized from the model checkpoint at cahya/bert-base-indonesian-522M.\n",
            "If your task is similar to the task the model of the checkpoint was trained on, you can already use TFBertModel for predictions without further training.\n"
          ]
        }
      ],
      "source": [
        "tokenizer = BertTokenizerFast.from_pretrained(pretrained_model_name_or_path = MODEL_NAME, config = config)\n",
        "model = TFBertModel.from_pretrained(MODEL_NAME, config)"
      ]
    },
    {
      "cell_type": "code",
      "execution_count": 19,
      "id": "9VUa-olDeq0M",
      "metadata": {
        "id": "9VUa-olDeq0M"
      },
      "outputs": [],
      "source": [
        "# inherit model\n",
        "model_bert_gove = build_model(model, data_gove_final, \"label_numerical\", \"aspect_numerical\")"
      ]
    },
    {
      "cell_type": "code",
      "execution_count": 20,
      "id": "a_A-4o8Teq0M",
      "metadata": {
        "colab": {
          "base_uri": "https://localhost:8080/"
        },
        "id": "a_A-4o8Teq0M",
        "outputId": "c1bb2d00-17da-4fb7-cd92-f87ceea18893"
      },
      "outputs": [
        {
          "name": "stdout",
          "output_type": "stream",
          "text": [
            "Model: \"BERT_Bank_Multiclass\"\n",
            "__________________________________________________________________________________________________\n",
            " Layer (type)                   Output Shape         Param #     Connected to                     \n",
            "==================================================================================================\n",
            " attention_mask (InputLayer)    [(None, 64)]         0           []                               \n",
            "                                                                                                  \n",
            " input_ids (InputLayer)         [(None, 64)]         0           []                               \n",
            "                                                                                                  \n",
            " bert (TFBertMainLayer)         TFBaseModelOutputWi  110617344   ['attention_mask[0][0]',         \n",
            "                                thPoolingAndCrossAt               'input_ids[0][0]']              \n",
            "                                tentions(last_hidde                                               \n",
            "                                n_state=(None, 64,                                                \n",
            "                                768),                                                             \n",
            "                                 pooler_output=(Non                                               \n",
            "                                e, 768),                                                          \n",
            "                                 past_key_values=No                                               \n",
            "                                ne, hidden_states=N                                               \n",
            "                                one, attentions=Non                                               \n",
            "                                e, cross_attentions                                               \n",
            "                                =None)                                                            \n",
            "                                                                                                  \n",
            " pool_out (Dropout)             (None, 768)          0           ['bert[0][1]']                   \n",
            "                                                                                                  \n",
            " Aspect (Dense)                 (None, 10)           7690        ['pool_out[0][0]']               \n",
            "                                                                                                  \n",
            " Sentiment (Dense)              (None, 3)            2307        ['pool_out[0][0]']               \n",
            "                                                                                                  \n",
            "==================================================================================================\n",
            "Total params: 110,627,341\n",
            "Trainable params: 110,627,341\n",
            "Non-trainable params: 0\n",
            "__________________________________________________________________________________________________\n"
          ]
        }
      ],
      "source": [
        "# overview model architecture\n",
        "model_bert_gove.summary()"
      ]
    },
    {
      "cell_type": "code",
      "execution_count": 21,
      "id": "Vm795UJ9eq0M",
      "metadata": {
        "id": "Vm795UJ9eq0M"
      },
      "outputs": [],
      "source": [
        "# compile model\n",
        "model_bert_gove.compile(optimizer = optimizer, loss = loss, metrics = metrics)"
      ]
    },
    {
      "cell_type": "code",
      "execution_count": 22,
      "id": "hox5Hmrceq0M",
      "metadata": {
        "id": "hox5Hmrceq0M"
      },
      "outputs": [],
      "source": [
        "# convert numerical data into categorical data\n",
        "y_sentiment = to_categorical(data_gove_final['label_numerical'])\n",
        "y_aspect    = to_categorical(data_gove_final['aspect_numerical'])"
      ]
    },
    {
      "cell_type": "code",
      "execution_count": 23,
      "id": "3tvBL07aeq0N",
      "metadata": {
        "id": "3tvBL07aeq0N"
      },
      "outputs": [],
      "source": [
        "# tokenize sentence \n",
        "x = tokenizer(\n",
        "    text = data_gove_final['sentence'].to_list(),\n",
        "    add_special_tokens = True,\n",
        "    max_length = MAX_LENGTH,\n",
        "    truncation = True,\n",
        "    padding = True, \n",
        "    return_tensors = 'tf',\n",
        "    return_token_type_ids = False,\n",
        "    return_attention_mask = True,\n",
        "    verbose = True\n",
        ")"
      ]
    },
    {
      "cell_type": "code",
      "execution_count": 24,
      "id": "6SiBDadYeq0N",
      "metadata": {
        "colab": {
          "base_uri": "https://localhost:8080/"
        },
        "id": "6SiBDadYeq0N",
        "outputId": "b31b7852-db09-4c99-e6ae-c45cffc9e2ae"
      },
      "outputs": [
        {
          "name": "stdout",
          "output_type": "stream",
          "text": [
            "Epoch 1/10\n"
          ]
        },
        {
          "name": "stderr",
          "output_type": "stream",
          "text": [
            "/usr/local/lib/python3.7/dist-packages/tensorflow/python/data/ops/structured_function.py:265: UserWarning: Even though the `tf.config.experimental_run_functions_eagerly` option is set, this option does not apply to tf.data functions. To force eager execution of tf.data functions, please use `tf.data.experimental.enable_debug_mode()`.\n",
            "  \"Even though the `tf.config.experimental_run_functions_eagerly` \"\n"
          ]
        },
        {
          "name": "stdout",
          "output_type": "stream",
          "text": [
            "1920/1920 [==============================] - 1139s 593ms/step - loss: 0.6685 - Aspect_loss: 0.4882 - Sentiment_loss: 0.1802 - Aspect_accuracy: 0.8199 - Sentiment_accuracy: 0.9462 - val_loss: 0.5374 - val_Aspect_loss: 0.3807 - val_Sentiment_loss: 0.1568 - val_Aspect_accuracy: 0.8341 - val_Sentiment_accuracy: 0.9490\n"
          ]
        }
      ],
      "source": [
        "history_gove = model_bert_gove.fit(\n",
        "    x = {'input_ids': x['input_ids'], 'attention_mask' : x['attention_mask']},\n",
        "    y = {\"sentiment\" : y_sentiment, \"aspect\" : y_aspect},\n",
        "    validation_split = 0.2,\n",
        "    batch_size = 8,\n",
        "    epochs = 10,\n",
        "    callbacks = [OwnCallbacks()]\n",
        ")"
      ]
    },
    {
      "cell_type": "code",
      "execution_count": 25,
      "id": "4C9gcSbdeq0N",
      "metadata": {
        "id": "4C9gcSbdeq0N"
      },
      "outputs": [],
      "source": [
        "model_bert_gove.save(\"model_bert_gove.h5\")"
      ]
    },
    {
      "cell_type": "code",
      "execution_count": 26,
      "id": "AqGb48f2eq0N",
      "metadata": {
        "colab": {
          "base_uri": "https://localhost:8080/",
          "height": 145
        },
        "id": "AqGb48f2eq0N",
        "outputId": "bcde4acc-1c7a-4b52-bf6e-4973453ab551"
      },
      "outputs": [
        {
          "data": {
            "text/html": [
              "\n",
              "  <div id=\"df-a5a40be5-7274-49f2-afe3-7164cd16c229\">\n",
              "    <div class=\"colab-df-container\">\n",
              "      <div>\n",
              "<style scoped>\n",
              "    .dataframe tbody tr th:only-of-type {\n",
              "        vertical-align: middle;\n",
              "    }\n",
              "\n",
              "    .dataframe tbody tr th {\n",
              "        vertical-align: top;\n",
              "    }\n",
              "\n",
              "    .dataframe thead th {\n",
              "        text-align: right;\n",
              "    }\n",
              "</style>\n",
              "<table border=\"1\" class=\"dataframe\">\n",
              "  <thead>\n",
              "    <tr style=\"text-align: right;\">\n",
              "      <th></th>\n",
              "      <th>loss</th>\n",
              "      <th>Aspect_loss</th>\n",
              "      <th>Sentiment_loss</th>\n",
              "      <th>Aspect_accuracy</th>\n",
              "      <th>Sentiment_accuracy</th>\n",
              "      <th>val_loss</th>\n",
              "      <th>val_Aspect_loss</th>\n",
              "      <th>val_Sentiment_loss</th>\n",
              "      <th>val_Aspect_accuracy</th>\n",
              "      <th>val_Sentiment_accuracy</th>\n",
              "    </tr>\n",
              "  </thead>\n",
              "  <tbody>\n",
              "    <tr>\n",
              "      <th>0</th>\n",
              "      <td>0.66846</td>\n",
              "      <td>0.488221</td>\n",
              "      <td>0.180239</td>\n",
              "      <td>0.819922</td>\n",
              "      <td>0.946224</td>\n",
              "      <td>0.537432</td>\n",
              "      <td>0.380662</td>\n",
              "      <td>0.15677</td>\n",
              "      <td>0.834115</td>\n",
              "      <td>0.948958</td>\n",
              "    </tr>\n",
              "  </tbody>\n",
              "</table>\n",
              "</div>\n",
              "      <button class=\"colab-df-convert\" onclick=\"convertToInteractive('df-a5a40be5-7274-49f2-afe3-7164cd16c229')\"\n",
              "              title=\"Convert this dataframe to an interactive table.\"\n",
              "              style=\"display:none;\">\n",
              "        \n",
              "  <svg xmlns=\"http://www.w3.org/2000/svg\" height=\"24px\"viewBox=\"0 0 24 24\"\n",
              "       width=\"24px\">\n",
              "    <path d=\"M0 0h24v24H0V0z\" fill=\"none\"/>\n",
              "    <path d=\"M18.56 5.44l.94 2.06.94-2.06 2.06-.94-2.06-.94-.94-2.06-.94 2.06-2.06.94zm-11 1L8.5 8.5l.94-2.06 2.06-.94-2.06-.94L8.5 2.5l-.94 2.06-2.06.94zm10 10l.94 2.06.94-2.06 2.06-.94-2.06-.94-.94-2.06-.94 2.06-2.06.94z\"/><path d=\"M17.41 7.96l-1.37-1.37c-.4-.4-.92-.59-1.43-.59-.52 0-1.04.2-1.43.59L10.3 9.45l-7.72 7.72c-.78.78-.78 2.05 0 2.83L4 21.41c.39.39.9.59 1.41.59.51 0 1.02-.2 1.41-.59l7.78-7.78 2.81-2.81c.8-.78.8-2.07 0-2.86zM5.41 20L4 18.59l7.72-7.72 1.47 1.35L5.41 20z\"/>\n",
              "  </svg>\n",
              "      </button>\n",
              "      \n",
              "  <style>\n",
              "    .colab-df-container {\n",
              "      display:flex;\n",
              "      flex-wrap:wrap;\n",
              "      gap: 12px;\n",
              "    }\n",
              "\n",
              "    .colab-df-convert {\n",
              "      background-color: #E8F0FE;\n",
              "      border: none;\n",
              "      border-radius: 50%;\n",
              "      cursor: pointer;\n",
              "      display: none;\n",
              "      fill: #1967D2;\n",
              "      height: 32px;\n",
              "      padding: 0 0 0 0;\n",
              "      width: 32px;\n",
              "    }\n",
              "\n",
              "    .colab-df-convert:hover {\n",
              "      background-color: #E2EBFA;\n",
              "      box-shadow: 0px 1px 2px rgba(60, 64, 67, 0.3), 0px 1px 3px 1px rgba(60, 64, 67, 0.15);\n",
              "      fill: #174EA6;\n",
              "    }\n",
              "\n",
              "    [theme=dark] .colab-df-convert {\n",
              "      background-color: #3B4455;\n",
              "      fill: #D2E3FC;\n",
              "    }\n",
              "\n",
              "    [theme=dark] .colab-df-convert:hover {\n",
              "      background-color: #434B5C;\n",
              "      box-shadow: 0px 1px 3px 1px rgba(0, 0, 0, 0.15);\n",
              "      filter: drop-shadow(0px 1px 2px rgba(0, 0, 0, 0.3));\n",
              "      fill: #FFFFFF;\n",
              "    }\n",
              "  </style>\n",
              "\n",
              "      <script>\n",
              "        const buttonEl =\n",
              "          document.querySelector('#df-a5a40be5-7274-49f2-afe3-7164cd16c229 button.colab-df-convert');\n",
              "        buttonEl.style.display =\n",
              "          google.colab.kernel.accessAllowed ? 'block' : 'none';\n",
              "\n",
              "        async function convertToInteractive(key) {\n",
              "          const element = document.querySelector('#df-a5a40be5-7274-49f2-afe3-7164cd16c229');\n",
              "          const dataTable =\n",
              "            await google.colab.kernel.invokeFunction('convertToInteractive',\n",
              "                                                     [key], {});\n",
              "          if (!dataTable) return;\n",
              "\n",
              "          const docLinkHtml = 'Like what you see? Visit the ' +\n",
              "            '<a target=\"_blank\" href=https://colab.research.google.com/notebooks/data_table.ipynb>data table notebook</a>'\n",
              "            + ' to learn more about interactive tables.';\n",
              "          element.innerHTML = '';\n",
              "          dataTable['output_type'] = 'display_data';\n",
              "          await google.colab.output.renderOutput(dataTable, element);\n",
              "          const docLink = document.createElement('div');\n",
              "          docLink.innerHTML = docLinkHtml;\n",
              "          element.appendChild(docLink);\n",
              "        }\n",
              "      </script>\n",
              "    </div>\n",
              "  </div>\n",
              "  "
            ],
            "text/plain": [
              "      loss  Aspect_loss  Sentiment_loss  Aspect_accuracy  Sentiment_accuracy  \\\n",
              "0  0.66846     0.488221        0.180239         0.819922            0.946224   \n",
              "\n",
              "   val_loss  val_Aspect_loss  val_Sentiment_loss  val_Aspect_accuracy  \\\n",
              "0  0.537432         0.380662             0.15677             0.834115   \n",
              "\n",
              "   val_Sentiment_accuracy  \n",
              "0                0.948958  "
            ]
          },
          "execution_count": 26,
          "metadata": {},
          "output_type": "execute_result"
        }
      ],
      "source": [
        "metrics_training_gove = pd.DataFrame(history_gove.history)\n",
        "metrics_training_gove"
      ]
    },
    {
      "cell_type": "code",
      "execution_count": 27,
      "id": "RYlnPzMfeq0N",
      "metadata": {
        "id": "RYlnPzMfeq0N"
      },
      "outputs": [],
      "source": [
        "from sklearn.metrics import classification_report"
      ]
    },
    {
      "cell_type": "code",
      "execution_count": 28,
      "id": "lbh9UqUyeq0N",
      "metadata": {
        "id": "lbh9UqUyeq0N"
      },
      "outputs": [],
      "source": [
        "# convert numerical data into categorical data\n",
        "y_sentiment_test = to_categorical(data_gove_final_test['label_numerical'])\n",
        "y_aspect_test    = to_categorical(data_gove_final_test['aspect_numerical'])"
      ]
    },
    {
      "cell_type": "code",
      "execution_count": 29,
      "id": "pLsoWpNleq0N",
      "metadata": {
        "id": "pLsoWpNleq0N"
      },
      "outputs": [],
      "source": [
        "# tokenize sentence \n",
        "x_test = tokenizer(\n",
        "    text = data_gove_final_test['sentence'].to_list(),\n",
        "    add_special_tokens = True,\n",
        "    max_length = MAX_LENGTH,\n",
        "    truncation = True,\n",
        "    padding = True, \n",
        "    return_tensors = 'tf',\n",
        "    return_token_type_ids = False,\n",
        "    return_attention_mask = True,\n",
        "    verbose = True\n",
        ")"
      ]
    },
    {
      "cell_type": "code",
      "execution_count": 30,
      "id": "6URa1jRWeq0N",
      "metadata": {
        "colab": {
          "base_uri": "https://localhost:8080/"
        },
        "id": "6URa1jRWeq0N",
        "outputId": "79c52e85-ad5c-423f-95c8-1380a056f20f"
      },
      "outputs": [
        {
          "name": "stderr",
          "output_type": "stream",
          "text": [
            "/usr/local/lib/python3.7/dist-packages/tensorflow/python/data/ops/structured_function.py:265: UserWarning: Even though the `tf.config.experimental_run_functions_eagerly` option is set, this option does not apply to tf.data functions. To force eager execution of tf.data functions, please use `tf.data.experimental.enable_debug_mode()`.\n",
            "  \"Even though the `tf.config.experimental_run_functions_eagerly` \"\n"
          ]
        },
        {
          "name": "stdout",
          "output_type": "stream",
          "text": [
            "150/150 [==============================] - 36s 243ms/step - loss: 0.5240 - Aspect_loss: 0.3770 - Sentiment_loss: 0.1470 - Aspect_accuracy: 0.8329 - Sentiment_accuracy: 0.9540\n"
          ]
        },
        {
          "data": {
            "text/plain": [
              "[0.5239651799201965,\n",
              " 0.37700557708740234,\n",
              " 0.1469595730304718,\n",
              " 0.8329166769981384,\n",
              " 0.9539583325386047]"
            ]
          },
          "execution_count": 30,
          "metadata": {},
          "output_type": "execute_result"
        }
      ],
      "source": [
        "model_bert_gove.evaluate( \n",
        "    x = {'input_ids' : x_test['input_ids'], 'attention_mask' : x_test['attention_mask']},\n",
        "    y = {'sentiment': y_sentiment_test, 'aspect': y_aspect_test},\n",
        ")"
      ]
    },
    {
      "cell_type": "code",
      "execution_count": 31,
      "id": "Aq2Rd2Lzeq0N",
      "metadata": {
        "id": "Aq2Rd2Lzeq0N"
      },
      "outputs": [],
      "source": [
        "predicted = model_bert_gove.predict(x = {'input_ids' : x_test['input_ids'], 'attention_mask' : x_test['attention_mask']})"
      ]
    },
    {
      "cell_type": "code",
      "execution_count": 32,
      "id": "PE1iMBUSeq0N",
      "metadata": {
        "colab": {
          "base_uri": "https://localhost:8080/"
        },
        "id": "PE1iMBUSeq0N",
        "outputId": "61ebeae7-99ee-4be4-8295-d9ec24cde09e"
      },
      "outputs": [
        {
          "name": "stdout",
          "output_type": "stream",
          "text": [
            "              precision    recall  f1-score   support\n",
            "\n",
            "           0       0.33      0.01      0.02        79\n",
            "           1       0.96      0.99      0.98      4551\n",
            "           2       0.57      0.38      0.46       170\n",
            "\n",
            "    accuracy                           0.95      4800\n",
            "   macro avg       0.62      0.46      0.49      4800\n",
            "weighted avg       0.94      0.95      0.94      4800\n",
            "\n"
          ]
        }
      ],
      "source": [
        "# sentiment\n",
        "print(classification_report( \n",
        "    y_sentiment_test.argmax(axis =  1),\n",
        "    predicted['sentiment'].argmax(axis = 1)\n",
        "))"
      ]
    },
    {
      "cell_type": "code",
      "execution_count": 33,
      "id": "ntHTdqRNeq0N",
      "metadata": {
        "colab": {
          "base_uri": "https://localhost:8080/"
        },
        "id": "ntHTdqRNeq0N",
        "outputId": "b9c106cf-e1eb-4942-c098-e6283a9fd626"
      },
      "outputs": [
        {
          "name": "stdout",
          "output_type": "stream",
          "text": [
            "              precision    recall  f1-score   support\n",
            "\n",
            "           0       0.89      0.63      0.74       480\n",
            "           1       0.76      0.77      0.76       480\n",
            "           2       0.84      0.79      0.82       480\n",
            "           3       0.86      0.93      0.89       480\n",
            "           4       0.80      0.89      0.84       480\n",
            "           5       0.82      0.93      0.87       480\n",
            "           6       0.81      0.69      0.74       480\n",
            "           7       0.81      0.75      0.78       480\n",
            "           8       0.80      0.97      0.88       480\n",
            "           9       0.96      0.97      0.96       480\n",
            "\n",
            "    accuracy                           0.83      4800\n",
            "   macro avg       0.83      0.83      0.83      4800\n",
            "weighted avg       0.83      0.83      0.83      4800\n",
            "\n"
          ]
        }
      ],
      "source": [
        "# aspect\n",
        "print(classification_report( \n",
        "    y_aspect_test.argmax(axis =  1),\n",
        "    predicted['aspect'].argmax(axis = 1)\n",
        "))"
      ]
    }
  ],
  "metadata": {
    "accelerator": "GPU",
    "colab": {
      "collapsed_sections": [
        "7a2bd356",
        "bcdf6da0",
        "ee8794db",
        "3RH1GdE94q4V"
      ],
      "provenance": []
    },
    "kernelspec": {
      "display_name": "Python 3 (ipykernel)",
      "language": "python",
      "name": "python3"
    },
    "language_info": {
      "codemirror_mode": {
        "name": "ipython",
        "version": 3
      },
      "file_extension": ".py",
      "mimetype": "text/x-python",
      "name": "python",
      "nbconvert_exporter": "python",
      "pygments_lexer": "ipython3",
      "version": "3.9.7"
    },
    "widgets": {
      "application/vnd.jupyter.widget-state+json": {
        "017547ac46ee44bd80b6638d98781cbb": {
          "model_module": "@jupyter-widgets/controls",
          "model_module_version": "1.5.0",
          "model_name": "HTMLModel",
          "state": {
            "_dom_classes": [],
            "_model_module": "@jupyter-widgets/controls",
            "_model_module_version": "1.5.0",
            "_model_name": "HTMLModel",
            "_view_count": null,
            "_view_module": "@jupyter-widgets/controls",
            "_view_module_version": "1.5.0",
            "_view_name": "HTMLView",
            "description": "",
            "description_tooltip": null,
            "layout": "IPY_MODEL_9985b367124b4c7594c76453c1c79b44",
            "placeholder": "​",
            "style": "IPY_MODEL_0747364092974048b900ccf595c35bb6",
            "value": "Downloading: 100%"
          }
        },
        "01c9c19e8d0248608a55e5f4ec89d891": {
          "model_module": "@jupyter-widgets/controls",
          "model_module_version": "1.5.0",
          "model_name": "DescriptionStyleModel",
          "state": {
            "_model_module": "@jupyter-widgets/controls",
            "_model_module_version": "1.5.0",
            "_model_name": "DescriptionStyleModel",
            "_view_count": null,
            "_view_module": "@jupyter-widgets/base",
            "_view_module_version": "1.2.0",
            "_view_name": "StyleView",
            "description_width": ""
          }
        },
        "02d6e18b89a545e28815bf5f79bcd1c8": {
          "model_module": "@jupyter-widgets/controls",
          "model_module_version": "1.5.0",
          "model_name": "HTMLModel",
          "state": {
            "_dom_classes": [],
            "_model_module": "@jupyter-widgets/controls",
            "_model_module_version": "1.5.0",
            "_model_name": "HTMLModel",
            "_view_count": null,
            "_view_module": "@jupyter-widgets/controls",
            "_view_module_version": "1.5.0",
            "_view_name": "HTMLView",
            "description": "",
            "description_tooltip": null,
            "layout": "IPY_MODEL_644dc9f36ac547ef88b766779f13e61c",
            "placeholder": "​",
            "style": "IPY_MODEL_54781b1dc6694e2494e2d56bb3d9b133",
            "value": "Downloading: 100%"
          }
        },
        "03be5ea145c9497daea0d37c21fe5b73": {
          "model_module": "@jupyter-widgets/controls",
          "model_module_version": "1.5.0",
          "model_name": "DescriptionStyleModel",
          "state": {
            "_model_module": "@jupyter-widgets/controls",
            "_model_module_version": "1.5.0",
            "_model_name": "DescriptionStyleModel",
            "_view_count": null,
            "_view_module": "@jupyter-widgets/base",
            "_view_module_version": "1.2.0",
            "_view_name": "StyleView",
            "description_width": ""
          }
        },
        "049b4183821445c9a2f37668fb50b738": {
          "model_module": "@jupyter-widgets/controls",
          "model_module_version": "1.5.0",
          "model_name": "HTMLModel",
          "state": {
            "_dom_classes": [],
            "_model_module": "@jupyter-widgets/controls",
            "_model_module_version": "1.5.0",
            "_model_name": "HTMLModel",
            "_view_count": null,
            "_view_module": "@jupyter-widgets/controls",
            "_view_module_version": "1.5.0",
            "_view_name": "HTMLView",
            "description": "",
            "description_tooltip": null,
            "layout": "IPY_MODEL_b0da77a682a14496b0a0264ae071f895",
            "placeholder": "​",
            "style": "IPY_MODEL_47f6e473db364b58b8541322b1d3a8ca",
            "value": "Downloading: 100%"
          }
        },
        "0747364092974048b900ccf595c35bb6": {
          "model_module": "@jupyter-widgets/controls",
          "model_module_version": "1.5.0",
          "model_name": "DescriptionStyleModel",
          "state": {
            "_model_module": "@jupyter-widgets/controls",
            "_model_module_version": "1.5.0",
            "_model_name": "DescriptionStyleModel",
            "_view_count": null,
            "_view_module": "@jupyter-widgets/base",
            "_view_module_version": "1.2.0",
            "_view_name": "StyleView",
            "description_width": ""
          }
        },
        "08b7b3145c83475ea596f77901896a30": {
          "model_module": "@jupyter-widgets/controls",
          "model_module_version": "1.5.0",
          "model_name": "HTMLModel",
          "state": {
            "_dom_classes": [],
            "_model_module": "@jupyter-widgets/controls",
            "_model_module_version": "1.5.0",
            "_model_name": "HTMLModel",
            "_view_count": null,
            "_view_module": "@jupyter-widgets/controls",
            "_view_module_version": "1.5.0",
            "_view_name": "HTMLView",
            "description": "",
            "description_tooltip": null,
            "layout": "IPY_MODEL_7cd51e51cdf24fd0ade7425bce867a19",
            "placeholder": "​",
            "style": "IPY_MODEL_20c238aed80d4e98b175e6d8d443e560",
            "value": " 62.0/62.0 [00:00&lt;00:00, 1.73kB/s]"
          }
        },
        "092527fb0e16403386e583958ca83f0b": {
          "model_module": "@jupyter-widgets/base",
          "model_module_version": "1.2.0",
          "model_name": "LayoutModel",
          "state": {
            "_model_module": "@jupyter-widgets/base",
            "_model_module_version": "1.2.0",
            "_model_name": "LayoutModel",
            "_view_count": null,
            "_view_module": "@jupyter-widgets/base",
            "_view_module_version": "1.2.0",
            "_view_name": "LayoutView",
            "align_content": null,
            "align_items": null,
            "align_self": null,
            "border": null,
            "bottom": null,
            "display": null,
            "flex": null,
            "flex_flow": null,
            "grid_area": null,
            "grid_auto_columns": null,
            "grid_auto_flow": null,
            "grid_auto_rows": null,
            "grid_column": null,
            "grid_gap": null,
            "grid_row": null,
            "grid_template_areas": null,
            "grid_template_columns": null,
            "grid_template_rows": null,
            "height": null,
            "justify_content": null,
            "justify_items": null,
            "left": null,
            "margin": null,
            "max_height": null,
            "max_width": null,
            "min_height": null,
            "min_width": null,
            "object_fit": null,
            "object_position": null,
            "order": null,
            "overflow": null,
            "overflow_x": null,
            "overflow_y": null,
            "padding": null,
            "right": null,
            "top": null,
            "visibility": null,
            "width": null
          }
        },
        "0e8f977fe3b6449cb5d284e61741f6c6": {
          "model_module": "@jupyter-widgets/controls",
          "model_module_version": "1.5.0",
          "model_name": "HTMLModel",
          "state": {
            "_dom_classes": [],
            "_model_module": "@jupyter-widgets/controls",
            "_model_module_version": "1.5.0",
            "_model_name": "HTMLModel",
            "_view_count": null,
            "_view_module": "@jupyter-widgets/controls",
            "_view_module_version": "1.5.0",
            "_view_name": "HTMLView",
            "description": "",
            "description_tooltip": null,
            "layout": "IPY_MODEL_7c40410ca8854d2999e59c4ea5c596ea",
            "placeholder": "​",
            "style": "IPY_MODEL_01c9c19e8d0248608a55e5f4ec89d891",
            "value": " 545M/545M [00:21&lt;00:00, 33.4MB/s]"
          }
        },
        "0fa09580851f49178796d3e16b2d5e30": {
          "model_module": "@jupyter-widgets/controls",
          "model_module_version": "1.5.0",
          "model_name": "ProgressStyleModel",
          "state": {
            "_model_module": "@jupyter-widgets/controls",
            "_model_module_version": "1.5.0",
            "_model_name": "ProgressStyleModel",
            "_view_count": null,
            "_view_module": "@jupyter-widgets/base",
            "_view_module_version": "1.2.0",
            "_view_name": "StyleView",
            "bar_color": null,
            "description_width": ""
          }
        },
        "15e9d0ec65e449c98aeb01fe1db0e477": {
          "model_module": "@jupyter-widgets/controls",
          "model_module_version": "1.5.0",
          "model_name": "DescriptionStyleModel",
          "state": {
            "_model_module": "@jupyter-widgets/controls",
            "_model_module_version": "1.5.0",
            "_model_name": "DescriptionStyleModel",
            "_view_count": null,
            "_view_module": "@jupyter-widgets/base",
            "_view_module_version": "1.2.0",
            "_view_name": "StyleView",
            "description_width": ""
          }
        },
        "1acd8a0e150d46c893fbb30e44478b4a": {
          "model_module": "@jupyter-widgets/controls",
          "model_module_version": "1.5.0",
          "model_name": "HBoxModel",
          "state": {
            "_dom_classes": [],
            "_model_module": "@jupyter-widgets/controls",
            "_model_module_version": "1.5.0",
            "_model_name": "HBoxModel",
            "_view_count": null,
            "_view_module": "@jupyter-widgets/controls",
            "_view_module_version": "1.5.0",
            "_view_name": "HBoxView",
            "box_style": "",
            "children": [
              "IPY_MODEL_017547ac46ee44bd80b6638d98781cbb",
              "IPY_MODEL_386cfb5eee5b4547a880916b4973f00c",
              "IPY_MODEL_08b7b3145c83475ea596f77901896a30"
            ],
            "layout": "IPY_MODEL_fa7e1b34087e4b1f944e8145ec9e7b3d"
          }
        },
        "1fff7c0a34f94f94aee66d8032b3834e": {
          "model_module": "@jupyter-widgets/base",
          "model_module_version": "1.2.0",
          "model_name": "LayoutModel",
          "state": {
            "_model_module": "@jupyter-widgets/base",
            "_model_module_version": "1.2.0",
            "_model_name": "LayoutModel",
            "_view_count": null,
            "_view_module": "@jupyter-widgets/base",
            "_view_module_version": "1.2.0",
            "_view_name": "LayoutView",
            "align_content": null,
            "align_items": null,
            "align_self": null,
            "border": null,
            "bottom": null,
            "display": null,
            "flex": null,
            "flex_flow": null,
            "grid_area": null,
            "grid_auto_columns": null,
            "grid_auto_flow": null,
            "grid_auto_rows": null,
            "grid_column": null,
            "grid_gap": null,
            "grid_row": null,
            "grid_template_areas": null,
            "grid_template_columns": null,
            "grid_template_rows": null,
            "height": null,
            "justify_content": null,
            "justify_items": null,
            "left": null,
            "margin": null,
            "max_height": null,
            "max_width": null,
            "min_height": null,
            "min_width": null,
            "object_fit": null,
            "object_position": null,
            "order": null,
            "overflow": null,
            "overflow_x": null,
            "overflow_y": null,
            "padding": null,
            "right": null,
            "top": null,
            "visibility": null,
            "width": null
          }
        },
        "20c238aed80d4e98b175e6d8d443e560": {
          "model_module": "@jupyter-widgets/controls",
          "model_module_version": "1.5.0",
          "model_name": "DescriptionStyleModel",
          "state": {
            "_model_module": "@jupyter-widgets/controls",
            "_model_module_version": "1.5.0",
            "_model_name": "DescriptionStyleModel",
            "_view_count": null,
            "_view_module": "@jupyter-widgets/base",
            "_view_module_version": "1.2.0",
            "_view_name": "StyleView",
            "description_width": ""
          }
        },
        "2148dfaecacb4328ab3e59fdb524ea04": {
          "model_module": "@jupyter-widgets/base",
          "model_module_version": "1.2.0",
          "model_name": "LayoutModel",
          "state": {
            "_model_module": "@jupyter-widgets/base",
            "_model_module_version": "1.2.0",
            "_model_name": "LayoutModel",
            "_view_count": null,
            "_view_module": "@jupyter-widgets/base",
            "_view_module_version": "1.2.0",
            "_view_name": "LayoutView",
            "align_content": null,
            "align_items": null,
            "align_self": null,
            "border": null,
            "bottom": null,
            "display": null,
            "flex": null,
            "flex_flow": null,
            "grid_area": null,
            "grid_auto_columns": null,
            "grid_auto_flow": null,
            "grid_auto_rows": null,
            "grid_column": null,
            "grid_gap": null,
            "grid_row": null,
            "grid_template_areas": null,
            "grid_template_columns": null,
            "grid_template_rows": null,
            "height": null,
            "justify_content": null,
            "justify_items": null,
            "left": null,
            "margin": null,
            "max_height": null,
            "max_width": null,
            "min_height": null,
            "min_width": null,
            "object_fit": null,
            "object_position": null,
            "order": null,
            "overflow": null,
            "overflow_x": null,
            "overflow_y": null,
            "padding": null,
            "right": null,
            "top": null,
            "visibility": null,
            "width": null
          }
        },
        "28afaa631a3f4b9fad014e458bb0f783": {
          "model_module": "@jupyter-widgets/controls",
          "model_module_version": "1.5.0",
          "model_name": "HBoxModel",
          "state": {
            "_dom_classes": [],
            "_model_module": "@jupyter-widgets/controls",
            "_model_module_version": "1.5.0",
            "_model_name": "HBoxModel",
            "_view_count": null,
            "_view_module": "@jupyter-widgets/controls",
            "_view_module_version": "1.5.0",
            "_view_name": "HBoxView",
            "box_style": "",
            "children": [
              "IPY_MODEL_049b4183821445c9a2f37668fb50b738",
              "IPY_MODEL_e135d5cb489d459bbb122a650d3fe55d",
              "IPY_MODEL_36a011888e7a4dbeb9b9d2b1760dfad8"
            ],
            "layout": "IPY_MODEL_1fff7c0a34f94f94aee66d8032b3834e"
          }
        },
        "2bd48213287b48c3ae91c07f487cd259": {
          "model_module": "@jupyter-widgets/controls",
          "model_module_version": "1.5.0",
          "model_name": "HBoxModel",
          "state": {
            "_dom_classes": [],
            "_model_module": "@jupyter-widgets/controls",
            "_model_module_version": "1.5.0",
            "_model_name": "HBoxModel",
            "_view_count": null,
            "_view_module": "@jupyter-widgets/controls",
            "_view_module_version": "1.5.0",
            "_view_name": "HBoxView",
            "box_style": "",
            "children": [
              "IPY_MODEL_6864dd6501b54cb5b250dcc8529ce2ca",
              "IPY_MODEL_5227363cd447437f96d897f00dd55a9b",
              "IPY_MODEL_0e8f977fe3b6449cb5d284e61741f6c6"
            ],
            "layout": "IPY_MODEL_41167558304447409839583942863a35"
          }
        },
        "2e84fed53fc64135ad126622794eed56": {
          "model_module": "@jupyter-widgets/base",
          "model_module_version": "1.2.0",
          "model_name": "LayoutModel",
          "state": {
            "_model_module": "@jupyter-widgets/base",
            "_model_module_version": "1.2.0",
            "_model_name": "LayoutModel",
            "_view_count": null,
            "_view_module": "@jupyter-widgets/base",
            "_view_module_version": "1.2.0",
            "_view_name": "LayoutView",
            "align_content": null,
            "align_items": null,
            "align_self": null,
            "border": null,
            "bottom": null,
            "display": null,
            "flex": null,
            "flex_flow": null,
            "grid_area": null,
            "grid_auto_columns": null,
            "grid_auto_flow": null,
            "grid_auto_rows": null,
            "grid_column": null,
            "grid_gap": null,
            "grid_row": null,
            "grid_template_areas": null,
            "grid_template_columns": null,
            "grid_template_rows": null,
            "height": null,
            "justify_content": null,
            "justify_items": null,
            "left": null,
            "margin": null,
            "max_height": null,
            "max_width": null,
            "min_height": null,
            "min_width": null,
            "object_fit": null,
            "object_position": null,
            "order": null,
            "overflow": null,
            "overflow_x": null,
            "overflow_y": null,
            "padding": null,
            "right": null,
            "top": null,
            "visibility": null,
            "width": null
          }
        },
        "2fcaf37dce6d497c95a2d4400feae96c": {
          "model_module": "@jupyter-widgets/controls",
          "model_module_version": "1.5.0",
          "model_name": "HBoxModel",
          "state": {
            "_dom_classes": [],
            "_model_module": "@jupyter-widgets/controls",
            "_model_module_version": "1.5.0",
            "_model_name": "HBoxModel",
            "_view_count": null,
            "_view_module": "@jupyter-widgets/controls",
            "_view_module_version": "1.5.0",
            "_view_name": "HBoxView",
            "box_style": "",
            "children": [
              "IPY_MODEL_71e32405355e48a1a1fae56c81bb1a27",
              "IPY_MODEL_f10ca26d5ad342468e672cdcc7e5f78d",
              "IPY_MODEL_b2a739d2788e4be7bc3bf35baf947b47"
            ],
            "layout": "IPY_MODEL_a25792ae060042d18b212ad98151031a"
          }
        },
        "3495845fe4bd4e91953375256b80d8ee": {
          "model_module": "@jupyter-widgets/base",
          "model_module_version": "1.2.0",
          "model_name": "LayoutModel",
          "state": {
            "_model_module": "@jupyter-widgets/base",
            "_model_module_version": "1.2.0",
            "_model_name": "LayoutModel",
            "_view_count": null,
            "_view_module": "@jupyter-widgets/base",
            "_view_module_version": "1.2.0",
            "_view_name": "LayoutView",
            "align_content": null,
            "align_items": null,
            "align_self": null,
            "border": null,
            "bottom": null,
            "display": null,
            "flex": null,
            "flex_flow": null,
            "grid_area": null,
            "grid_auto_columns": null,
            "grid_auto_flow": null,
            "grid_auto_rows": null,
            "grid_column": null,
            "grid_gap": null,
            "grid_row": null,
            "grid_template_areas": null,
            "grid_template_columns": null,
            "grid_template_rows": null,
            "height": null,
            "justify_content": null,
            "justify_items": null,
            "left": null,
            "margin": null,
            "max_height": null,
            "max_width": null,
            "min_height": null,
            "min_width": null,
            "object_fit": null,
            "object_position": null,
            "order": null,
            "overflow": null,
            "overflow_x": null,
            "overflow_y": null,
            "padding": null,
            "right": null,
            "top": null,
            "visibility": null,
            "width": null
          }
        },
        "36a011888e7a4dbeb9b9d2b1760dfad8": {
          "model_module": "@jupyter-widgets/controls",
          "model_module_version": "1.5.0",
          "model_name": "HTMLModel",
          "state": {
            "_dom_classes": [],
            "_model_module": "@jupyter-widgets/controls",
            "_model_module_version": "1.5.0",
            "_model_name": "HTMLModel",
            "_view_count": null,
            "_view_module": "@jupyter-widgets/controls",
            "_view_module_version": "1.5.0",
            "_view_name": "HTMLView",
            "description": "",
            "description_tooltip": null,
            "layout": "IPY_MODEL_bd31d294670b4dc1aaa7068c07d1adcc",
            "placeholder": "​",
            "style": "IPY_MODEL_c94e36a6beb54c0b8c72cea988828dce",
            "value": " 468/468 [00:00&lt;00:00, 6.64kB/s]"
          }
        },
        "376cb3d45a6b4ec58009efa562d19930": {
          "model_module": "@jupyter-widgets/base",
          "model_module_version": "1.2.0",
          "model_name": "LayoutModel",
          "state": {
            "_model_module": "@jupyter-widgets/base",
            "_model_module_version": "1.2.0",
            "_model_name": "LayoutModel",
            "_view_count": null,
            "_view_module": "@jupyter-widgets/base",
            "_view_module_version": "1.2.0",
            "_view_name": "LayoutView",
            "align_content": null,
            "align_items": null,
            "align_self": null,
            "border": null,
            "bottom": null,
            "display": null,
            "flex": null,
            "flex_flow": null,
            "grid_area": null,
            "grid_auto_columns": null,
            "grid_auto_flow": null,
            "grid_auto_rows": null,
            "grid_column": null,
            "grid_gap": null,
            "grid_row": null,
            "grid_template_areas": null,
            "grid_template_columns": null,
            "grid_template_rows": null,
            "height": null,
            "justify_content": null,
            "justify_items": null,
            "left": null,
            "margin": null,
            "max_height": null,
            "max_width": null,
            "min_height": null,
            "min_width": null,
            "object_fit": null,
            "object_position": null,
            "order": null,
            "overflow": null,
            "overflow_x": null,
            "overflow_y": null,
            "padding": null,
            "right": null,
            "top": null,
            "visibility": null,
            "width": null
          }
        },
        "37b7ece809e947f39dec58d7ea35b31a": {
          "model_module": "@jupyter-widgets/controls",
          "model_module_version": "1.5.0",
          "model_name": "FloatProgressModel",
          "state": {
            "_dom_classes": [],
            "_model_module": "@jupyter-widgets/controls",
            "_model_module_version": "1.5.0",
            "_model_name": "FloatProgressModel",
            "_view_count": null,
            "_view_module": "@jupyter-widgets/controls",
            "_view_module_version": "1.5.0",
            "_view_name": "ProgressView",
            "bar_style": "success",
            "description": "",
            "description_tooltip": null,
            "layout": "IPY_MODEL_59fa1b8c35694d638a53b7ea249b0df7",
            "max": 62,
            "min": 0,
            "orientation": "horizontal",
            "style": "IPY_MODEL_defa8b013be1493790a2646afcddd535",
            "value": 62
          }
        },
        "3823e1ac09f948709086bf7f36abd9b0": {
          "model_module": "@jupyter-widgets/controls",
          "model_module_version": "1.5.0",
          "model_name": "ProgressStyleModel",
          "state": {
            "_model_module": "@jupyter-widgets/controls",
            "_model_module_version": "1.5.0",
            "_model_name": "ProgressStyleModel",
            "_view_count": null,
            "_view_module": "@jupyter-widgets/base",
            "_view_module_version": "1.2.0",
            "_view_name": "StyleView",
            "bar_color": null,
            "description_width": ""
          }
        },
        "386cfb5eee5b4547a880916b4973f00c": {
          "model_module": "@jupyter-widgets/controls",
          "model_module_version": "1.5.0",
          "model_name": "FloatProgressModel",
          "state": {
            "_dom_classes": [],
            "_model_module": "@jupyter-widgets/controls",
            "_model_module_version": "1.5.0",
            "_model_name": "FloatProgressModel",
            "_view_count": null,
            "_view_module": "@jupyter-widgets/controls",
            "_view_module_version": "1.5.0",
            "_view_name": "ProgressView",
            "bar_style": "success",
            "description": "",
            "description_tooltip": null,
            "layout": "IPY_MODEL_4c040ae71c1c48698f2186cd42c2c998",
            "max": 62,
            "min": 0,
            "orientation": "horizontal",
            "style": "IPY_MODEL_abfbc726b3cd41eebfa183bc044525c5",
            "value": 62
          }
        },
        "3a69110cce6c4e91a049c4f5086a2f01": {
          "model_module": "@jupyter-widgets/controls",
          "model_module_version": "1.5.0",
          "model_name": "ProgressStyleModel",
          "state": {
            "_model_module": "@jupyter-widgets/controls",
            "_model_module_version": "1.5.0",
            "_model_name": "ProgressStyleModel",
            "_view_count": null,
            "_view_module": "@jupyter-widgets/base",
            "_view_module_version": "1.2.0",
            "_view_name": "StyleView",
            "bar_color": null,
            "description_width": ""
          }
        },
        "3bb92690d36748059b17f22e03598c98": {
          "model_module": "@jupyter-widgets/base",
          "model_module_version": "1.2.0",
          "model_name": "LayoutModel",
          "state": {
            "_model_module": "@jupyter-widgets/base",
            "_model_module_version": "1.2.0",
            "_model_name": "LayoutModel",
            "_view_count": null,
            "_view_module": "@jupyter-widgets/base",
            "_view_module_version": "1.2.0",
            "_view_name": "LayoutView",
            "align_content": null,
            "align_items": null,
            "align_self": null,
            "border": null,
            "bottom": null,
            "display": null,
            "flex": null,
            "flex_flow": null,
            "grid_area": null,
            "grid_auto_columns": null,
            "grid_auto_flow": null,
            "grid_auto_rows": null,
            "grid_column": null,
            "grid_gap": null,
            "grid_row": null,
            "grid_template_areas": null,
            "grid_template_columns": null,
            "grid_template_rows": null,
            "height": null,
            "justify_content": null,
            "justify_items": null,
            "left": null,
            "margin": null,
            "max_height": null,
            "max_width": null,
            "min_height": null,
            "min_width": null,
            "object_fit": null,
            "object_position": null,
            "order": null,
            "overflow": null,
            "overflow_x": null,
            "overflow_y": null,
            "padding": null,
            "right": null,
            "top": null,
            "visibility": null,
            "width": null
          }
        },
        "3e09ba50ccd1462e894089a0fed6db74": {
          "model_module": "@jupyter-widgets/controls",
          "model_module_version": "1.5.0",
          "model_name": "HTMLModel",
          "state": {
            "_dom_classes": [],
            "_model_module": "@jupyter-widgets/controls",
            "_model_module_version": "1.5.0",
            "_model_name": "HTMLModel",
            "_view_count": null,
            "_view_module": "@jupyter-widgets/controls",
            "_view_module_version": "1.5.0",
            "_view_name": "HTMLView",
            "description": "",
            "description_tooltip": null,
            "layout": "IPY_MODEL_f0fb20f4be2049258cabd3a77b3f017d",
            "placeholder": "​",
            "style": "IPY_MODEL_b4a14a175a414d6ca739950e8fb92d24",
            "value": "Downloading: 100%"
          }
        },
        "41167558304447409839583942863a35": {
          "model_module": "@jupyter-widgets/base",
          "model_module_version": "1.2.0",
          "model_name": "LayoutModel",
          "state": {
            "_model_module": "@jupyter-widgets/base",
            "_model_module_version": "1.2.0",
            "_model_name": "LayoutModel",
            "_view_count": null,
            "_view_module": "@jupyter-widgets/base",
            "_view_module_version": "1.2.0",
            "_view_name": "LayoutView",
            "align_content": null,
            "align_items": null,
            "align_self": null,
            "border": null,
            "bottom": null,
            "display": null,
            "flex": null,
            "flex_flow": null,
            "grid_area": null,
            "grid_auto_columns": null,
            "grid_auto_flow": null,
            "grid_auto_rows": null,
            "grid_column": null,
            "grid_gap": null,
            "grid_row": null,
            "grid_template_areas": null,
            "grid_template_columns": null,
            "grid_template_rows": null,
            "height": null,
            "justify_content": null,
            "justify_items": null,
            "left": null,
            "margin": null,
            "max_height": null,
            "max_width": null,
            "min_height": null,
            "min_width": null,
            "object_fit": null,
            "object_position": null,
            "order": null,
            "overflow": null,
            "overflow_x": null,
            "overflow_y": null,
            "padding": null,
            "right": null,
            "top": null,
            "visibility": null,
            "width": null
          }
        },
        "4161dbfb4538405a9b4e2a615eef21d9": {
          "model_module": "@jupyter-widgets/controls",
          "model_module_version": "1.5.0",
          "model_name": "DescriptionStyleModel",
          "state": {
            "_model_module": "@jupyter-widgets/controls",
            "_model_module_version": "1.5.0",
            "_model_name": "DescriptionStyleModel",
            "_view_count": null,
            "_view_module": "@jupyter-widgets/base",
            "_view_module_version": "1.2.0",
            "_view_name": "StyleView",
            "description_width": ""
          }
        },
        "4705ab37d3d246ada7a09cafe72fc049": {
          "model_module": "@jupyter-widgets/controls",
          "model_module_version": "1.5.0",
          "model_name": "HBoxModel",
          "state": {
            "_dom_classes": [],
            "_model_module": "@jupyter-widgets/controls",
            "_model_module_version": "1.5.0",
            "_model_name": "HBoxModel",
            "_view_count": null,
            "_view_module": "@jupyter-widgets/controls",
            "_view_module_version": "1.5.0",
            "_view_name": "HBoxView",
            "box_style": "",
            "children": [
              "IPY_MODEL_75df27c9982e4678944ab352f09a274c",
              "IPY_MODEL_e0f63cbd1be34c0a8441b206dfee1385",
              "IPY_MODEL_7c8a291c102349b4bfbe03bd8b072e05"
            ],
            "layout": "IPY_MODEL_e715acca90da47e281c6d05442c617b6"
          }
        },
        "479d74be7e794fe0afc070d706c0eaf6": {
          "model_module": "@jupyter-widgets/controls",
          "model_module_version": "1.5.0",
          "model_name": "ProgressStyleModel",
          "state": {
            "_model_module": "@jupyter-widgets/controls",
            "_model_module_version": "1.5.0",
            "_model_name": "ProgressStyleModel",
            "_view_count": null,
            "_view_module": "@jupyter-widgets/base",
            "_view_module_version": "1.2.0",
            "_view_name": "StyleView",
            "bar_color": null,
            "description_width": ""
          }
        },
        "47f6e473db364b58b8541322b1d3a8ca": {
          "model_module": "@jupyter-widgets/controls",
          "model_module_version": "1.5.0",
          "model_name": "DescriptionStyleModel",
          "state": {
            "_model_module": "@jupyter-widgets/controls",
            "_model_module_version": "1.5.0",
            "_model_name": "DescriptionStyleModel",
            "_view_count": null,
            "_view_module": "@jupyter-widgets/base",
            "_view_module_version": "1.2.0",
            "_view_name": "StyleView",
            "description_width": ""
          }
        },
        "4c040ae71c1c48698f2186cd42c2c998": {
          "model_module": "@jupyter-widgets/base",
          "model_module_version": "1.2.0",
          "model_name": "LayoutModel",
          "state": {
            "_model_module": "@jupyter-widgets/base",
            "_model_module_version": "1.2.0",
            "_model_name": "LayoutModel",
            "_view_count": null,
            "_view_module": "@jupyter-widgets/base",
            "_view_module_version": "1.2.0",
            "_view_name": "LayoutView",
            "align_content": null,
            "align_items": null,
            "align_self": null,
            "border": null,
            "bottom": null,
            "display": null,
            "flex": null,
            "flex_flow": null,
            "grid_area": null,
            "grid_auto_columns": null,
            "grid_auto_flow": null,
            "grid_auto_rows": null,
            "grid_column": null,
            "grid_gap": null,
            "grid_row": null,
            "grid_template_areas": null,
            "grid_template_columns": null,
            "grid_template_rows": null,
            "height": null,
            "justify_content": null,
            "justify_items": null,
            "left": null,
            "margin": null,
            "max_height": null,
            "max_width": null,
            "min_height": null,
            "min_width": null,
            "object_fit": null,
            "object_position": null,
            "order": null,
            "overflow": null,
            "overflow_x": null,
            "overflow_y": null,
            "padding": null,
            "right": null,
            "top": null,
            "visibility": null,
            "width": null
          }
        },
        "4fca74b4b9c04d0f8c904c5f7aad4f1b": {
          "model_module": "@jupyter-widgets/controls",
          "model_module_version": "1.5.0",
          "model_name": "HTMLModel",
          "state": {
            "_dom_classes": [],
            "_model_module": "@jupyter-widgets/controls",
            "_model_module_version": "1.5.0",
            "_model_name": "HTMLModel",
            "_view_count": null,
            "_view_module": "@jupyter-widgets/controls",
            "_view_module_version": "1.5.0",
            "_view_name": "HTMLView",
            "description": "",
            "description_tooltip": null,
            "layout": "IPY_MODEL_3495845fe4bd4e91953375256b80d8ee",
            "placeholder": "​",
            "style": "IPY_MODEL_15e9d0ec65e449c98aeb01fe1db0e477",
            "value": "Downloading: 100%"
          }
        },
        "5227363cd447437f96d897f00dd55a9b": {
          "model_module": "@jupyter-widgets/controls",
          "model_module_version": "1.5.0",
          "model_name": "FloatProgressModel",
          "state": {
            "_dom_classes": [],
            "_model_module": "@jupyter-widgets/controls",
            "_model_module_version": "1.5.0",
            "_model_name": "FloatProgressModel",
            "_view_count": null,
            "_view_module": "@jupyter-widgets/controls",
            "_view_module_version": "1.5.0",
            "_view_name": "ProgressView",
            "bar_style": "success",
            "description": "",
            "description_tooltip": null,
            "layout": "IPY_MODEL_3bb92690d36748059b17f22e03598c98",
            "max": 545136632,
            "min": 0,
            "orientation": "horizontal",
            "style": "IPY_MODEL_3a69110cce6c4e91a049c4f5086a2f01",
            "value": 545136632
          }
        },
        "52751e2cc4b64a75a0bc9972cd288b67": {
          "model_module": "@jupyter-widgets/controls",
          "model_module_version": "1.5.0",
          "model_name": "DescriptionStyleModel",
          "state": {
            "_model_module": "@jupyter-widgets/controls",
            "_model_module_version": "1.5.0",
            "_model_name": "DescriptionStyleModel",
            "_view_count": null,
            "_view_module": "@jupyter-widgets/base",
            "_view_module_version": "1.2.0",
            "_view_name": "StyleView",
            "description_width": ""
          }
        },
        "530a7753753741e2b75a6092154a9df8": {
          "model_module": "@jupyter-widgets/base",
          "model_module_version": "1.2.0",
          "model_name": "LayoutModel",
          "state": {
            "_model_module": "@jupyter-widgets/base",
            "_model_module_version": "1.2.0",
            "_model_name": "LayoutModel",
            "_view_count": null,
            "_view_module": "@jupyter-widgets/base",
            "_view_module_version": "1.2.0",
            "_view_name": "LayoutView",
            "align_content": null,
            "align_items": null,
            "align_self": null,
            "border": null,
            "bottom": null,
            "display": null,
            "flex": null,
            "flex_flow": null,
            "grid_area": null,
            "grid_auto_columns": null,
            "grid_auto_flow": null,
            "grid_auto_rows": null,
            "grid_column": null,
            "grid_gap": null,
            "grid_row": null,
            "grid_template_areas": null,
            "grid_template_columns": null,
            "grid_template_rows": null,
            "height": null,
            "justify_content": null,
            "justify_items": null,
            "left": null,
            "margin": null,
            "max_height": null,
            "max_width": null,
            "min_height": null,
            "min_width": null,
            "object_fit": null,
            "object_position": null,
            "order": null,
            "overflow": null,
            "overflow_x": null,
            "overflow_y": null,
            "padding": null,
            "right": null,
            "top": null,
            "visibility": null,
            "width": null
          }
        },
        "54781b1dc6694e2494e2d56bb3d9b133": {
          "model_module": "@jupyter-widgets/controls",
          "model_module_version": "1.5.0",
          "model_name": "DescriptionStyleModel",
          "state": {
            "_model_module": "@jupyter-widgets/controls",
            "_model_module_version": "1.5.0",
            "_model_name": "DescriptionStyleModel",
            "_view_count": null,
            "_view_module": "@jupyter-widgets/base",
            "_view_module_version": "1.2.0",
            "_view_name": "StyleView",
            "description_width": ""
          }
        },
        "59819e672efd4f22a62625247e372609": {
          "model_module": "@jupyter-widgets/controls",
          "model_module_version": "1.5.0",
          "model_name": "HTMLModel",
          "state": {
            "_dom_classes": [],
            "_model_module": "@jupyter-widgets/controls",
            "_model_module_version": "1.5.0",
            "_model_name": "HTMLModel",
            "_view_count": null,
            "_view_module": "@jupyter-widgets/controls",
            "_view_module_version": "1.5.0",
            "_view_name": "HTMLView",
            "description": "",
            "description_tooltip": null,
            "layout": "IPY_MODEL_a35b4a6fe52b465689352cd97539c20a",
            "placeholder": "​",
            "style": "IPY_MODEL_fc2276ada14044059f75283b9012a1f4",
            "value": "Downloading: 100%"
          }
        },
        "59fa1b8c35694d638a53b7ea249b0df7": {
          "model_module": "@jupyter-widgets/base",
          "model_module_version": "1.2.0",
          "model_name": "LayoutModel",
          "state": {
            "_model_module": "@jupyter-widgets/base",
            "_model_module_version": "1.2.0",
            "_model_name": "LayoutModel",
            "_view_count": null,
            "_view_module": "@jupyter-widgets/base",
            "_view_module_version": "1.2.0",
            "_view_name": "LayoutView",
            "align_content": null,
            "align_items": null,
            "align_self": null,
            "border": null,
            "bottom": null,
            "display": null,
            "flex": null,
            "flex_flow": null,
            "grid_area": null,
            "grid_auto_columns": null,
            "grid_auto_flow": null,
            "grid_auto_rows": null,
            "grid_column": null,
            "grid_gap": null,
            "grid_row": null,
            "grid_template_areas": null,
            "grid_template_columns": null,
            "grid_template_rows": null,
            "height": null,
            "justify_content": null,
            "justify_items": null,
            "left": null,
            "margin": null,
            "max_height": null,
            "max_width": null,
            "min_height": null,
            "min_width": null,
            "object_fit": null,
            "object_position": null,
            "order": null,
            "overflow": null,
            "overflow_x": null,
            "overflow_y": null,
            "padding": null,
            "right": null,
            "top": null,
            "visibility": null,
            "width": null
          }
        },
        "5db053663c4b409bbd7d819452f3f8d3": {
          "model_module": "@jupyter-widgets/controls",
          "model_module_version": "1.5.0",
          "model_name": "FloatProgressModel",
          "state": {
            "_dom_classes": [],
            "_model_module": "@jupyter-widgets/controls",
            "_model_module_version": "1.5.0",
            "_model_name": "FloatProgressModel",
            "_view_count": null,
            "_view_module": "@jupyter-widgets/controls",
            "_view_module_version": "1.5.0",
            "_view_name": "ProgressView",
            "bar_style": "success",
            "description": "",
            "description_tooltip": null,
            "layout": "IPY_MODEL_d85917510dc14c5083a7f96d72f9059d",
            "max": 112,
            "min": 0,
            "orientation": "horizontal",
            "style": "IPY_MODEL_3823e1ac09f948709086bf7f36abd9b0",
            "value": 112
          }
        },
        "5e037bcb906543348876054cb0ebfe0e": {
          "model_module": "@jupyter-widgets/base",
          "model_module_version": "1.2.0",
          "model_name": "LayoutModel",
          "state": {
            "_model_module": "@jupyter-widgets/base",
            "_model_module_version": "1.2.0",
            "_model_name": "LayoutModel",
            "_view_count": null,
            "_view_module": "@jupyter-widgets/base",
            "_view_module_version": "1.2.0",
            "_view_name": "LayoutView",
            "align_content": null,
            "align_items": null,
            "align_self": null,
            "border": null,
            "bottom": null,
            "display": null,
            "flex": null,
            "flex_flow": null,
            "grid_area": null,
            "grid_auto_columns": null,
            "grid_auto_flow": null,
            "grid_auto_rows": null,
            "grid_column": null,
            "grid_gap": null,
            "grid_row": null,
            "grid_template_areas": null,
            "grid_template_columns": null,
            "grid_template_rows": null,
            "height": null,
            "justify_content": null,
            "justify_items": null,
            "left": null,
            "margin": null,
            "max_height": null,
            "max_width": null,
            "min_height": null,
            "min_width": null,
            "object_fit": null,
            "object_position": null,
            "order": null,
            "overflow": null,
            "overflow_x": null,
            "overflow_y": null,
            "padding": null,
            "right": null,
            "top": null,
            "visibility": null,
            "width": null
          }
        },
        "644dc9f36ac547ef88b766779f13e61c": {
          "model_module": "@jupyter-widgets/base",
          "model_module_version": "1.2.0",
          "model_name": "LayoutModel",
          "state": {
            "_model_module": "@jupyter-widgets/base",
            "_model_module_version": "1.2.0",
            "_model_name": "LayoutModel",
            "_view_count": null,
            "_view_module": "@jupyter-widgets/base",
            "_view_module_version": "1.2.0",
            "_view_name": "LayoutView",
            "align_content": null,
            "align_items": null,
            "align_self": null,
            "border": null,
            "bottom": null,
            "display": null,
            "flex": null,
            "flex_flow": null,
            "grid_area": null,
            "grid_auto_columns": null,
            "grid_auto_flow": null,
            "grid_auto_rows": null,
            "grid_column": null,
            "grid_gap": null,
            "grid_row": null,
            "grid_template_areas": null,
            "grid_template_columns": null,
            "grid_template_rows": null,
            "height": null,
            "justify_content": null,
            "justify_items": null,
            "left": null,
            "margin": null,
            "max_height": null,
            "max_width": null,
            "min_height": null,
            "min_width": null,
            "object_fit": null,
            "object_position": null,
            "order": null,
            "overflow": null,
            "overflow_x": null,
            "overflow_y": null,
            "padding": null,
            "right": null,
            "top": null,
            "visibility": null,
            "width": null
          }
        },
        "6864dd6501b54cb5b250dcc8529ce2ca": {
          "model_module": "@jupyter-widgets/controls",
          "model_module_version": "1.5.0",
          "model_name": "HTMLModel",
          "state": {
            "_dom_classes": [],
            "_model_module": "@jupyter-widgets/controls",
            "_model_module_version": "1.5.0",
            "_model_name": "HTMLModel",
            "_view_count": null,
            "_view_module": "@jupyter-widgets/controls",
            "_view_module_version": "1.5.0",
            "_view_name": "HTMLView",
            "description": "",
            "description_tooltip": null,
            "layout": "IPY_MODEL_72adcf553c284a3e9ce8d4d3bf3bd2a2",
            "placeholder": "​",
            "style": "IPY_MODEL_52751e2cc4b64a75a0bc9972cd288b67",
            "value": "Downloading: 100%"
          }
        },
        "71e32405355e48a1a1fae56c81bb1a27": {
          "model_module": "@jupyter-widgets/controls",
          "model_module_version": "1.5.0",
          "model_name": "HTMLModel",
          "state": {
            "_dom_classes": [],
            "_model_module": "@jupyter-widgets/controls",
            "_model_module_version": "1.5.0",
            "_model_name": "HTMLModel",
            "_view_count": null,
            "_view_module": "@jupyter-widgets/controls",
            "_view_module_version": "1.5.0",
            "_view_name": "HTMLView",
            "description": "",
            "description_tooltip": null,
            "layout": "IPY_MODEL_092527fb0e16403386e583958ca83f0b",
            "placeholder": "​",
            "style": "IPY_MODEL_7facf67adce54691bfe7bad35164fc5a",
            "value": "Downloading: 100%"
          }
        },
        "72adcf553c284a3e9ce8d4d3bf3bd2a2": {
          "model_module": "@jupyter-widgets/base",
          "model_module_version": "1.2.0",
          "model_name": "LayoutModel",
          "state": {
            "_model_module": "@jupyter-widgets/base",
            "_model_module_version": "1.2.0",
            "_model_name": "LayoutModel",
            "_view_count": null,
            "_view_module": "@jupyter-widgets/base",
            "_view_module_version": "1.2.0",
            "_view_name": "LayoutView",
            "align_content": null,
            "align_items": null,
            "align_self": null,
            "border": null,
            "bottom": null,
            "display": null,
            "flex": null,
            "flex_flow": null,
            "grid_area": null,
            "grid_auto_columns": null,
            "grid_auto_flow": null,
            "grid_auto_rows": null,
            "grid_column": null,
            "grid_gap": null,
            "grid_row": null,
            "grid_template_areas": null,
            "grid_template_columns": null,
            "grid_template_rows": null,
            "height": null,
            "justify_content": null,
            "justify_items": null,
            "left": null,
            "margin": null,
            "max_height": null,
            "max_width": null,
            "min_height": null,
            "min_width": null,
            "object_fit": null,
            "object_position": null,
            "order": null,
            "overflow": null,
            "overflow_x": null,
            "overflow_y": null,
            "padding": null,
            "right": null,
            "top": null,
            "visibility": null,
            "width": null
          }
        },
        "75df27c9982e4678944ab352f09a274c": {
          "model_module": "@jupyter-widgets/controls",
          "model_module_version": "1.5.0",
          "model_name": "HTMLModel",
          "state": {
            "_dom_classes": [],
            "_model_module": "@jupyter-widgets/controls",
            "_model_module_version": "1.5.0",
            "_model_name": "HTMLModel",
            "_view_count": null,
            "_view_module": "@jupyter-widgets/controls",
            "_view_module_version": "1.5.0",
            "_view_name": "HTMLView",
            "description": "",
            "description_tooltip": null,
            "layout": "IPY_MODEL_9c6e71cf18614d7b93d340661950c4ca",
            "placeholder": "​",
            "style": "IPY_MODEL_03be5ea145c9497daea0d37c21fe5b73",
            "value": "Downloading: 100%"
          }
        },
        "7c40410ca8854d2999e59c4ea5c596ea": {
          "model_module": "@jupyter-widgets/base",
          "model_module_version": "1.2.0",
          "model_name": "LayoutModel",
          "state": {
            "_model_module": "@jupyter-widgets/base",
            "_model_module_version": "1.2.0",
            "_model_name": "LayoutModel",
            "_view_count": null,
            "_view_module": "@jupyter-widgets/base",
            "_view_module_version": "1.2.0",
            "_view_name": "LayoutView",
            "align_content": null,
            "align_items": null,
            "align_self": null,
            "border": null,
            "bottom": null,
            "display": null,
            "flex": null,
            "flex_flow": null,
            "grid_area": null,
            "grid_auto_columns": null,
            "grid_auto_flow": null,
            "grid_auto_rows": null,
            "grid_column": null,
            "grid_gap": null,
            "grid_row": null,
            "grid_template_areas": null,
            "grid_template_columns": null,
            "grid_template_rows": null,
            "height": null,
            "justify_content": null,
            "justify_items": null,
            "left": null,
            "margin": null,
            "max_height": null,
            "max_width": null,
            "min_height": null,
            "min_width": null,
            "object_fit": null,
            "object_position": null,
            "order": null,
            "overflow": null,
            "overflow_x": null,
            "overflow_y": null,
            "padding": null,
            "right": null,
            "top": null,
            "visibility": null,
            "width": null
          }
        },
        "7c8a291c102349b4bfbe03bd8b072e05": {
          "model_module": "@jupyter-widgets/controls",
          "model_module_version": "1.5.0",
          "model_name": "HTMLModel",
          "state": {
            "_dom_classes": [],
            "_model_module": "@jupyter-widgets/controls",
            "_model_module_version": "1.5.0",
            "_model_name": "HTMLModel",
            "_view_count": null,
            "_view_module": "@jupyter-widgets/controls",
            "_view_module_version": "1.5.0",
            "_view_name": "HTMLView",
            "description": "",
            "description_tooltip": null,
            "layout": "IPY_MODEL_c0a4680b3c714d6791c6766a72bd1d53",
            "placeholder": "​",
            "style": "IPY_MODEL_e5806b88320b45ef9b6d0ebdee6f6fb7",
            "value": " 230k/230k [00:00&lt;00:00, 2.44MB/s]"
          }
        },
        "7cd51e51cdf24fd0ade7425bce867a19": {
          "model_module": "@jupyter-widgets/base",
          "model_module_version": "1.2.0",
          "model_name": "LayoutModel",
          "state": {
            "_model_module": "@jupyter-widgets/base",
            "_model_module_version": "1.2.0",
            "_model_name": "LayoutModel",
            "_view_count": null,
            "_view_module": "@jupyter-widgets/base",
            "_view_module_version": "1.2.0",
            "_view_name": "LayoutView",
            "align_content": null,
            "align_items": null,
            "align_self": null,
            "border": null,
            "bottom": null,
            "display": null,
            "flex": null,
            "flex_flow": null,
            "grid_area": null,
            "grid_auto_columns": null,
            "grid_auto_flow": null,
            "grid_auto_rows": null,
            "grid_column": null,
            "grid_gap": null,
            "grid_row": null,
            "grid_template_areas": null,
            "grid_template_columns": null,
            "grid_template_rows": null,
            "height": null,
            "justify_content": null,
            "justify_items": null,
            "left": null,
            "margin": null,
            "max_height": null,
            "max_width": null,
            "min_height": null,
            "min_width": null,
            "object_fit": null,
            "object_position": null,
            "order": null,
            "overflow": null,
            "overflow_x": null,
            "overflow_y": null,
            "padding": null,
            "right": null,
            "top": null,
            "visibility": null,
            "width": null
          }
        },
        "7facf67adce54691bfe7bad35164fc5a": {
          "model_module": "@jupyter-widgets/controls",
          "model_module_version": "1.5.0",
          "model_name": "DescriptionStyleModel",
          "state": {
            "_model_module": "@jupyter-widgets/controls",
            "_model_module_version": "1.5.0",
            "_model_name": "DescriptionStyleModel",
            "_view_count": null,
            "_view_module": "@jupyter-widgets/base",
            "_view_module_version": "1.2.0",
            "_view_name": "StyleView",
            "description_width": ""
          }
        },
        "8607518b2f3b4b2e8ea0b06613b1c9e1": {
          "model_module": "@jupyter-widgets/controls",
          "model_module_version": "1.5.0",
          "model_name": "FloatProgressModel",
          "state": {
            "_dom_classes": [],
            "_model_module": "@jupyter-widgets/controls",
            "_model_module_version": "1.5.0",
            "_model_name": "FloatProgressModel",
            "_view_count": null,
            "_view_module": "@jupyter-widgets/controls",
            "_view_module_version": "1.5.0",
            "_view_name": "ProgressView",
            "bar_style": "success",
            "description": "",
            "description_tooltip": null,
            "layout": "IPY_MODEL_97b81283e8b04985b621342821a80642",
            "max": 229513,
            "min": 0,
            "orientation": "horizontal",
            "style": "IPY_MODEL_0fa09580851f49178796d3e16b2d5e30",
            "value": 229513
          }
        },
        "899fba0210cc42e5a39367d985c9af93": {
          "model_module": "@jupyter-widgets/controls",
          "model_module_version": "1.5.0",
          "model_name": "DescriptionStyleModel",
          "state": {
            "_model_module": "@jupyter-widgets/controls",
            "_model_module_version": "1.5.0",
            "_model_name": "DescriptionStyleModel",
            "_view_count": null,
            "_view_module": "@jupyter-widgets/base",
            "_view_module_version": "1.2.0",
            "_view_name": "StyleView",
            "description_width": ""
          }
        },
        "8e4168441ff64ce79cf542a3e8f27f5c": {
          "model_module": "@jupyter-widgets/controls",
          "model_module_version": "1.5.0",
          "model_name": "HBoxModel",
          "state": {
            "_dom_classes": [],
            "_model_module": "@jupyter-widgets/controls",
            "_model_module_version": "1.5.0",
            "_model_name": "HBoxModel",
            "_view_count": null,
            "_view_module": "@jupyter-widgets/controls",
            "_view_module_version": "1.5.0",
            "_view_name": "HBoxView",
            "box_style": "",
            "children": [
              "IPY_MODEL_3e09ba50ccd1462e894089a0fed6db74",
              "IPY_MODEL_eff0b5e2a647473faccc410eef87039e",
              "IPY_MODEL_faf67fab6f7744dcb9318c78dce38a53"
            ],
            "layout": "IPY_MODEL_f1790d0f55964848891eef74caccf443"
          }
        },
        "92c3dae328f5463695494a08698bce0d": {
          "model_module": "@jupyter-widgets/controls",
          "model_module_version": "1.5.0",
          "model_name": "ProgressStyleModel",
          "state": {
            "_model_module": "@jupyter-widgets/controls",
            "_model_module_version": "1.5.0",
            "_model_name": "ProgressStyleModel",
            "_view_count": null,
            "_view_module": "@jupyter-widgets/base",
            "_view_module_version": "1.2.0",
            "_view_name": "StyleView",
            "bar_color": null,
            "description_width": ""
          }
        },
        "9701a62f944249968dd2a3b92d40470a": {
          "model_module": "@jupyter-widgets/controls",
          "model_module_version": "1.5.0",
          "model_name": "HBoxModel",
          "state": {
            "_dom_classes": [],
            "_model_module": "@jupyter-widgets/controls",
            "_model_module_version": "1.5.0",
            "_model_name": "HBoxModel",
            "_view_count": null,
            "_view_module": "@jupyter-widgets/controls",
            "_view_module_version": "1.5.0",
            "_view_name": "HBoxView",
            "box_style": "",
            "children": [
              "IPY_MODEL_02d6e18b89a545e28815bf5f79bcd1c8",
              "IPY_MODEL_5db053663c4b409bbd7d819452f3f8d3",
              "IPY_MODEL_a6a79497dc094e4d93c41b0f7911dfc4"
            ],
            "layout": "IPY_MODEL_c1cf4cf540f543918f6841b92f8db729"
          }
        },
        "97b81283e8b04985b621342821a80642": {
          "model_module": "@jupyter-widgets/base",
          "model_module_version": "1.2.0",
          "model_name": "LayoutModel",
          "state": {
            "_model_module": "@jupyter-widgets/base",
            "_model_module_version": "1.2.0",
            "_model_name": "LayoutModel",
            "_view_count": null,
            "_view_module": "@jupyter-widgets/base",
            "_view_module_version": "1.2.0",
            "_view_name": "LayoutView",
            "align_content": null,
            "align_items": null,
            "align_self": null,
            "border": null,
            "bottom": null,
            "display": null,
            "flex": null,
            "flex_flow": null,
            "grid_area": null,
            "grid_auto_columns": null,
            "grid_auto_flow": null,
            "grid_auto_rows": null,
            "grid_column": null,
            "grid_gap": null,
            "grid_row": null,
            "grid_template_areas": null,
            "grid_template_columns": null,
            "grid_template_rows": null,
            "height": null,
            "justify_content": null,
            "justify_items": null,
            "left": null,
            "margin": null,
            "max_height": null,
            "max_width": null,
            "min_height": null,
            "min_width": null,
            "object_fit": null,
            "object_position": null,
            "order": null,
            "overflow": null,
            "overflow_x": null,
            "overflow_y": null,
            "padding": null,
            "right": null,
            "top": null,
            "visibility": null,
            "width": null
          }
        },
        "9985b367124b4c7594c76453c1c79b44": {
          "model_module": "@jupyter-widgets/base",
          "model_module_version": "1.2.0",
          "model_name": "LayoutModel",
          "state": {
            "_model_module": "@jupyter-widgets/base",
            "_model_module_version": "1.2.0",
            "_model_name": "LayoutModel",
            "_view_count": null,
            "_view_module": "@jupyter-widgets/base",
            "_view_module_version": "1.2.0",
            "_view_name": "LayoutView",
            "align_content": null,
            "align_items": null,
            "align_self": null,
            "border": null,
            "bottom": null,
            "display": null,
            "flex": null,
            "flex_flow": null,
            "grid_area": null,
            "grid_auto_columns": null,
            "grid_auto_flow": null,
            "grid_auto_rows": null,
            "grid_column": null,
            "grid_gap": null,
            "grid_row": null,
            "grid_template_areas": null,
            "grid_template_columns": null,
            "grid_template_rows": null,
            "height": null,
            "justify_content": null,
            "justify_items": null,
            "left": null,
            "margin": null,
            "max_height": null,
            "max_width": null,
            "min_height": null,
            "min_width": null,
            "object_fit": null,
            "object_position": null,
            "order": null,
            "overflow": null,
            "overflow_x": null,
            "overflow_y": null,
            "padding": null,
            "right": null,
            "top": null,
            "visibility": null,
            "width": null
          }
        },
        "99a32b1d15484bf7a5fa5b0d33ef780b": {
          "model_module": "@jupyter-widgets/controls",
          "model_module_version": "1.5.0",
          "model_name": "HTMLModel",
          "state": {
            "_dom_classes": [],
            "_model_module": "@jupyter-widgets/controls",
            "_model_module_version": "1.5.0",
            "_model_name": "HTMLModel",
            "_view_count": null,
            "_view_module": "@jupyter-widgets/controls",
            "_view_module_version": "1.5.0",
            "_view_name": "HTMLView",
            "description": "",
            "description_tooltip": null,
            "layout": "IPY_MODEL_ff290d97b613401d8ad12a810ec891f5",
            "placeholder": "​",
            "style": "IPY_MODEL_4161dbfb4538405a9b4e2a615eef21d9",
            "value": " 230k/230k [00:00&lt;00:00, 522kB/s]"
          }
        },
        "9c6e71cf18614d7b93d340661950c4ca": {
          "model_module": "@jupyter-widgets/base",
          "model_module_version": "1.2.0",
          "model_name": "LayoutModel",
          "state": {
            "_model_module": "@jupyter-widgets/base",
            "_model_module_version": "1.2.0",
            "_model_name": "LayoutModel",
            "_view_count": null,
            "_view_module": "@jupyter-widgets/base",
            "_view_module_version": "1.2.0",
            "_view_name": "LayoutView",
            "align_content": null,
            "align_items": null,
            "align_self": null,
            "border": null,
            "bottom": null,
            "display": null,
            "flex": null,
            "flex_flow": null,
            "grid_area": null,
            "grid_auto_columns": null,
            "grid_auto_flow": null,
            "grid_auto_rows": null,
            "grid_column": null,
            "grid_gap": null,
            "grid_row": null,
            "grid_template_areas": null,
            "grid_template_columns": null,
            "grid_template_rows": null,
            "height": null,
            "justify_content": null,
            "justify_items": null,
            "left": null,
            "margin": null,
            "max_height": null,
            "max_width": null,
            "min_height": null,
            "min_width": null,
            "object_fit": null,
            "object_position": null,
            "order": null,
            "overflow": null,
            "overflow_x": null,
            "overflow_y": null,
            "padding": null,
            "right": null,
            "top": null,
            "visibility": null,
            "width": null
          }
        },
        "a16824588bf5465686cbd230a675fa2b": {
          "model_module": "@jupyter-widgets/base",
          "model_module_version": "1.2.0",
          "model_name": "LayoutModel",
          "state": {
            "_model_module": "@jupyter-widgets/base",
            "_model_module_version": "1.2.0",
            "_model_name": "LayoutModel",
            "_view_count": null,
            "_view_module": "@jupyter-widgets/base",
            "_view_module_version": "1.2.0",
            "_view_name": "LayoutView",
            "align_content": null,
            "align_items": null,
            "align_self": null,
            "border": null,
            "bottom": null,
            "display": null,
            "flex": null,
            "flex_flow": null,
            "grid_area": null,
            "grid_auto_columns": null,
            "grid_auto_flow": null,
            "grid_auto_rows": null,
            "grid_column": null,
            "grid_gap": null,
            "grid_row": null,
            "grid_template_areas": null,
            "grid_template_columns": null,
            "grid_template_rows": null,
            "height": null,
            "justify_content": null,
            "justify_items": null,
            "left": null,
            "margin": null,
            "max_height": null,
            "max_width": null,
            "min_height": null,
            "min_width": null,
            "object_fit": null,
            "object_position": null,
            "order": null,
            "overflow": null,
            "overflow_x": null,
            "overflow_y": null,
            "padding": null,
            "right": null,
            "top": null,
            "visibility": null,
            "width": null
          }
        },
        "a25792ae060042d18b212ad98151031a": {
          "model_module": "@jupyter-widgets/base",
          "model_module_version": "1.2.0",
          "model_name": "LayoutModel",
          "state": {
            "_model_module": "@jupyter-widgets/base",
            "_model_module_version": "1.2.0",
            "_model_name": "LayoutModel",
            "_view_count": null,
            "_view_module": "@jupyter-widgets/base",
            "_view_module_version": "1.2.0",
            "_view_name": "LayoutView",
            "align_content": null,
            "align_items": null,
            "align_self": null,
            "border": null,
            "bottom": null,
            "display": null,
            "flex": null,
            "flex_flow": null,
            "grid_area": null,
            "grid_auto_columns": null,
            "grid_auto_flow": null,
            "grid_auto_rows": null,
            "grid_column": null,
            "grid_gap": null,
            "grid_row": null,
            "grid_template_areas": null,
            "grid_template_columns": null,
            "grid_template_rows": null,
            "height": null,
            "justify_content": null,
            "justify_items": null,
            "left": null,
            "margin": null,
            "max_height": null,
            "max_width": null,
            "min_height": null,
            "min_width": null,
            "object_fit": null,
            "object_position": null,
            "order": null,
            "overflow": null,
            "overflow_x": null,
            "overflow_y": null,
            "padding": null,
            "right": null,
            "top": null,
            "visibility": null,
            "width": null
          }
        },
        "a35b4a6fe52b465689352cd97539c20a": {
          "model_module": "@jupyter-widgets/base",
          "model_module_version": "1.2.0",
          "model_name": "LayoutModel",
          "state": {
            "_model_module": "@jupyter-widgets/base",
            "_model_module_version": "1.2.0",
            "_model_name": "LayoutModel",
            "_view_count": null,
            "_view_module": "@jupyter-widgets/base",
            "_view_module_version": "1.2.0",
            "_view_name": "LayoutView",
            "align_content": null,
            "align_items": null,
            "align_self": null,
            "border": null,
            "bottom": null,
            "display": null,
            "flex": null,
            "flex_flow": null,
            "grid_area": null,
            "grid_auto_columns": null,
            "grid_auto_flow": null,
            "grid_auto_rows": null,
            "grid_column": null,
            "grid_gap": null,
            "grid_row": null,
            "grid_template_areas": null,
            "grid_template_columns": null,
            "grid_template_rows": null,
            "height": null,
            "justify_content": null,
            "justify_items": null,
            "left": null,
            "margin": null,
            "max_height": null,
            "max_width": null,
            "min_height": null,
            "min_width": null,
            "object_fit": null,
            "object_position": null,
            "order": null,
            "overflow": null,
            "overflow_x": null,
            "overflow_y": null,
            "padding": null,
            "right": null,
            "top": null,
            "visibility": null,
            "width": null
          }
        },
        "a6a79497dc094e4d93c41b0f7911dfc4": {
          "model_module": "@jupyter-widgets/controls",
          "model_module_version": "1.5.0",
          "model_name": "HTMLModel",
          "state": {
            "_dom_classes": [],
            "_model_module": "@jupyter-widgets/controls",
            "_model_module_version": "1.5.0",
            "_model_name": "HTMLModel",
            "_view_count": null,
            "_view_module": "@jupyter-widgets/controls",
            "_view_module_version": "1.5.0",
            "_view_name": "HTMLView",
            "description": "",
            "description_tooltip": null,
            "layout": "IPY_MODEL_ae40ce69e20a4049bb674a7c9f153952",
            "placeholder": "​",
            "style": "IPY_MODEL_e52368304f4b4f509887618930b8d658",
            "value": " 112/112 [00:00&lt;00:00, 2.54kB/s]"
          }
        },
        "abfbc726b3cd41eebfa183bc044525c5": {
          "model_module": "@jupyter-widgets/controls",
          "model_module_version": "1.5.0",
          "model_name": "ProgressStyleModel",
          "state": {
            "_model_module": "@jupyter-widgets/controls",
            "_model_module_version": "1.5.0",
            "_model_name": "ProgressStyleModel",
            "_view_count": null,
            "_view_module": "@jupyter-widgets/base",
            "_view_module_version": "1.2.0",
            "_view_name": "StyleView",
            "bar_color": null,
            "description_width": ""
          }
        },
        "acac975cb503420f9abaab070d4c8eaa": {
          "model_module": "@jupyter-widgets/controls",
          "model_module_version": "1.5.0",
          "model_name": "ProgressStyleModel",
          "state": {
            "_model_module": "@jupyter-widgets/controls",
            "_model_module_version": "1.5.0",
            "_model_name": "ProgressStyleModel",
            "_view_count": null,
            "_view_module": "@jupyter-widgets/base",
            "_view_module_version": "1.2.0",
            "_view_name": "StyleView",
            "bar_color": null,
            "description_width": ""
          }
        },
        "ad3651c8685646abb1f9c3dc128495d2": {
          "model_module": "@jupyter-widgets/controls",
          "model_module_version": "1.5.0",
          "model_name": "HBoxModel",
          "state": {
            "_dom_classes": [],
            "_model_module": "@jupyter-widgets/controls",
            "_model_module_version": "1.5.0",
            "_model_name": "HBoxModel",
            "_view_count": null,
            "_view_module": "@jupyter-widgets/controls",
            "_view_module_version": "1.5.0",
            "_view_name": "HBoxView",
            "box_style": "",
            "children": [
              "IPY_MODEL_59819e672efd4f22a62625247e372609",
              "IPY_MODEL_8607518b2f3b4b2e8ea0b06613b1c9e1",
              "IPY_MODEL_99a32b1d15484bf7a5fa5b0d33ef780b"
            ],
            "layout": "IPY_MODEL_af3a85aaff8648e5bfa7a16158b11a77"
          }
        },
        "ae40ce69e20a4049bb674a7c9f153952": {
          "model_module": "@jupyter-widgets/base",
          "model_module_version": "1.2.0",
          "model_name": "LayoutModel",
          "state": {
            "_model_module": "@jupyter-widgets/base",
            "_model_module_version": "1.2.0",
            "_model_name": "LayoutModel",
            "_view_count": null,
            "_view_module": "@jupyter-widgets/base",
            "_view_module_version": "1.2.0",
            "_view_name": "LayoutView",
            "align_content": null,
            "align_items": null,
            "align_self": null,
            "border": null,
            "bottom": null,
            "display": null,
            "flex": null,
            "flex_flow": null,
            "grid_area": null,
            "grid_auto_columns": null,
            "grid_auto_flow": null,
            "grid_auto_rows": null,
            "grid_column": null,
            "grid_gap": null,
            "grid_row": null,
            "grid_template_areas": null,
            "grid_template_columns": null,
            "grid_template_rows": null,
            "height": null,
            "justify_content": null,
            "justify_items": null,
            "left": null,
            "margin": null,
            "max_height": null,
            "max_width": null,
            "min_height": null,
            "min_width": null,
            "object_fit": null,
            "object_position": null,
            "order": null,
            "overflow": null,
            "overflow_x": null,
            "overflow_y": null,
            "padding": null,
            "right": null,
            "top": null,
            "visibility": null,
            "width": null
          }
        },
        "af3a85aaff8648e5bfa7a16158b11a77": {
          "model_module": "@jupyter-widgets/base",
          "model_module_version": "1.2.0",
          "model_name": "LayoutModel",
          "state": {
            "_model_module": "@jupyter-widgets/base",
            "_model_module_version": "1.2.0",
            "_model_name": "LayoutModel",
            "_view_count": null,
            "_view_module": "@jupyter-widgets/base",
            "_view_module_version": "1.2.0",
            "_view_name": "LayoutView",
            "align_content": null,
            "align_items": null,
            "align_self": null,
            "border": null,
            "bottom": null,
            "display": null,
            "flex": null,
            "flex_flow": null,
            "grid_area": null,
            "grid_auto_columns": null,
            "grid_auto_flow": null,
            "grid_auto_rows": null,
            "grid_column": null,
            "grid_gap": null,
            "grid_row": null,
            "grid_template_areas": null,
            "grid_template_columns": null,
            "grid_template_rows": null,
            "height": null,
            "justify_content": null,
            "justify_items": null,
            "left": null,
            "margin": null,
            "max_height": null,
            "max_width": null,
            "min_height": null,
            "min_width": null,
            "object_fit": null,
            "object_position": null,
            "order": null,
            "overflow": null,
            "overflow_x": null,
            "overflow_y": null,
            "padding": null,
            "right": null,
            "top": null,
            "visibility": null,
            "width": null
          }
        },
        "b0da77a682a14496b0a0264ae071f895": {
          "model_module": "@jupyter-widgets/base",
          "model_module_version": "1.2.0",
          "model_name": "LayoutModel",
          "state": {
            "_model_module": "@jupyter-widgets/base",
            "_model_module_version": "1.2.0",
            "_model_name": "LayoutModel",
            "_view_count": null,
            "_view_module": "@jupyter-widgets/base",
            "_view_module_version": "1.2.0",
            "_view_name": "LayoutView",
            "align_content": null,
            "align_items": null,
            "align_self": null,
            "border": null,
            "bottom": null,
            "display": null,
            "flex": null,
            "flex_flow": null,
            "grid_area": null,
            "grid_auto_columns": null,
            "grid_auto_flow": null,
            "grid_auto_rows": null,
            "grid_column": null,
            "grid_gap": null,
            "grid_row": null,
            "grid_template_areas": null,
            "grid_template_columns": null,
            "grid_template_rows": null,
            "height": null,
            "justify_content": null,
            "justify_items": null,
            "left": null,
            "margin": null,
            "max_height": null,
            "max_width": null,
            "min_height": null,
            "min_width": null,
            "object_fit": null,
            "object_position": null,
            "order": null,
            "overflow": null,
            "overflow_x": null,
            "overflow_y": null,
            "padding": null,
            "right": null,
            "top": null,
            "visibility": null,
            "width": null
          }
        },
        "b2a739d2788e4be7bc3bf35baf947b47": {
          "model_module": "@jupyter-widgets/controls",
          "model_module_version": "1.5.0",
          "model_name": "HTMLModel",
          "state": {
            "_dom_classes": [],
            "_model_module": "@jupyter-widgets/controls",
            "_model_module_version": "1.5.0",
            "_model_name": "HTMLModel",
            "_view_count": null,
            "_view_module": "@jupyter-widgets/controls",
            "_view_module_version": "1.5.0",
            "_view_name": "HTMLView",
            "description": "",
            "description_tooltip": null,
            "layout": "IPY_MODEL_5e037bcb906543348876054cb0ebfe0e",
            "placeholder": "​",
            "style": "IPY_MODEL_c1092af7a9204cc39d1b708ea1c1e4df",
            "value": " 545M/545M [00:20&lt;00:00, 33.5MB/s]"
          }
        },
        "b4a14a175a414d6ca739950e8fb92d24": {
          "model_module": "@jupyter-widgets/controls",
          "model_module_version": "1.5.0",
          "model_name": "DescriptionStyleModel",
          "state": {
            "_model_module": "@jupyter-widgets/controls",
            "_model_module_version": "1.5.0",
            "_model_name": "DescriptionStyleModel",
            "_view_count": null,
            "_view_module": "@jupyter-widgets/base",
            "_view_module_version": "1.2.0",
            "_view_name": "StyleView",
            "description_width": ""
          }
        },
        "bd31d294670b4dc1aaa7068c07d1adcc": {
          "model_module": "@jupyter-widgets/base",
          "model_module_version": "1.2.0",
          "model_name": "LayoutModel",
          "state": {
            "_model_module": "@jupyter-widgets/base",
            "_model_module_version": "1.2.0",
            "_model_name": "LayoutModel",
            "_view_count": null,
            "_view_module": "@jupyter-widgets/base",
            "_view_module_version": "1.2.0",
            "_view_name": "LayoutView",
            "align_content": null,
            "align_items": null,
            "align_self": null,
            "border": null,
            "bottom": null,
            "display": null,
            "flex": null,
            "flex_flow": null,
            "grid_area": null,
            "grid_auto_columns": null,
            "grid_auto_flow": null,
            "grid_auto_rows": null,
            "grid_column": null,
            "grid_gap": null,
            "grid_row": null,
            "grid_template_areas": null,
            "grid_template_columns": null,
            "grid_template_rows": null,
            "height": null,
            "justify_content": null,
            "justify_items": null,
            "left": null,
            "margin": null,
            "max_height": null,
            "max_width": null,
            "min_height": null,
            "min_width": null,
            "object_fit": null,
            "object_position": null,
            "order": null,
            "overflow": null,
            "overflow_x": null,
            "overflow_y": null,
            "padding": null,
            "right": null,
            "top": null,
            "visibility": null,
            "width": null
          }
        },
        "c0a4680b3c714d6791c6766a72bd1d53": {
          "model_module": "@jupyter-widgets/base",
          "model_module_version": "1.2.0",
          "model_name": "LayoutModel",
          "state": {
            "_model_module": "@jupyter-widgets/base",
            "_model_module_version": "1.2.0",
            "_model_name": "LayoutModel",
            "_view_count": null,
            "_view_module": "@jupyter-widgets/base",
            "_view_module_version": "1.2.0",
            "_view_name": "LayoutView",
            "align_content": null,
            "align_items": null,
            "align_self": null,
            "border": null,
            "bottom": null,
            "display": null,
            "flex": null,
            "flex_flow": null,
            "grid_area": null,
            "grid_auto_columns": null,
            "grid_auto_flow": null,
            "grid_auto_rows": null,
            "grid_column": null,
            "grid_gap": null,
            "grid_row": null,
            "grid_template_areas": null,
            "grid_template_columns": null,
            "grid_template_rows": null,
            "height": null,
            "justify_content": null,
            "justify_items": null,
            "left": null,
            "margin": null,
            "max_height": null,
            "max_width": null,
            "min_height": null,
            "min_width": null,
            "object_fit": null,
            "object_position": null,
            "order": null,
            "overflow": null,
            "overflow_x": null,
            "overflow_y": null,
            "padding": null,
            "right": null,
            "top": null,
            "visibility": null,
            "width": null
          }
        },
        "c1092af7a9204cc39d1b708ea1c1e4df": {
          "model_module": "@jupyter-widgets/controls",
          "model_module_version": "1.5.0",
          "model_name": "DescriptionStyleModel",
          "state": {
            "_model_module": "@jupyter-widgets/controls",
            "_model_module_version": "1.5.0",
            "_model_name": "DescriptionStyleModel",
            "_view_count": null,
            "_view_module": "@jupyter-widgets/base",
            "_view_module_version": "1.2.0",
            "_view_name": "StyleView",
            "description_width": ""
          }
        },
        "c1cf4cf540f543918f6841b92f8db729": {
          "model_module": "@jupyter-widgets/base",
          "model_module_version": "1.2.0",
          "model_name": "LayoutModel",
          "state": {
            "_model_module": "@jupyter-widgets/base",
            "_model_module_version": "1.2.0",
            "_model_name": "LayoutModel",
            "_view_count": null,
            "_view_module": "@jupyter-widgets/base",
            "_view_module_version": "1.2.0",
            "_view_name": "LayoutView",
            "align_content": null,
            "align_items": null,
            "align_self": null,
            "border": null,
            "bottom": null,
            "display": null,
            "flex": null,
            "flex_flow": null,
            "grid_area": null,
            "grid_auto_columns": null,
            "grid_auto_flow": null,
            "grid_auto_rows": null,
            "grid_column": null,
            "grid_gap": null,
            "grid_row": null,
            "grid_template_areas": null,
            "grid_template_columns": null,
            "grid_template_rows": null,
            "height": null,
            "justify_content": null,
            "justify_items": null,
            "left": null,
            "margin": null,
            "max_height": null,
            "max_width": null,
            "min_height": null,
            "min_width": null,
            "object_fit": null,
            "object_position": null,
            "order": null,
            "overflow": null,
            "overflow_x": null,
            "overflow_y": null,
            "padding": null,
            "right": null,
            "top": null,
            "visibility": null,
            "width": null
          }
        },
        "c94e36a6beb54c0b8c72cea988828dce": {
          "model_module": "@jupyter-widgets/controls",
          "model_module_version": "1.5.0",
          "model_name": "DescriptionStyleModel",
          "state": {
            "_model_module": "@jupyter-widgets/controls",
            "_model_module_version": "1.5.0",
            "_model_name": "DescriptionStyleModel",
            "_view_count": null,
            "_view_module": "@jupyter-widgets/base",
            "_view_module_version": "1.2.0",
            "_view_name": "StyleView",
            "description_width": ""
          }
        },
        "cbfbd9c8967846fc827e9d8bc007cccd": {
          "model_module": "@jupyter-widgets/controls",
          "model_module_version": "1.5.0",
          "model_name": "DescriptionStyleModel",
          "state": {
            "_model_module": "@jupyter-widgets/controls",
            "_model_module_version": "1.5.0",
            "_model_name": "DescriptionStyleModel",
            "_view_count": null,
            "_view_module": "@jupyter-widgets/base",
            "_view_module_version": "1.2.0",
            "_view_name": "StyleView",
            "description_width": ""
          }
        },
        "d205c68b937144358edb2d217fed21cf": {
          "model_module": "@jupyter-widgets/controls",
          "model_module_version": "1.5.0",
          "model_name": "HBoxModel",
          "state": {
            "_dom_classes": [],
            "_model_module": "@jupyter-widgets/controls",
            "_model_module_version": "1.5.0",
            "_model_name": "HBoxModel",
            "_view_count": null,
            "_view_module": "@jupyter-widgets/controls",
            "_view_module_version": "1.5.0",
            "_view_name": "HBoxView",
            "box_style": "",
            "children": [
              "IPY_MODEL_4fca74b4b9c04d0f8c904c5f7aad4f1b",
              "IPY_MODEL_37b7ece809e947f39dec58d7ea35b31a",
              "IPY_MODEL_fd0f44a5d86c47f98efdb736f0d98766"
            ],
            "layout": "IPY_MODEL_e827da9249724ae5b28ba7a66cee8eca"
          }
        },
        "d3b089c555e74be7806c822e0dab7da9": {
          "model_module": "@jupyter-widgets/controls",
          "model_module_version": "1.5.0",
          "model_name": "ProgressStyleModel",
          "state": {
            "_model_module": "@jupyter-widgets/controls",
            "_model_module_version": "1.5.0",
            "_model_name": "ProgressStyleModel",
            "_view_count": null,
            "_view_module": "@jupyter-widgets/base",
            "_view_module_version": "1.2.0",
            "_view_name": "StyleView",
            "bar_color": null,
            "description_width": ""
          }
        },
        "d85917510dc14c5083a7f96d72f9059d": {
          "model_module": "@jupyter-widgets/base",
          "model_module_version": "1.2.0",
          "model_name": "LayoutModel",
          "state": {
            "_model_module": "@jupyter-widgets/base",
            "_model_module_version": "1.2.0",
            "_model_name": "LayoutModel",
            "_view_count": null,
            "_view_module": "@jupyter-widgets/base",
            "_view_module_version": "1.2.0",
            "_view_name": "LayoutView",
            "align_content": null,
            "align_items": null,
            "align_self": null,
            "border": null,
            "bottom": null,
            "display": null,
            "flex": null,
            "flex_flow": null,
            "grid_area": null,
            "grid_auto_columns": null,
            "grid_auto_flow": null,
            "grid_auto_rows": null,
            "grid_column": null,
            "grid_gap": null,
            "grid_row": null,
            "grid_template_areas": null,
            "grid_template_columns": null,
            "grid_template_rows": null,
            "height": null,
            "justify_content": null,
            "justify_items": null,
            "left": null,
            "margin": null,
            "max_height": null,
            "max_width": null,
            "min_height": null,
            "min_width": null,
            "object_fit": null,
            "object_position": null,
            "order": null,
            "overflow": null,
            "overflow_x": null,
            "overflow_y": null,
            "padding": null,
            "right": null,
            "top": null,
            "visibility": null,
            "width": null
          }
        },
        "dd9cb8f5017d4122b50eac34944dce56": {
          "model_module": "@jupyter-widgets/base",
          "model_module_version": "1.2.0",
          "model_name": "LayoutModel",
          "state": {
            "_model_module": "@jupyter-widgets/base",
            "_model_module_version": "1.2.0",
            "_model_name": "LayoutModel",
            "_view_count": null,
            "_view_module": "@jupyter-widgets/base",
            "_view_module_version": "1.2.0",
            "_view_name": "LayoutView",
            "align_content": null,
            "align_items": null,
            "align_self": null,
            "border": null,
            "bottom": null,
            "display": null,
            "flex": null,
            "flex_flow": null,
            "grid_area": null,
            "grid_auto_columns": null,
            "grid_auto_flow": null,
            "grid_auto_rows": null,
            "grid_column": null,
            "grid_gap": null,
            "grid_row": null,
            "grid_template_areas": null,
            "grid_template_columns": null,
            "grid_template_rows": null,
            "height": null,
            "justify_content": null,
            "justify_items": null,
            "left": null,
            "margin": null,
            "max_height": null,
            "max_width": null,
            "min_height": null,
            "min_width": null,
            "object_fit": null,
            "object_position": null,
            "order": null,
            "overflow": null,
            "overflow_x": null,
            "overflow_y": null,
            "padding": null,
            "right": null,
            "top": null,
            "visibility": null,
            "width": null
          }
        },
        "defa8b013be1493790a2646afcddd535": {
          "model_module": "@jupyter-widgets/controls",
          "model_module_version": "1.5.0",
          "model_name": "ProgressStyleModel",
          "state": {
            "_model_module": "@jupyter-widgets/controls",
            "_model_module_version": "1.5.0",
            "_model_name": "ProgressStyleModel",
            "_view_count": null,
            "_view_module": "@jupyter-widgets/base",
            "_view_module_version": "1.2.0",
            "_view_name": "StyleView",
            "bar_color": null,
            "description_width": ""
          }
        },
        "e0f63cbd1be34c0a8441b206dfee1385": {
          "model_module": "@jupyter-widgets/controls",
          "model_module_version": "1.5.0",
          "model_name": "FloatProgressModel",
          "state": {
            "_dom_classes": [],
            "_model_module": "@jupyter-widgets/controls",
            "_model_module_version": "1.5.0",
            "_model_name": "FloatProgressModel",
            "_view_count": null,
            "_view_module": "@jupyter-widgets/controls",
            "_view_module_version": "1.5.0",
            "_view_name": "ProgressView",
            "bar_style": "success",
            "description": "",
            "description_tooltip": null,
            "layout": "IPY_MODEL_a16824588bf5465686cbd230a675fa2b",
            "max": 229513,
            "min": 0,
            "orientation": "horizontal",
            "style": "IPY_MODEL_92c3dae328f5463695494a08698bce0d",
            "value": 229513
          }
        },
        "e135d5cb489d459bbb122a650d3fe55d": {
          "model_module": "@jupyter-widgets/controls",
          "model_module_version": "1.5.0",
          "model_name": "FloatProgressModel",
          "state": {
            "_dom_classes": [],
            "_model_module": "@jupyter-widgets/controls",
            "_model_module_version": "1.5.0",
            "_model_name": "FloatProgressModel",
            "_view_count": null,
            "_view_module": "@jupyter-widgets/controls",
            "_view_module_version": "1.5.0",
            "_view_name": "ProgressView",
            "bar_style": "success",
            "description": "",
            "description_tooltip": null,
            "layout": "IPY_MODEL_376cb3d45a6b4ec58009efa562d19930",
            "max": 468,
            "min": 0,
            "orientation": "horizontal",
            "style": "IPY_MODEL_acac975cb503420f9abaab070d4c8eaa",
            "value": 468
          }
        },
        "e52368304f4b4f509887618930b8d658": {
          "model_module": "@jupyter-widgets/controls",
          "model_module_version": "1.5.0",
          "model_name": "DescriptionStyleModel",
          "state": {
            "_model_module": "@jupyter-widgets/controls",
            "_model_module_version": "1.5.0",
            "_model_name": "DescriptionStyleModel",
            "_view_count": null,
            "_view_module": "@jupyter-widgets/base",
            "_view_module_version": "1.2.0",
            "_view_name": "StyleView",
            "description_width": ""
          }
        },
        "e5806b88320b45ef9b6d0ebdee6f6fb7": {
          "model_module": "@jupyter-widgets/controls",
          "model_module_version": "1.5.0",
          "model_name": "DescriptionStyleModel",
          "state": {
            "_model_module": "@jupyter-widgets/controls",
            "_model_module_version": "1.5.0",
            "_model_name": "DescriptionStyleModel",
            "_view_count": null,
            "_view_module": "@jupyter-widgets/base",
            "_view_module_version": "1.2.0",
            "_view_name": "StyleView",
            "description_width": ""
          }
        },
        "e715acca90da47e281c6d05442c617b6": {
          "model_module": "@jupyter-widgets/base",
          "model_module_version": "1.2.0",
          "model_name": "LayoutModel",
          "state": {
            "_model_module": "@jupyter-widgets/base",
            "_model_module_version": "1.2.0",
            "_model_name": "LayoutModel",
            "_view_count": null,
            "_view_module": "@jupyter-widgets/base",
            "_view_module_version": "1.2.0",
            "_view_name": "LayoutView",
            "align_content": null,
            "align_items": null,
            "align_self": null,
            "border": null,
            "bottom": null,
            "display": null,
            "flex": null,
            "flex_flow": null,
            "grid_area": null,
            "grid_auto_columns": null,
            "grid_auto_flow": null,
            "grid_auto_rows": null,
            "grid_column": null,
            "grid_gap": null,
            "grid_row": null,
            "grid_template_areas": null,
            "grid_template_columns": null,
            "grid_template_rows": null,
            "height": null,
            "justify_content": null,
            "justify_items": null,
            "left": null,
            "margin": null,
            "max_height": null,
            "max_width": null,
            "min_height": null,
            "min_width": null,
            "object_fit": null,
            "object_position": null,
            "order": null,
            "overflow": null,
            "overflow_x": null,
            "overflow_y": null,
            "padding": null,
            "right": null,
            "top": null,
            "visibility": null,
            "width": null
          }
        },
        "e827da9249724ae5b28ba7a66cee8eca": {
          "model_module": "@jupyter-widgets/base",
          "model_module_version": "1.2.0",
          "model_name": "LayoutModel",
          "state": {
            "_model_module": "@jupyter-widgets/base",
            "_model_module_version": "1.2.0",
            "_model_name": "LayoutModel",
            "_view_count": null,
            "_view_module": "@jupyter-widgets/base",
            "_view_module_version": "1.2.0",
            "_view_name": "LayoutView",
            "align_content": null,
            "align_items": null,
            "align_self": null,
            "border": null,
            "bottom": null,
            "display": null,
            "flex": null,
            "flex_flow": null,
            "grid_area": null,
            "grid_auto_columns": null,
            "grid_auto_flow": null,
            "grid_auto_rows": null,
            "grid_column": null,
            "grid_gap": null,
            "grid_row": null,
            "grid_template_areas": null,
            "grid_template_columns": null,
            "grid_template_rows": null,
            "height": null,
            "justify_content": null,
            "justify_items": null,
            "left": null,
            "margin": null,
            "max_height": null,
            "max_width": null,
            "min_height": null,
            "min_width": null,
            "object_fit": null,
            "object_position": null,
            "order": null,
            "overflow": null,
            "overflow_x": null,
            "overflow_y": null,
            "padding": null,
            "right": null,
            "top": null,
            "visibility": null,
            "width": null
          }
        },
        "eff0b5e2a647473faccc410eef87039e": {
          "model_module": "@jupyter-widgets/controls",
          "model_module_version": "1.5.0",
          "model_name": "FloatProgressModel",
          "state": {
            "_dom_classes": [],
            "_model_module": "@jupyter-widgets/controls",
            "_model_module_version": "1.5.0",
            "_model_name": "FloatProgressModel",
            "_view_count": null,
            "_view_module": "@jupyter-widgets/controls",
            "_view_module_version": "1.5.0",
            "_view_name": "ProgressView",
            "bar_style": "success",
            "description": "",
            "description_tooltip": null,
            "layout": "IPY_MODEL_dd9cb8f5017d4122b50eac34944dce56",
            "max": 112,
            "min": 0,
            "orientation": "horizontal",
            "style": "IPY_MODEL_479d74be7e794fe0afc070d706c0eaf6",
            "value": 112
          }
        },
        "f0fb20f4be2049258cabd3a77b3f017d": {
          "model_module": "@jupyter-widgets/base",
          "model_module_version": "1.2.0",
          "model_name": "LayoutModel",
          "state": {
            "_model_module": "@jupyter-widgets/base",
            "_model_module_version": "1.2.0",
            "_model_name": "LayoutModel",
            "_view_count": null,
            "_view_module": "@jupyter-widgets/base",
            "_view_module_version": "1.2.0",
            "_view_name": "LayoutView",
            "align_content": null,
            "align_items": null,
            "align_self": null,
            "border": null,
            "bottom": null,
            "display": null,
            "flex": null,
            "flex_flow": null,
            "grid_area": null,
            "grid_auto_columns": null,
            "grid_auto_flow": null,
            "grid_auto_rows": null,
            "grid_column": null,
            "grid_gap": null,
            "grid_row": null,
            "grid_template_areas": null,
            "grid_template_columns": null,
            "grid_template_rows": null,
            "height": null,
            "justify_content": null,
            "justify_items": null,
            "left": null,
            "margin": null,
            "max_height": null,
            "max_width": null,
            "min_height": null,
            "min_width": null,
            "object_fit": null,
            "object_position": null,
            "order": null,
            "overflow": null,
            "overflow_x": null,
            "overflow_y": null,
            "padding": null,
            "right": null,
            "top": null,
            "visibility": null,
            "width": null
          }
        },
        "f10ca26d5ad342468e672cdcc7e5f78d": {
          "model_module": "@jupyter-widgets/controls",
          "model_module_version": "1.5.0",
          "model_name": "FloatProgressModel",
          "state": {
            "_dom_classes": [],
            "_model_module": "@jupyter-widgets/controls",
            "_model_module_version": "1.5.0",
            "_model_name": "FloatProgressModel",
            "_view_count": null,
            "_view_module": "@jupyter-widgets/controls",
            "_view_module_version": "1.5.0",
            "_view_name": "ProgressView",
            "bar_style": "success",
            "description": "",
            "description_tooltip": null,
            "layout": "IPY_MODEL_2148dfaecacb4328ab3e59fdb524ea04",
            "max": 545136632,
            "min": 0,
            "orientation": "horizontal",
            "style": "IPY_MODEL_d3b089c555e74be7806c822e0dab7da9",
            "value": 545136632
          }
        },
        "f1790d0f55964848891eef74caccf443": {
          "model_module": "@jupyter-widgets/base",
          "model_module_version": "1.2.0",
          "model_name": "LayoutModel",
          "state": {
            "_model_module": "@jupyter-widgets/base",
            "_model_module_version": "1.2.0",
            "_model_name": "LayoutModel",
            "_view_count": null,
            "_view_module": "@jupyter-widgets/base",
            "_view_module_version": "1.2.0",
            "_view_name": "LayoutView",
            "align_content": null,
            "align_items": null,
            "align_self": null,
            "border": null,
            "bottom": null,
            "display": null,
            "flex": null,
            "flex_flow": null,
            "grid_area": null,
            "grid_auto_columns": null,
            "grid_auto_flow": null,
            "grid_auto_rows": null,
            "grid_column": null,
            "grid_gap": null,
            "grid_row": null,
            "grid_template_areas": null,
            "grid_template_columns": null,
            "grid_template_rows": null,
            "height": null,
            "justify_content": null,
            "justify_items": null,
            "left": null,
            "margin": null,
            "max_height": null,
            "max_width": null,
            "min_height": null,
            "min_width": null,
            "object_fit": null,
            "object_position": null,
            "order": null,
            "overflow": null,
            "overflow_x": null,
            "overflow_y": null,
            "padding": null,
            "right": null,
            "top": null,
            "visibility": null,
            "width": null
          }
        },
        "fa7e1b34087e4b1f944e8145ec9e7b3d": {
          "model_module": "@jupyter-widgets/base",
          "model_module_version": "1.2.0",
          "model_name": "LayoutModel",
          "state": {
            "_model_module": "@jupyter-widgets/base",
            "_model_module_version": "1.2.0",
            "_model_name": "LayoutModel",
            "_view_count": null,
            "_view_module": "@jupyter-widgets/base",
            "_view_module_version": "1.2.0",
            "_view_name": "LayoutView",
            "align_content": null,
            "align_items": null,
            "align_self": null,
            "border": null,
            "bottom": null,
            "display": null,
            "flex": null,
            "flex_flow": null,
            "grid_area": null,
            "grid_auto_columns": null,
            "grid_auto_flow": null,
            "grid_auto_rows": null,
            "grid_column": null,
            "grid_gap": null,
            "grid_row": null,
            "grid_template_areas": null,
            "grid_template_columns": null,
            "grid_template_rows": null,
            "height": null,
            "justify_content": null,
            "justify_items": null,
            "left": null,
            "margin": null,
            "max_height": null,
            "max_width": null,
            "min_height": null,
            "min_width": null,
            "object_fit": null,
            "object_position": null,
            "order": null,
            "overflow": null,
            "overflow_x": null,
            "overflow_y": null,
            "padding": null,
            "right": null,
            "top": null,
            "visibility": null,
            "width": null
          }
        },
        "faf67fab6f7744dcb9318c78dce38a53": {
          "model_module": "@jupyter-widgets/controls",
          "model_module_version": "1.5.0",
          "model_name": "HTMLModel",
          "state": {
            "_dom_classes": [],
            "_model_module": "@jupyter-widgets/controls",
            "_model_module_version": "1.5.0",
            "_model_name": "HTMLModel",
            "_view_count": null,
            "_view_module": "@jupyter-widgets/controls",
            "_view_module_version": "1.5.0",
            "_view_name": "HTMLView",
            "description": "",
            "description_tooltip": null,
            "layout": "IPY_MODEL_530a7753753741e2b75a6092154a9df8",
            "placeholder": "​",
            "style": "IPY_MODEL_cbfbd9c8967846fc827e9d8bc007cccd",
            "value": " 112/112 [00:00&lt;00:00, 1.12kB/s]"
          }
        },
        "fc2276ada14044059f75283b9012a1f4": {
          "model_module": "@jupyter-widgets/controls",
          "model_module_version": "1.5.0",
          "model_name": "DescriptionStyleModel",
          "state": {
            "_model_module": "@jupyter-widgets/controls",
            "_model_module_version": "1.5.0",
            "_model_name": "DescriptionStyleModel",
            "_view_count": null,
            "_view_module": "@jupyter-widgets/base",
            "_view_module_version": "1.2.0",
            "_view_name": "StyleView",
            "description_width": ""
          }
        },
        "fd0f44a5d86c47f98efdb736f0d98766": {
          "model_module": "@jupyter-widgets/controls",
          "model_module_version": "1.5.0",
          "model_name": "HTMLModel",
          "state": {
            "_dom_classes": [],
            "_model_module": "@jupyter-widgets/controls",
            "_model_module_version": "1.5.0",
            "_model_name": "HTMLModel",
            "_view_count": null,
            "_view_module": "@jupyter-widgets/controls",
            "_view_module_version": "1.5.0",
            "_view_name": "HTMLView",
            "description": "",
            "description_tooltip": null,
            "layout": "IPY_MODEL_2e84fed53fc64135ad126622794eed56",
            "placeholder": "​",
            "style": "IPY_MODEL_899fba0210cc42e5a39367d985c9af93",
            "value": " 62.0/62.0 [00:00&lt;00:00, 627B/s]"
          }
        },
        "ff290d97b613401d8ad12a810ec891f5": {
          "model_module": "@jupyter-widgets/base",
          "model_module_version": "1.2.0",
          "model_name": "LayoutModel",
          "state": {
            "_model_module": "@jupyter-widgets/base",
            "_model_module_version": "1.2.0",
            "_model_name": "LayoutModel",
            "_view_count": null,
            "_view_module": "@jupyter-widgets/base",
            "_view_module_version": "1.2.0",
            "_view_name": "LayoutView",
            "align_content": null,
            "align_items": null,
            "align_self": null,
            "border": null,
            "bottom": null,
            "display": null,
            "flex": null,
            "flex_flow": null,
            "grid_area": null,
            "grid_auto_columns": null,
            "grid_auto_flow": null,
            "grid_auto_rows": null,
            "grid_column": null,
            "grid_gap": null,
            "grid_row": null,
            "grid_template_areas": null,
            "grid_template_columns": null,
            "grid_template_rows": null,
            "height": null,
            "justify_content": null,
            "justify_items": null,
            "left": null,
            "margin": null,
            "max_height": null,
            "max_width": null,
            "min_height": null,
            "min_width": null,
            "object_fit": null,
            "object_position": null,
            "order": null,
            "overflow": null,
            "overflow_x": null,
            "overflow_y": null,
            "padding": null,
            "right": null,
            "top": null,
            "visibility": null,
            "width": null
          }
        }
      }
    }
  },
  "nbformat": 4,
  "nbformat_minor": 5
}
